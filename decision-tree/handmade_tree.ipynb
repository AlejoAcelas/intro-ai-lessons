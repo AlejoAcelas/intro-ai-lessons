{
 "cells": [
  {
   "cell_type": "markdown",
   "metadata": {},
   "source": [
    "# Set Up (Don't read, just run)"
   ]
  },
  {
   "cell_type": "code",
   "execution_count": 30,
   "metadata": {},
   "outputs": [],
   "source": [
    "import pandas as pd\n",
    "import numpy as np\n",
    "import ipywidgets as widgets\n",
    "from IPython.display import display\n",
    "\n",
    "class DecisionTreeVisualizer:\n",
    "    def __init__(self, X, y):\n",
    "        self.X = X\n",
    "        self.y = y\n",
    "        \n",
    "        # Common widget parameters\n",
    "        self.COMMON_STYLE = {'description_width': 'initial'}\n",
    "        self.FEATURE_OPTIONS = X.columns\n",
    "        self.SLIDER_PARAMS = {\n",
    "            'min': 0,\n",
    "            'max': 500,\n",
    "            'step': 1,\n",
    "            'description': 'Split Value:',\n",
    "            'style': self.COMMON_STYLE\n",
    "        }\n",
    "        \n",
    "        # Create widgets\n",
    "        self.level1_feature, self.level1_value = self.create_split_widgets('level1')[:2]\n",
    "        self.left_feature, self.left_value, self.left_checkbox = self.create_split_widgets('left')\n",
    "        self.right_feature, self.right_value, self.right_checkbox = self.create_split_widgets('right')\n",
    "        self.tree_output = widgets.Output()\n",
    "        self.accuracy_widget = widgets.HTML(\n",
    "            value='<h3 style=\"color: green; text-align: center;\">Current Accuracy: NaN</h3>'\n",
    "        )\n",
    "\n",
    "    def create_split_widgets(self, name):\n",
    "        \"\"\"Create a feature dropdown and value slider pair for a split\"\"\"\n",
    "        return (\n",
    "            widgets.Dropdown(\n",
    "                options=self.FEATURE_OPTIONS,\n",
    "                description='Feature to split on:',\n",
    "                style=self.COMMON_STYLE\n",
    "            ),\n",
    "            widgets.FloatSlider(**self.SLIDER_PARAMS),\n",
    "            widgets.Checkbox(\n",
    "                value=False,\n",
    "                description='Left leaf is mpg=1',\n",
    "                style=self.COMMON_STYLE\n",
    "            )\n",
    "        )\n",
    "\n",
    "    def update_slider_range(self, *args):\n",
    "        for feature, slider in [(self.level1_feature, self.level1_value),\n",
    "                              (self.left_feature, self.left_value),\n",
    "                              (self.right_feature, self.right_value)]:\n",
    "            min_val = self.X[feature.value].min()\n",
    "            max_val = self.X[feature.value].max()\n",
    "            median_val = self.X[feature.value].median()\n",
    "            \n",
    "            slider.min = -1e6\n",
    "            slider.max = 1e6\n",
    "            slider.min = min_val\n",
    "            slider.max = max_val\n",
    "            slider.value = median_val\n",
    "\n",
    "    def setup_dashboard(self):\n",
    "        self.level1_feature.observe(self.update_slider_range, 'value')\n",
    "        self.left_feature.observe(self.update_slider_range, 'value')\n",
    "        self.right_feature.observe(self.update_slider_range, 'value')\n",
    "\n",
    "        header1 = widgets.HTML(\"<h3>Level 1 Split</h3>\")\n",
    "        header2 = widgets.HTML(\"<h3>Level 2 Splits</h3>\")\n",
    "        output_header = widgets.HTML(\"<h2>Output Tree</h2\")\n",
    "\n",
    "        level1_box = widgets.VBox([self.level1_feature, self.level1_value],\n",
    "                                layout=widgets.Layout(align_items='center', width='100%'))\n",
    "        \n",
    "        left_box = widgets.VBox([\n",
    "            widgets.HTML(\"<b>Left Branch:</b>\"),\n",
    "            self.left_feature, \n",
    "            self.left_value, \n",
    "            self.left_checkbox\n",
    "        ])\n",
    "        \n",
    "        right_box = widgets.VBox([\n",
    "            widgets.HTML(\"<b>Right Branch:</b>\"),\n",
    "            self.right_feature, \n",
    "            self.right_value, \n",
    "            self.right_checkbox\n",
    "        ])\n",
    "        \n",
    "        level2_box = widgets.HBox([left_box, right_box], \n",
    "                                layout=widgets.Layout(justify_content='space-around'))\n",
    "        \n",
    "        output_box = widgets.VBox([output_header, self.tree_output, self.accuracy_widget],\n",
    "                                layout=widgets.Layout(align_items='center', width='100%'))\n",
    "        \n",
    "        display(header1)\n",
    "        display(level1_box)\n",
    "        display(header2)\n",
    "        display(level2_box)\n",
    "        display(output_box)\n",
    "        self.update_slider_range()\n",
    "\n",
    "    def evaluate_tree(self):\n",
    "        predictions = []\n",
    "        for i in range(len(self.X)):\n",
    "            if self.X[self.level1_feature.value].iloc[i] < self.level1_value.value:\n",
    "                if self.X[self.left_feature.value].iloc[i] < self.left_value.value:\n",
    "                    pred = 1 if self.left_checkbox.value else -1\n",
    "                else:\n",
    "                    pred = -1 if self.left_checkbox.value else 1\n",
    "            else:\n",
    "                if self.X[self.right_feature.value].iloc[i] < self.right_value.value:\n",
    "                    pred = 1 if self.right_checkbox.value else -1\n",
    "                else:\n",
    "                    pred = -1 if self.right_checkbox.value else 1\n",
    "            predictions.append(pred)\n",
    "        \n",
    "        accuracy = (np.array(predictions) == self.y).mean()\n",
    "        return accuracy\n",
    "\n",
    "    def visualize_tree(self, *args):\n",
    "        self.tree_output.clear_output(wait=True)\n",
    "        \n",
    "        with self.tree_output:\n",
    "            print(f\"                  {self.level1_feature.value} < {self.level1_value.value:.2f}\")\n",
    "            print(\"                 /                  \\\\\")\n",
    "            print(f\"    {self.left_feature.value} < {self.left_value.value:.2f}          {self.right_feature.value} < {self.right_value.value:.2f}\")\n",
    "            print(\"      /        \\\\              /        \\\\\")\n",
    "            left_left = \"mpg=1\" if self.left_checkbox.value else \"mpg=-1\"\n",
    "            left_right = \"mpg=-1\" if self.left_checkbox.value else \"mpg=1\"\n",
    "            right_left = \"mpg=1\" if self.right_checkbox.value else \"mpg=-1\"\n",
    "            right_right = \"mpg=-1\" if self.right_checkbox.value else \"mpg=1\"\n",
    "            print(f\"   {left_left}    {left_right}        {right_left}    {right_right}\")\n",
    "            \n",
    "        accuracy = self.evaluate_tree()\n",
    "        self.accuracy_widget.value = f'<h3 style=\"color: green; text-align: center;\">Current Accuracy: {accuracy:.3f}</h3>'\n",
    "\n",
    "    def run(self):\n",
    "        self.setup_dashboard()\n",
    "        for w in [self.level1_feature, self.level1_value, \n",
    "                 self.left_feature, self.left_value, \n",
    "                 self.right_feature, self.right_value,\n",
    "                 self.left_checkbox, self.right_checkbox]:\n",
    "            w.observe(self.visualize_tree, 'value')\n",
    "        self.visualize_tree()"
   ]
  },
  {
   "cell_type": "markdown",
   "metadata": {},
   "source": [
    "# Decision Trees: A Beginner's Guide\n",
    "\n",
    "Imagine you're playing a game of \"20 Questions\" where you're trying to guess whether a car is fuel-efficient or not. That's essentially what a decision tree does! Let's break it down.\n",
    "\n",
    "## What is a Decision Tree?\n",
    "\n",
    "A decision tree is like a flowchart that helps make decisions by asking a series of yes/no questions. In your code example, you're trying to predict whether a car's MPG (miles per gallon) is high (1) or low (-1) based on features like:\n",
    "\n",
    "- Number of cylinders\n",
    "- Engine displacement\n",
    "- Horsepower\n",
    "- Weight\n",
    "- Acceleration\n",
    "- Model year\n",
    "- Origin\n",
    "\n",
    "## How Does it Work?\n",
    "\n",
    "1. **Starting at the Root**: The tree starts with a single question (called the root node). For example: \"Is the horsepower less than 130?\"\n",
    "\n",
    "2. **Following the Branches**: \n",
    "   - If YES → Go left\n",
    "   - If NO → Go right\n",
    "\n",
    "3. **Making Predictions**: Keep following the branches until you reach an end point (called a leaf), which gives you your prediction.\n",
    "\n",
    "Here's a simple example:\n",
    "```\n",
    "                Is horsepower < 130?\n",
    "               /                  \\\n",
    "              /                    \\\n",
    "           YES                      NO\n",
    "           /                          \\\n",
    "    Is weight < 3000?          Is cylinders < 6?\n",
    "      /           \\              /            \\\n",
    "   MPG=1        MPG=-1        MPG=-1        MPG=1\n",
    "(Efficient)  (Inefficient)  (Inefficient)  (Efficient)\n",
    "```\n",
    "\n",
    "## Why Use Decision Trees?\n",
    "\n",
    "1. **Easy to Understand**: Unlike complex algorithms, you can explain a decision tree's logic in plain English.\n",
    "2. **Powerful Foundation**: While simple decision trees are great for learning, techniques built upon them like Random Forests and XGBoost are among the most successful machine learning algorithms, often winning competitions and being used in industry.\n",
    "\n",
    "## Your Turn: Build a Decision Tree!\n",
    "\n",
    "Let's use the visualizations in the code to build our own decision tree. Look at the scatter plots and histograms and try to spot patterns:\n",
    "\n",
    "1. **Understand the Data**:\n",
    "    - Scatter plots help visualize relationships between two continuous variables (like displacement vs horsepower), with points colored by MPG to show where efficient/inefficient cars cluster\n",
    "    - Simple histograms split by MPG (color) show the distribution of a single variable and can reveal natural thresholds where efficient cars become more common than inefficient ones\n",
    "    - Faceted histograms are useful when examining how MPG patterns vary across categorical features like 'origin' that only take a few distinct values\n",
    "\n",
    "2. **Find Good Splits**:\n",
    "   Can you spot where efficient cars (MPG=1) cluster differently from inefficient ones (MPG=-1)? For example:\n",
    "   - Is there a clear horsepower threshold that separates efficient from inefficient cars?\n",
    "   - Do cars with different numbers of cylinders tend to have different MPG ratings?\n",
    "\n",
    "3. **Try Your Tree**:\n",
    "   Use the interactive widgets to build your tree:\n",
    "   - Choose your first split (root node) based on the strongest pattern you see\n",
    "   - Then choose two more splits (one for each branch) to refine your predictions\n",
    "   - Watch how the accuracy changes as you adjust your splits!\n",
    "\n",
    "The goal is to get the highest accuracy you can with just three questions (a depth-2 tree). Can you get above 80% accuracy?"
   ]
  },
  {
   "cell_type": "code",
   "execution_count": 26,
   "metadata": {},
   "outputs": [
    {
     "data": {
      "text/html": [
       "<div>\n",
       "<style scoped>\n",
       "    .dataframe tbody tr th:only-of-type {\n",
       "        vertical-align: middle;\n",
       "    }\n",
       "\n",
       "    .dataframe tbody tr th {\n",
       "        vertical-align: top;\n",
       "    }\n",
       "\n",
       "    .dataframe thead th {\n",
       "        text-align: right;\n",
       "    }\n",
       "</style>\n",
       "<table border=\"1\" class=\"dataframe\">\n",
       "  <thead>\n",
       "    <tr style=\"text-align: right;\">\n",
       "      <th></th>\n",
       "      <th>mpg</th>\n",
       "      <th>cylinders</th>\n",
       "      <th>displacement</th>\n",
       "      <th>horsepower</th>\n",
       "      <th>weight</th>\n",
       "      <th>acceleration</th>\n",
       "      <th>model_year</th>\n",
       "      <th>origin</th>\n",
       "      <th>car_name</th>\n",
       "    </tr>\n",
       "  </thead>\n",
       "  <tbody>\n",
       "    <tr>\n",
       "      <th>0</th>\n",
       "      <td>-1</td>\n",
       "      <td>8</td>\n",
       "      <td>304.0</td>\n",
       "      <td>193</td>\n",
       "      <td>4732</td>\n",
       "      <td>18.5</td>\n",
       "      <td>70</td>\n",
       "      <td>1</td>\n",
       "      <td>hi 1200d</td>\n",
       "    </tr>\n",
       "    <tr>\n",
       "      <th>1</th>\n",
       "      <td>-1</td>\n",
       "      <td>8</td>\n",
       "      <td>307.0</td>\n",
       "      <td>200</td>\n",
       "      <td>4376</td>\n",
       "      <td>15.0</td>\n",
       "      <td>70</td>\n",
       "      <td>1</td>\n",
       "      <td>chevy c20</td>\n",
       "    </tr>\n",
       "    <tr>\n",
       "      <th>2</th>\n",
       "      <td>-1</td>\n",
       "      <td>8</td>\n",
       "      <td>360.0</td>\n",
       "      <td>215</td>\n",
       "      <td>4615</td>\n",
       "      <td>14.0</td>\n",
       "      <td>70</td>\n",
       "      <td>1</td>\n",
       "      <td>ford f250</td>\n",
       "    </tr>\n",
       "    <tr>\n",
       "      <th>3</th>\n",
       "      <td>-1</td>\n",
       "      <td>8</td>\n",
       "      <td>318.0</td>\n",
       "      <td>210</td>\n",
       "      <td>4382</td>\n",
       "      <td>13.5</td>\n",
       "      <td>70</td>\n",
       "      <td>1</td>\n",
       "      <td>dodge d200</td>\n",
       "    </tr>\n",
       "    <tr>\n",
       "      <th>4</th>\n",
       "      <td>-1</td>\n",
       "      <td>8</td>\n",
       "      <td>350.0</td>\n",
       "      <td>180</td>\n",
       "      <td>3664</td>\n",
       "      <td>11.0</td>\n",
       "      <td>73</td>\n",
       "      <td>1</td>\n",
       "      <td>oldsmobile omega</td>\n",
       "    </tr>\n",
       "  </tbody>\n",
       "</table>\n",
       "</div>"
      ],
      "text/plain": [
       "   mpg  cylinders  displacement  horsepower  weight  acceleration  model_year  \\\n",
       "0   -1          8         304.0         193    4732          18.5          70   \n",
       "1   -1          8         307.0         200    4376          15.0          70   \n",
       "2   -1          8         360.0         215    4615          14.0          70   \n",
       "3   -1          8         318.0         210    4382          13.5          70   \n",
       "4   -1          8         350.0         180    3664          11.0          73   \n",
       "\n",
       "   origin          car_name  \n",
       "0       1          hi 1200d  \n",
       "1       1         chevy c20  \n",
       "2       1         ford f250  \n",
       "3       1        dodge d200  \n",
       "4       1  oldsmobile omega  "
      ]
     },
     "execution_count": 26,
     "metadata": {},
     "output_type": "execute_result"
    }
   ],
   "source": [
    "auto_mpg = pd.read_csv('decision-trees-v1/auto-mpg.tsv', delimiter='\\t')\n",
    "X = auto_mpg.iloc[:, 1:-1] # Exclude mpg and car_name\n",
    "y = auto_mpg.iloc[:, 0]\n",
    "\n",
    "auto_mpg.head()"
   ]
  },
  {
   "cell_type": "code",
   "execution_count": 29,
   "metadata": {},
   "outputs": [
    {
     "data": {
      "application/vnd.plotly.v1+json": {
       "config": {
        "plotlyServerURL": "https://plot.ly"
       },
       "data": [
        {
         "hovertemplate": "displacement=%{x}<br>horsepower=%{y}<br>mpg=%{marker.color}<extra></extra>",
         "legendgroup": "",
         "marker": {
          "color": [
           -1,
           -1,
           -1,
           -1,
           -1,
           -1,
           -1,
           -1,
           -1,
           -1,
           -1,
           -1,
           -1,
           -1,
           -1,
           -1,
           -1,
           -1,
           -1,
           -1,
           -1,
           -1,
           -1,
           -1,
           -1,
           -1,
           -1,
           -1,
           -1,
           -1,
           -1,
           -1,
           -1,
           -1,
           -1,
           -1,
           -1,
           -1,
           -1,
           -1,
           -1,
           -1,
           -1,
           -1,
           -1,
           -1,
           -1,
           -1,
           -1,
           -1,
           -1,
           -1,
           -1,
           -1,
           -1,
           -1,
           -1,
           -1,
           -1,
           -1,
           -1,
           -1,
           -1,
           -1,
           -1,
           -1,
           -1,
           -1,
           -1,
           -1,
           -1,
           -1,
           -1,
           -1,
           -1,
           -1,
           -1,
           -1,
           -1,
           -1,
           -1,
           -1,
           -1,
           -1,
           -1,
           -1,
           -1,
           -1,
           -1,
           -1,
           -1,
           -1,
           -1,
           -1,
           -1,
           -1,
           -1,
           -1,
           -1,
           -1,
           -1,
           -1,
           -1,
           -1,
           -1,
           -1,
           -1,
           -1,
           -1,
           -1,
           -1,
           -1,
           -1,
           -1,
           -1,
           -1,
           -1,
           -1,
           -1,
           -1,
           -1,
           -1,
           -1,
           -1,
           -1,
           -1,
           -1,
           -1,
           -1,
           -1,
           -1,
           -1,
           -1,
           -1,
           -1,
           -1,
           -1,
           -1,
           -1,
           -1,
           -1,
           -1,
           -1,
           -1,
           -1,
           -1,
           -1,
           -1,
           -1,
           -1,
           -1,
           -1,
           -1,
           -1,
           -1,
           -1,
           -1,
           -1,
           -1,
           -1,
           -1,
           -1,
           -1,
           -1,
           -1,
           -1,
           -1,
           -1,
           -1,
           -1,
           -1,
           -1,
           -1,
           -1,
           -1,
           -1,
           -1,
           -1,
           -1,
           -1,
           -1,
           -1,
           -1,
           -1,
           -1,
           -1,
           -1,
           -1,
           -1,
           -1,
           -1,
           -1,
           -1,
           -1,
           -1,
           -1,
           1,
           1,
           1,
           1,
           1,
           1,
           1,
           1,
           1,
           1,
           1,
           1,
           1,
           1,
           1,
           1,
           1,
           1,
           1,
           1,
           1,
           1,
           1,
           1,
           1,
           1,
           1,
           1,
           1,
           1,
           1,
           1,
           1,
           1,
           1,
           1,
           1,
           1,
           1,
           1,
           1,
           1,
           1,
           1,
           1,
           1,
           1,
           1,
           1,
           1,
           1,
           1,
           1,
           1,
           1,
           1,
           1,
           1,
           1,
           1,
           1,
           1,
           1,
           1,
           1,
           1,
           1,
           1,
           1,
           1,
           1,
           1,
           1,
           1,
           1,
           1,
           1,
           1,
           1,
           1,
           1,
           1,
           1,
           1,
           1,
           1,
           1,
           1,
           1,
           1,
           1,
           1,
           1,
           1,
           1,
           1,
           1,
           1,
           1,
           1,
           1,
           1,
           1,
           1,
           1,
           1,
           1,
           1,
           1,
           1,
           1,
           1,
           1,
           1,
           1,
           1,
           1,
           1,
           1,
           1,
           1,
           1,
           1,
           1,
           1,
           1,
           1,
           1,
           1,
           1,
           1,
           1,
           1,
           1,
           1,
           1,
           1,
           1,
           1,
           1,
           1,
           1,
           1,
           1,
           1,
           1,
           1,
           1,
           1,
           1,
           1,
           1,
           1,
           1,
           1,
           1,
           1,
           1,
           1,
           1,
           1,
           1,
           1,
           1,
           1,
           1,
           1,
           1,
           1,
           1,
           1,
           1,
           1,
           1,
           1,
           1,
           1,
           1,
           1,
           1,
           1,
           1,
           1,
           1,
           1,
           1,
           1,
           1,
           1,
           1,
           1,
           1,
           1,
           1,
           1,
           1
          ],
          "coloraxis": "coloraxis",
          "symbol": "circle"
         },
         "mode": "markers",
         "name": "",
         "orientation": "v",
         "showlegend": false,
         "type": "scatter",
         "x": [
          304,
          307,
          360,
          318,
          350,
          400,
          429,
          350,
          350,
          383,
          400,
          429,
          455,
          302,
          302,
          302,
          307,
          318,
          318,
          350,
          350,
          350,
          350,
          350,
          350,
          351,
          360,
          360,
          400,
          400,
          400,
          400,
          440,
          302,
          302,
          304,
          304,
          318,
          318,
          318,
          318,
          340,
          350,
          351,
          351,
          351,
          400,
          400,
          440,
          454,
          455,
          455,
          351,
          250,
          250,
          250,
          258,
          302,
          304,
          318,
          318,
          318,
          350,
          350,
          350,
          383,
          390,
          400,
          429,
          304,
          318,
          350,
          351,
          400,
          225,
          250,
          250,
          250,
          258,
          302,
          304,
          318,
          318,
          351,
          400,
          400,
          400,
          163,
          168,
          350,
          351,
          350,
          163,
          231,
          250,
          260,
          302,
          304,
          305,
          250,
          258,
          305,
          305,
          318,
          225,
          302,
          231,
          700,
          121,
          171,
          199,
          225,
          225,
          225,
          232,
          232,
          232,
          250,
          250,
          250,
          250,
          258,
          307,
          318,
          258,
          302,
          318,
          250,
          250,
          360,
          225,
          700,
          120,
          121,
          122,
          156,
          225,
          225,
          232,
          232,
          232,
          250,
          250,
          225,
          231,
          267,
          305,
          232,
          318,
          200,
          260,
          114,
          130,
          140,
          970,
          156,
          198,
          225,
          232,
          262,
          200,
          200,
          232,
          302,
          131,
          200,
          225,
          231,
          225,
          231,
          200,
          120,
          122,
          140,
          155,
          199,
          200,
          231,
          134,
          800,
          121,
          231,
          121,
          108,
          121,
          121,
          122,
          140,
          146,
          198,
          225,
          232,
          250,
          140,
          231,
          232,
          115,
          120,
          120,
          122,
          140,
          140,
          970,
          198,
          350,
          156,
          173,
          700,
          151,
          119,
          260,
          107,
          113,
          113,
          116,
          119,
          120,
          121,
          134,
          140,
          900,
          200,
          146,
          151,
          151,
          980,
          104,
          110,
          113,
          116,
          121,
          140,
          140,
          900,
          97.5,
          181,
          140,
          183,
          168,
          122,
          140,
          156,
          108,
          116,
          121,
          122,
          156,
          790,
          910,
          960,
          970,
          970,
          970,
          970,
          980,
          980,
          140,
          140,
          151,
          350,
          173,
          101,
          112,
          140,
          151,
          151,
          970,
          970,
          970,
          970,
          119,
          135,
          141,
          121,
          134,
          156,
          107,
          112,
          116,
          120,
          140,
          151,
          900,
          970,
          970,
          980,
          141,
          151,
          173,
          135,
          680,
          850,
          900,
          900,
          970,
          970,
          980,
          970,
          980,
          134,
          890,
          980,
          111,
          135,
          146,
          790,
          880,
          970,
          980,
          970,
          980,
          145,
          105,
          112,
          119,
          710,
          760,
          790,
          790,
          910,
          120,
          890,
          980,
          120,
          850,
          890,
          135,
          144,
          710,
          830,
          850,
          910,
          980,
          108,
          970,
          107,
          108,
          168,
          780,
          119,
          105,
          910,
          910,
          151,
          850,
          980,
          107,
          970,
          108,
          112,
          860,
          910,
          105,
          970,
          980,
          105,
          105,
          122,
          720,
          810,
          980,
          105,
          107,
          120,
          135,
          790,
          980,
          910,
          980,
          121,
          119,
          850,
          910,
          860,
          910,
          890,
          105,
          910,
          910,
          262,
          890,
          860,
          790,
          850,
          850,
          980,
          900,
          900,
          970,
          900,
          910,
          860
         ],
         "xaxis": "x",
         "y": [
          193,
          200,
          215,
          210,
          180,
          150,
          208,
          160,
          180,
          180,
          167,
          198,
          225,
          129,
          130,
          140,
          130,
          150,
          150,
          145,
          145,
          150,
          155,
          165,
          175,
          158,
          170,
          175,
          150,
          170,
          175,
          190,
          215,
          137,
          140,
          150,
          150,
          150,
          150,
          150,
          150,
          160,
          165,
          148,
          153,
          153,
          175,
          175,
          215,
          220,
          225,
          225,
          152,
          100,
          720,
          720,
          110,
          130,
          150,
          150,
          150,
          150,
          145,
          145,
          165,
          170,
          190,
          150,
          198,
          120,
          145,
          170,
          142,
          190,
          105,
          100,
          100,
          105,
          110,
          140,
          150,
          150,
          150,
          149,
          170,
          180,
          230,
          133,
          120,
          180,
          138,
          155,
          125,
          110,
          100,
          110,
          140,
          150,
          130,
          110,
          950,
          140,
          145,
          140,
          850,
          129,
          165,
          900,
          112,
          970,
          970,
          105,
          105,
          950,
          100,
          100,
          100,
          105,
          780,
          880,
          880,
          110,
          130,
          150,
          120,
          139,
          135,
          110,
          980,
          150,
          110,
          970,
          880,
          112,
          850,
          108,
          100,
          950,
          100,
          100,
          900,
          100,
          880,
          900,
          105,
          125,
          145,
          900,
          140,
          850,
          110,
          910,
          102,
          900,
          880,
          122,
          950,
          100,
          100,
          110,
          850,
          880,
          900,
          139,
          103,
          950,
          100,
          105,
          110,
          105,
          850,
          870,
          860,
          720,
          107,
          900,
          850,
          110,
          950,
          110,
          110,
          115,
          115,
          940,
          760,
          980,
          860,
          720,
          970,
          950,
          100,
          112,
          105,
          880,
          110,
          900,
          950,
          880,
          970,
          860,
          780,
          830,
          540,
          950,
          125,
          105,
          110,
          100,
          850,
          970,
          900,
          900,
          950,
          950,
          750,
          970,
          970,
          110,
          960,
          920,
          750,
          810,
          120,
          900,
          880,
          600,
          950,
          870,
          950,
          810,
          115,
          750,
          920,
          710,
          800,
          110,
          880,
          770,
          116,
          960,
          890,
          920,
          930,
          750,
          113,
          800,
          920,
          670,
          700,
          690,
          460,
          460,
          750,
          780,
          790,
          900,
          880,
          720,
          840,
          105,
          115,
          830,
          880,
          860,
          900,
          900,
          600,
          880,
          880,
          880,
          970,
          840,
          710,
          800,
          950,
          105,
          860,
          880,
          900,
          790,
          900,
          900,
          750,
          750,
          920,
          800,
          800,
          900,
          115,
          840,
          490,
          520,
          700,
          700,
          750,
          780,
          830,
          710,
          680,
          900,
          620,
          650,
          800,
          840,
          670,
          700,
          760,
          670,
          680,
          780,
          630,
          760,
          750,
          850,
          820,
          650,
          520,
          670,
          670,
          680,
          750,
          710,
          680,
          740,
          650,
          710,
          840,
          960,
          650,
          610,
          700,
          670,
          700,
          750,
          670,
          720,
          750,
          132,
          520,
          100,
          740,
          530,
          530,
          900,
          700,
          830,
          750,
          670,
          700,
          880,
          650,
          680,
          700,
          780,
          650,
          700,
          630,
          880,
          690,
          600,
          800,
          740,
          750,
          880,
          840,
          580,
          700,
          600,
          660,
          670,
          920,
          650,
          680,
          650,
          690,
          620,
          630,
          670,
          670,
          850,
          600,
          640,
          580,
          700,
          650,
          760,
          480,
          480,
          520,
          480,
          670,
          650
         ],
         "yaxis": "y"
        }
       ],
       "layout": {
        "coloraxis": {
         "colorbar": {
          "title": {
           "text": "mpg"
          }
         },
         "colorscale": [
          [
           0,
           "#0d0887"
          ],
          [
           0.1111111111111111,
           "#46039f"
          ],
          [
           0.2222222222222222,
           "#7201a8"
          ],
          [
           0.3333333333333333,
           "#9c179e"
          ],
          [
           0.4444444444444444,
           "#bd3786"
          ],
          [
           0.5555555555555556,
           "#d8576b"
          ],
          [
           0.6666666666666666,
           "#ed7953"
          ],
          [
           0.7777777777777778,
           "#fb9f3a"
          ],
          [
           0.8888888888888888,
           "#fdca26"
          ],
          [
           1,
           "#f0f921"
          ]
         ]
        },
        "legend": {
         "tracegroupgap": 0
        },
        "margin": {
         "t": 60
        },
        "template": {
         "data": {
          "bar": [
           {
            "error_x": {
             "color": "#2a3f5f"
            },
            "error_y": {
             "color": "#2a3f5f"
            },
            "marker": {
             "line": {
              "color": "#E5ECF6",
              "width": 0.5
             },
             "pattern": {
              "fillmode": "overlay",
              "size": 10,
              "solidity": 0.2
             }
            },
            "type": "bar"
           }
          ],
          "barpolar": [
           {
            "marker": {
             "line": {
              "color": "#E5ECF6",
              "width": 0.5
             },
             "pattern": {
              "fillmode": "overlay",
              "size": 10,
              "solidity": 0.2
             }
            },
            "type": "barpolar"
           }
          ],
          "carpet": [
           {
            "aaxis": {
             "endlinecolor": "#2a3f5f",
             "gridcolor": "white",
             "linecolor": "white",
             "minorgridcolor": "white",
             "startlinecolor": "#2a3f5f"
            },
            "baxis": {
             "endlinecolor": "#2a3f5f",
             "gridcolor": "white",
             "linecolor": "white",
             "minorgridcolor": "white",
             "startlinecolor": "#2a3f5f"
            },
            "type": "carpet"
           }
          ],
          "choropleth": [
           {
            "colorbar": {
             "outlinewidth": 0,
             "ticks": ""
            },
            "type": "choropleth"
           }
          ],
          "contour": [
           {
            "colorbar": {
             "outlinewidth": 0,
             "ticks": ""
            },
            "colorscale": [
             [
              0,
              "#0d0887"
             ],
             [
              0.1111111111111111,
              "#46039f"
             ],
             [
              0.2222222222222222,
              "#7201a8"
             ],
             [
              0.3333333333333333,
              "#9c179e"
             ],
             [
              0.4444444444444444,
              "#bd3786"
             ],
             [
              0.5555555555555556,
              "#d8576b"
             ],
             [
              0.6666666666666666,
              "#ed7953"
             ],
             [
              0.7777777777777778,
              "#fb9f3a"
             ],
             [
              0.8888888888888888,
              "#fdca26"
             ],
             [
              1,
              "#f0f921"
             ]
            ],
            "type": "contour"
           }
          ],
          "contourcarpet": [
           {
            "colorbar": {
             "outlinewidth": 0,
             "ticks": ""
            },
            "type": "contourcarpet"
           }
          ],
          "heatmap": [
           {
            "colorbar": {
             "outlinewidth": 0,
             "ticks": ""
            },
            "colorscale": [
             [
              0,
              "#0d0887"
             ],
             [
              0.1111111111111111,
              "#46039f"
             ],
             [
              0.2222222222222222,
              "#7201a8"
             ],
             [
              0.3333333333333333,
              "#9c179e"
             ],
             [
              0.4444444444444444,
              "#bd3786"
             ],
             [
              0.5555555555555556,
              "#d8576b"
             ],
             [
              0.6666666666666666,
              "#ed7953"
             ],
             [
              0.7777777777777778,
              "#fb9f3a"
             ],
             [
              0.8888888888888888,
              "#fdca26"
             ],
             [
              1,
              "#f0f921"
             ]
            ],
            "type": "heatmap"
           }
          ],
          "heatmapgl": [
           {
            "colorbar": {
             "outlinewidth": 0,
             "ticks": ""
            },
            "colorscale": [
             [
              0,
              "#0d0887"
             ],
             [
              0.1111111111111111,
              "#46039f"
             ],
             [
              0.2222222222222222,
              "#7201a8"
             ],
             [
              0.3333333333333333,
              "#9c179e"
             ],
             [
              0.4444444444444444,
              "#bd3786"
             ],
             [
              0.5555555555555556,
              "#d8576b"
             ],
             [
              0.6666666666666666,
              "#ed7953"
             ],
             [
              0.7777777777777778,
              "#fb9f3a"
             ],
             [
              0.8888888888888888,
              "#fdca26"
             ],
             [
              1,
              "#f0f921"
             ]
            ],
            "type": "heatmapgl"
           }
          ],
          "histogram": [
           {
            "marker": {
             "pattern": {
              "fillmode": "overlay",
              "size": 10,
              "solidity": 0.2
             }
            },
            "type": "histogram"
           }
          ],
          "histogram2d": [
           {
            "colorbar": {
             "outlinewidth": 0,
             "ticks": ""
            },
            "colorscale": [
             [
              0,
              "#0d0887"
             ],
             [
              0.1111111111111111,
              "#46039f"
             ],
             [
              0.2222222222222222,
              "#7201a8"
             ],
             [
              0.3333333333333333,
              "#9c179e"
             ],
             [
              0.4444444444444444,
              "#bd3786"
             ],
             [
              0.5555555555555556,
              "#d8576b"
             ],
             [
              0.6666666666666666,
              "#ed7953"
             ],
             [
              0.7777777777777778,
              "#fb9f3a"
             ],
             [
              0.8888888888888888,
              "#fdca26"
             ],
             [
              1,
              "#f0f921"
             ]
            ],
            "type": "histogram2d"
           }
          ],
          "histogram2dcontour": [
           {
            "colorbar": {
             "outlinewidth": 0,
             "ticks": ""
            },
            "colorscale": [
             [
              0,
              "#0d0887"
             ],
             [
              0.1111111111111111,
              "#46039f"
             ],
             [
              0.2222222222222222,
              "#7201a8"
             ],
             [
              0.3333333333333333,
              "#9c179e"
             ],
             [
              0.4444444444444444,
              "#bd3786"
             ],
             [
              0.5555555555555556,
              "#d8576b"
             ],
             [
              0.6666666666666666,
              "#ed7953"
             ],
             [
              0.7777777777777778,
              "#fb9f3a"
             ],
             [
              0.8888888888888888,
              "#fdca26"
             ],
             [
              1,
              "#f0f921"
             ]
            ],
            "type": "histogram2dcontour"
           }
          ],
          "mesh3d": [
           {
            "colorbar": {
             "outlinewidth": 0,
             "ticks": ""
            },
            "type": "mesh3d"
           }
          ],
          "parcoords": [
           {
            "line": {
             "colorbar": {
              "outlinewidth": 0,
              "ticks": ""
             }
            },
            "type": "parcoords"
           }
          ],
          "pie": [
           {
            "automargin": true,
            "type": "pie"
           }
          ],
          "scatter": [
           {
            "fillpattern": {
             "fillmode": "overlay",
             "size": 10,
             "solidity": 0.2
            },
            "type": "scatter"
           }
          ],
          "scatter3d": [
           {
            "line": {
             "colorbar": {
              "outlinewidth": 0,
              "ticks": ""
             }
            },
            "marker": {
             "colorbar": {
              "outlinewidth": 0,
              "ticks": ""
             }
            },
            "type": "scatter3d"
           }
          ],
          "scattercarpet": [
           {
            "marker": {
             "colorbar": {
              "outlinewidth": 0,
              "ticks": ""
             }
            },
            "type": "scattercarpet"
           }
          ],
          "scattergeo": [
           {
            "marker": {
             "colorbar": {
              "outlinewidth": 0,
              "ticks": ""
             }
            },
            "type": "scattergeo"
           }
          ],
          "scattergl": [
           {
            "marker": {
             "colorbar": {
              "outlinewidth": 0,
              "ticks": ""
             }
            },
            "type": "scattergl"
           }
          ],
          "scattermapbox": [
           {
            "marker": {
             "colorbar": {
              "outlinewidth": 0,
              "ticks": ""
             }
            },
            "type": "scattermapbox"
           }
          ],
          "scatterpolar": [
           {
            "marker": {
             "colorbar": {
              "outlinewidth": 0,
              "ticks": ""
             }
            },
            "type": "scatterpolar"
           }
          ],
          "scatterpolargl": [
           {
            "marker": {
             "colorbar": {
              "outlinewidth": 0,
              "ticks": ""
             }
            },
            "type": "scatterpolargl"
           }
          ],
          "scatterternary": [
           {
            "marker": {
             "colorbar": {
              "outlinewidth": 0,
              "ticks": ""
             }
            },
            "type": "scatterternary"
           }
          ],
          "surface": [
           {
            "colorbar": {
             "outlinewidth": 0,
             "ticks": ""
            },
            "colorscale": [
             [
              0,
              "#0d0887"
             ],
             [
              0.1111111111111111,
              "#46039f"
             ],
             [
              0.2222222222222222,
              "#7201a8"
             ],
             [
              0.3333333333333333,
              "#9c179e"
             ],
             [
              0.4444444444444444,
              "#bd3786"
             ],
             [
              0.5555555555555556,
              "#d8576b"
             ],
             [
              0.6666666666666666,
              "#ed7953"
             ],
             [
              0.7777777777777778,
              "#fb9f3a"
             ],
             [
              0.8888888888888888,
              "#fdca26"
             ],
             [
              1,
              "#f0f921"
             ]
            ],
            "type": "surface"
           }
          ],
          "table": [
           {
            "cells": {
             "fill": {
              "color": "#EBF0F8"
             },
             "line": {
              "color": "white"
             }
            },
            "header": {
             "fill": {
              "color": "#C8D4E3"
             },
             "line": {
              "color": "white"
             }
            },
            "type": "table"
           }
          ]
         },
         "layout": {
          "annotationdefaults": {
           "arrowcolor": "#2a3f5f",
           "arrowhead": 0,
           "arrowwidth": 1
          },
          "autotypenumbers": "strict",
          "coloraxis": {
           "colorbar": {
            "outlinewidth": 0,
            "ticks": ""
           }
          },
          "colorscale": {
           "diverging": [
            [
             0,
             "#8e0152"
            ],
            [
             0.1,
             "#c51b7d"
            ],
            [
             0.2,
             "#de77ae"
            ],
            [
             0.3,
             "#f1b6da"
            ],
            [
             0.4,
             "#fde0ef"
            ],
            [
             0.5,
             "#f7f7f7"
            ],
            [
             0.6,
             "#e6f5d0"
            ],
            [
             0.7,
             "#b8e186"
            ],
            [
             0.8,
             "#7fbc41"
            ],
            [
             0.9,
             "#4d9221"
            ],
            [
             1,
             "#276419"
            ]
           ],
           "sequential": [
            [
             0,
             "#0d0887"
            ],
            [
             0.1111111111111111,
             "#46039f"
            ],
            [
             0.2222222222222222,
             "#7201a8"
            ],
            [
             0.3333333333333333,
             "#9c179e"
            ],
            [
             0.4444444444444444,
             "#bd3786"
            ],
            [
             0.5555555555555556,
             "#d8576b"
            ],
            [
             0.6666666666666666,
             "#ed7953"
            ],
            [
             0.7777777777777778,
             "#fb9f3a"
            ],
            [
             0.8888888888888888,
             "#fdca26"
            ],
            [
             1,
             "#f0f921"
            ]
           ],
           "sequentialminus": [
            [
             0,
             "#0d0887"
            ],
            [
             0.1111111111111111,
             "#46039f"
            ],
            [
             0.2222222222222222,
             "#7201a8"
            ],
            [
             0.3333333333333333,
             "#9c179e"
            ],
            [
             0.4444444444444444,
             "#bd3786"
            ],
            [
             0.5555555555555556,
             "#d8576b"
            ],
            [
             0.6666666666666666,
             "#ed7953"
            ],
            [
             0.7777777777777778,
             "#fb9f3a"
            ],
            [
             0.8888888888888888,
             "#fdca26"
            ],
            [
             1,
             "#f0f921"
            ]
           ]
          },
          "colorway": [
           "#636efa",
           "#EF553B",
           "#00cc96",
           "#ab63fa",
           "#FFA15A",
           "#19d3f3",
           "#FF6692",
           "#B6E880",
           "#FF97FF",
           "#FECB52"
          ],
          "font": {
           "color": "#2a3f5f"
          },
          "geo": {
           "bgcolor": "white",
           "lakecolor": "white",
           "landcolor": "#E5ECF6",
           "showlakes": true,
           "showland": true,
           "subunitcolor": "white"
          },
          "hoverlabel": {
           "align": "left"
          },
          "hovermode": "closest",
          "mapbox": {
           "style": "light"
          },
          "paper_bgcolor": "white",
          "plot_bgcolor": "#E5ECF6",
          "polar": {
           "angularaxis": {
            "gridcolor": "white",
            "linecolor": "white",
            "ticks": ""
           },
           "bgcolor": "#E5ECF6",
           "radialaxis": {
            "gridcolor": "white",
            "linecolor": "white",
            "ticks": ""
           }
          },
          "scene": {
           "xaxis": {
            "backgroundcolor": "#E5ECF6",
            "gridcolor": "white",
            "gridwidth": 2,
            "linecolor": "white",
            "showbackground": true,
            "ticks": "",
            "zerolinecolor": "white"
           },
           "yaxis": {
            "backgroundcolor": "#E5ECF6",
            "gridcolor": "white",
            "gridwidth": 2,
            "linecolor": "white",
            "showbackground": true,
            "ticks": "",
            "zerolinecolor": "white"
           },
           "zaxis": {
            "backgroundcolor": "#E5ECF6",
            "gridcolor": "white",
            "gridwidth": 2,
            "linecolor": "white",
            "showbackground": true,
            "ticks": "",
            "zerolinecolor": "white"
           }
          },
          "shapedefaults": {
           "line": {
            "color": "#2a3f5f"
           }
          },
          "ternary": {
           "aaxis": {
            "gridcolor": "white",
            "linecolor": "white",
            "ticks": ""
           },
           "baxis": {
            "gridcolor": "white",
            "linecolor": "white",
            "ticks": ""
           },
           "bgcolor": "#E5ECF6",
           "caxis": {
            "gridcolor": "white",
            "linecolor": "white",
            "ticks": ""
           }
          },
          "title": {
           "x": 0.05
          },
          "xaxis": {
           "automargin": true,
           "gridcolor": "white",
           "linecolor": "white",
           "ticks": "",
           "title": {
            "standoff": 15
           },
           "zerolinecolor": "white",
           "zerolinewidth": 2
          },
          "yaxis": {
           "automargin": true,
           "gridcolor": "white",
           "linecolor": "white",
           "ticks": "",
           "title": {
            "standoff": 15
           },
           "zerolinecolor": "white",
           "zerolinewidth": 2
          }
         }
        },
        "xaxis": {
         "anchor": "y",
         "domain": [
          0,
          1
         ],
         "title": {
          "text": "displacement"
         }
        },
        "yaxis": {
         "anchor": "x",
         "domain": [
          0,
          1
         ],
         "title": {
          "text": "horsepower"
         }
        }
       }
      },
      "text/html": [
       "<div>                            <div id=\"ae242dd7-9884-4921-aad8-7d37bc65aa7a\" class=\"plotly-graph-div\" style=\"height:525px; width:100%;\"></div>            <script type=\"text/javascript\">                require([\"plotly\"], function(Plotly) {                    window.PLOTLYENV=window.PLOTLYENV || {};                                    if (document.getElementById(\"ae242dd7-9884-4921-aad8-7d37bc65aa7a\")) {                    Plotly.newPlot(                        \"ae242dd7-9884-4921-aad8-7d37bc65aa7a\",                        [{\"hovertemplate\":\"displacement=%{x}\\u003cbr\\u003ehorsepower=%{y}\\u003cbr\\u003empg=%{marker.color}\\u003cextra\\u003e\\u003c\\u002fextra\\u003e\",\"legendgroup\":\"\",\"marker\":{\"color\":[-1,-1,-1,-1,-1,-1,-1,-1,-1,-1,-1,-1,-1,-1,-1,-1,-1,-1,-1,-1,-1,-1,-1,-1,-1,-1,-1,-1,-1,-1,-1,-1,-1,-1,-1,-1,-1,-1,-1,-1,-1,-1,-1,-1,-1,-1,-1,-1,-1,-1,-1,-1,-1,-1,-1,-1,-1,-1,-1,-1,-1,-1,-1,-1,-1,-1,-1,-1,-1,-1,-1,-1,-1,-1,-1,-1,-1,-1,-1,-1,-1,-1,-1,-1,-1,-1,-1,-1,-1,-1,-1,-1,-1,-1,-1,-1,-1,-1,-1,-1,-1,-1,-1,-1,-1,-1,-1,-1,-1,-1,-1,-1,-1,-1,-1,-1,-1,-1,-1,-1,-1,-1,-1,-1,-1,-1,-1,-1,-1,-1,-1,-1,-1,-1,-1,-1,-1,-1,-1,-1,-1,-1,-1,-1,-1,-1,-1,-1,-1,-1,-1,-1,-1,-1,-1,-1,-1,-1,-1,-1,-1,-1,-1,-1,-1,-1,-1,-1,-1,-1,-1,-1,-1,-1,-1,-1,-1,-1,-1,-1,-1,-1,-1,-1,-1,-1,-1,-1,-1,-1,-1,-1,-1,-1,-1,-1,1,1,1,1,1,1,1,1,1,1,1,1,1,1,1,1,1,1,1,1,1,1,1,1,1,1,1,1,1,1,1,1,1,1,1,1,1,1,1,1,1,1,1,1,1,1,1,1,1,1,1,1,1,1,1,1,1,1,1,1,1,1,1,1,1,1,1,1,1,1,1,1,1,1,1,1,1,1,1,1,1,1,1,1,1,1,1,1,1,1,1,1,1,1,1,1,1,1,1,1,1,1,1,1,1,1,1,1,1,1,1,1,1,1,1,1,1,1,1,1,1,1,1,1,1,1,1,1,1,1,1,1,1,1,1,1,1,1,1,1,1,1,1,1,1,1,1,1,1,1,1,1,1,1,1,1,1,1,1,1,1,1,1,1,1,1,1,1,1,1,1,1,1,1,1,1,1,1,1,1,1,1,1,1,1,1,1,1,1,1,1,1,1,1,1,1],\"coloraxis\":\"coloraxis\",\"symbol\":\"circle\"},\"mode\":\"markers\",\"name\":\"\",\"orientation\":\"v\",\"showlegend\":false,\"x\":[304.0,307.0,360.0,318.0,350.0,400.0,429.0,350.0,350.0,383.0,400.0,429.0,455.0,302.0,302.0,302.0,307.0,318.0,318.0,350.0,350.0,350.0,350.0,350.0,350.0,351.0,360.0,360.0,400.0,400.0,400.0,400.0,440.0,302.0,302.0,304.0,304.0,318.0,318.0,318.0,318.0,340.0,350.0,351.0,351.0,351.0,400.0,400.0,440.0,454.0,455.0,455.0,351.0,250.0,250.0,250.0,258.0,302.0,304.0,318.0,318.0,318.0,350.0,350.0,350.0,383.0,390.0,400.0,429.0,304.0,318.0,350.0,351.0,400.0,225.0,250.0,250.0,250.0,258.0,302.0,304.0,318.0,318.0,351.0,400.0,400.0,400.0,163.0,168.0,350.0,351.0,350.0,163.0,231.0,250.0,260.0,302.0,304.0,305.0,250.0,258.0,305.0,305.0,318.0,225.0,302.0,231.0,700.0,121.0,171.0,199.0,225.0,225.0,225.0,232.0,232.0,232.0,250.0,250.0,250.0,250.0,258.0,307.0,318.0,258.0,302.0,318.0,250.0,250.0,360.0,225.0,700.0,120.0,121.0,122.0,156.0,225.0,225.0,232.0,232.0,232.0,250.0,250.0,225.0,231.0,267.0,305.0,232.0,318.0,200.0,260.0,114.0,130.0,140.0,970.0,156.0,198.0,225.0,232.0,262.0,200.0,200.0,232.0,302.0,131.0,200.0,225.0,231.0,225.0,231.0,200.0,120.0,122.0,140.0,155.0,199.0,200.0,231.0,134.0,800.0,121.0,231.0,121.0,108.0,121.0,121.0,122.0,140.0,146.0,198.0,225.0,232.0,250.0,140.0,231.0,232.0,115.0,120.0,120.0,122.0,140.0,140.0,970.0,198.0,350.0,156.0,173.0,700.0,151.0,119.0,260.0,107.0,113.0,113.0,116.0,119.0,120.0,121.0,134.0,140.0,900.0,200.0,146.0,151.0,151.0,980.0,104.0,110.0,113.0,116.0,121.0,140.0,140.0,900.0,97.5,181.0,140.0,183.0,168.0,122.0,140.0,156.0,108.0,116.0,121.0,122.0,156.0,790.0,910.0,960.0,970.0,970.0,970.0,970.0,980.0,980.0,140.0,140.0,151.0,350.0,173.0,101.0,112.0,140.0,151.0,151.0,970.0,970.0,970.0,970.0,119.0,135.0,141.0,121.0,134.0,156.0,107.0,112.0,116.0,120.0,140.0,151.0,900.0,970.0,970.0,980.0,141.0,151.0,173.0,135.0,680.0,850.0,900.0,900.0,970.0,970.0,980.0,970.0,980.0,134.0,890.0,980.0,111.0,135.0,146.0,790.0,880.0,970.0,980.0,970.0,980.0,145.0,105.0,112.0,119.0,710.0,760.0,790.0,790.0,910.0,120.0,890.0,980.0,120.0,850.0,890.0,135.0,144.0,710.0,830.0,850.0,910.0,980.0,108.0,970.0,107.0,108.0,168.0,780.0,119.0,105.0,910.0,910.0,151.0,850.0,980.0,107.0,970.0,108.0,112.0,860.0,910.0,105.0,970.0,980.0,105.0,105.0,122.0,720.0,810.0,980.0,105.0,107.0,120.0,135.0,790.0,980.0,910.0,980.0,121.0,119.0,850.0,910.0,860.0,910.0,890.0,105.0,910.0,910.0,262.0,890.0,860.0,790.0,850.0,850.0,980.0,900.0,900.0,970.0,900.0,910.0,860.0],\"xaxis\":\"x\",\"y\":[193,200,215,210,180,150,208,160,180,180,167,198,225,129,130,140,130,150,150,145,145,150,155,165,175,158,170,175,150,170,175,190,215,137,140,150,150,150,150,150,150,160,165,148,153,153,175,175,215,220,225,225,152,100,720,720,110,130,150,150,150,150,145,145,165,170,190,150,198,120,145,170,142,190,105,100,100,105,110,140,150,150,150,149,170,180,230,133,120,180,138,155,125,110,100,110,140,150,130,110,950,140,145,140,850,129,165,900,112,970,970,105,105,950,100,100,100,105,780,880,880,110,130,150,120,139,135,110,980,150,110,970,880,112,850,108,100,950,100,100,900,100,880,900,105,125,145,900,140,850,110,910,102,900,880,122,950,100,100,110,850,880,900,139,103,950,100,105,110,105,850,870,860,720,107,900,850,110,950,110,110,115,115,940,760,980,860,720,970,950,100,112,105,880,110,900,950,880,970,860,780,830,540,950,125,105,110,100,850,970,900,900,950,950,750,970,970,110,960,920,750,810,120,900,880,600,950,870,950,810,115,750,920,710,800,110,880,770,116,960,890,920,930,750,113,800,920,670,700,690,460,460,750,780,790,900,880,720,840,105,115,830,880,860,900,900,600,880,880,880,970,840,710,800,950,105,860,880,900,790,900,900,750,750,920,800,800,900,115,840,490,520,700,700,750,780,830,710,680,900,620,650,800,840,670,700,760,670,680,780,630,760,750,850,820,650,520,670,670,680,750,710,680,740,650,710,840,960,650,610,700,670,700,750,670,720,750,132,520,100,740,530,530,900,700,830,750,670,700,880,650,680,700,780,650,700,630,880,690,600,800,740,750,880,840,580,700,600,660,670,920,650,680,650,690,620,630,670,670,850,600,640,580,700,650,760,480,480,520,480,670,650],\"yaxis\":\"y\",\"type\":\"scatter\"}],                        {\"template\":{\"data\":{\"histogram2dcontour\":[{\"type\":\"histogram2dcontour\",\"colorbar\":{\"outlinewidth\":0,\"ticks\":\"\"},\"colorscale\":[[0.0,\"#0d0887\"],[0.1111111111111111,\"#46039f\"],[0.2222222222222222,\"#7201a8\"],[0.3333333333333333,\"#9c179e\"],[0.4444444444444444,\"#bd3786\"],[0.5555555555555556,\"#d8576b\"],[0.6666666666666666,\"#ed7953\"],[0.7777777777777778,\"#fb9f3a\"],[0.8888888888888888,\"#fdca26\"],[1.0,\"#f0f921\"]]}],\"choropleth\":[{\"type\":\"choropleth\",\"colorbar\":{\"outlinewidth\":0,\"ticks\":\"\"}}],\"histogram2d\":[{\"type\":\"histogram2d\",\"colorbar\":{\"outlinewidth\":0,\"ticks\":\"\"},\"colorscale\":[[0.0,\"#0d0887\"],[0.1111111111111111,\"#46039f\"],[0.2222222222222222,\"#7201a8\"],[0.3333333333333333,\"#9c179e\"],[0.4444444444444444,\"#bd3786\"],[0.5555555555555556,\"#d8576b\"],[0.6666666666666666,\"#ed7953\"],[0.7777777777777778,\"#fb9f3a\"],[0.8888888888888888,\"#fdca26\"],[1.0,\"#f0f921\"]]}],\"heatmap\":[{\"type\":\"heatmap\",\"colorbar\":{\"outlinewidth\":0,\"ticks\":\"\"},\"colorscale\":[[0.0,\"#0d0887\"],[0.1111111111111111,\"#46039f\"],[0.2222222222222222,\"#7201a8\"],[0.3333333333333333,\"#9c179e\"],[0.4444444444444444,\"#bd3786\"],[0.5555555555555556,\"#d8576b\"],[0.6666666666666666,\"#ed7953\"],[0.7777777777777778,\"#fb9f3a\"],[0.8888888888888888,\"#fdca26\"],[1.0,\"#f0f921\"]]}],\"heatmapgl\":[{\"type\":\"heatmapgl\",\"colorbar\":{\"outlinewidth\":0,\"ticks\":\"\"},\"colorscale\":[[0.0,\"#0d0887\"],[0.1111111111111111,\"#46039f\"],[0.2222222222222222,\"#7201a8\"],[0.3333333333333333,\"#9c179e\"],[0.4444444444444444,\"#bd3786\"],[0.5555555555555556,\"#d8576b\"],[0.6666666666666666,\"#ed7953\"],[0.7777777777777778,\"#fb9f3a\"],[0.8888888888888888,\"#fdca26\"],[1.0,\"#f0f921\"]]}],\"contourcarpet\":[{\"type\":\"contourcarpet\",\"colorbar\":{\"outlinewidth\":0,\"ticks\":\"\"}}],\"contour\":[{\"type\":\"contour\",\"colorbar\":{\"outlinewidth\":0,\"ticks\":\"\"},\"colorscale\":[[0.0,\"#0d0887\"],[0.1111111111111111,\"#46039f\"],[0.2222222222222222,\"#7201a8\"],[0.3333333333333333,\"#9c179e\"],[0.4444444444444444,\"#bd3786\"],[0.5555555555555556,\"#d8576b\"],[0.6666666666666666,\"#ed7953\"],[0.7777777777777778,\"#fb9f3a\"],[0.8888888888888888,\"#fdca26\"],[1.0,\"#f0f921\"]]}],\"surface\":[{\"type\":\"surface\",\"colorbar\":{\"outlinewidth\":0,\"ticks\":\"\"},\"colorscale\":[[0.0,\"#0d0887\"],[0.1111111111111111,\"#46039f\"],[0.2222222222222222,\"#7201a8\"],[0.3333333333333333,\"#9c179e\"],[0.4444444444444444,\"#bd3786\"],[0.5555555555555556,\"#d8576b\"],[0.6666666666666666,\"#ed7953\"],[0.7777777777777778,\"#fb9f3a\"],[0.8888888888888888,\"#fdca26\"],[1.0,\"#f0f921\"]]}],\"mesh3d\":[{\"type\":\"mesh3d\",\"colorbar\":{\"outlinewidth\":0,\"ticks\":\"\"}}],\"scatter\":[{\"fillpattern\":{\"fillmode\":\"overlay\",\"size\":10,\"solidity\":0.2},\"type\":\"scatter\"}],\"parcoords\":[{\"type\":\"parcoords\",\"line\":{\"colorbar\":{\"outlinewidth\":0,\"ticks\":\"\"}}}],\"scatterpolargl\":[{\"type\":\"scatterpolargl\",\"marker\":{\"colorbar\":{\"outlinewidth\":0,\"ticks\":\"\"}}}],\"bar\":[{\"error_x\":{\"color\":\"#2a3f5f\"},\"error_y\":{\"color\":\"#2a3f5f\"},\"marker\":{\"line\":{\"color\":\"#E5ECF6\",\"width\":0.5},\"pattern\":{\"fillmode\":\"overlay\",\"size\":10,\"solidity\":0.2}},\"type\":\"bar\"}],\"scattergeo\":[{\"type\":\"scattergeo\",\"marker\":{\"colorbar\":{\"outlinewidth\":0,\"ticks\":\"\"}}}],\"scatterpolar\":[{\"type\":\"scatterpolar\",\"marker\":{\"colorbar\":{\"outlinewidth\":0,\"ticks\":\"\"}}}],\"histogram\":[{\"marker\":{\"pattern\":{\"fillmode\":\"overlay\",\"size\":10,\"solidity\":0.2}},\"type\":\"histogram\"}],\"scattergl\":[{\"type\":\"scattergl\",\"marker\":{\"colorbar\":{\"outlinewidth\":0,\"ticks\":\"\"}}}],\"scatter3d\":[{\"type\":\"scatter3d\",\"line\":{\"colorbar\":{\"outlinewidth\":0,\"ticks\":\"\"}},\"marker\":{\"colorbar\":{\"outlinewidth\":0,\"ticks\":\"\"}}}],\"scattermapbox\":[{\"type\":\"scattermapbox\",\"marker\":{\"colorbar\":{\"outlinewidth\":0,\"ticks\":\"\"}}}],\"scatterternary\":[{\"type\":\"scatterternary\",\"marker\":{\"colorbar\":{\"outlinewidth\":0,\"ticks\":\"\"}}}],\"scattercarpet\":[{\"type\":\"scattercarpet\",\"marker\":{\"colorbar\":{\"outlinewidth\":0,\"ticks\":\"\"}}}],\"carpet\":[{\"aaxis\":{\"endlinecolor\":\"#2a3f5f\",\"gridcolor\":\"white\",\"linecolor\":\"white\",\"minorgridcolor\":\"white\",\"startlinecolor\":\"#2a3f5f\"},\"baxis\":{\"endlinecolor\":\"#2a3f5f\",\"gridcolor\":\"white\",\"linecolor\":\"white\",\"minorgridcolor\":\"white\",\"startlinecolor\":\"#2a3f5f\"},\"type\":\"carpet\"}],\"table\":[{\"cells\":{\"fill\":{\"color\":\"#EBF0F8\"},\"line\":{\"color\":\"white\"}},\"header\":{\"fill\":{\"color\":\"#C8D4E3\"},\"line\":{\"color\":\"white\"}},\"type\":\"table\"}],\"barpolar\":[{\"marker\":{\"line\":{\"color\":\"#E5ECF6\",\"width\":0.5},\"pattern\":{\"fillmode\":\"overlay\",\"size\":10,\"solidity\":0.2}},\"type\":\"barpolar\"}],\"pie\":[{\"automargin\":true,\"type\":\"pie\"}]},\"layout\":{\"autotypenumbers\":\"strict\",\"colorway\":[\"#636efa\",\"#EF553B\",\"#00cc96\",\"#ab63fa\",\"#FFA15A\",\"#19d3f3\",\"#FF6692\",\"#B6E880\",\"#FF97FF\",\"#FECB52\"],\"font\":{\"color\":\"#2a3f5f\"},\"hovermode\":\"closest\",\"hoverlabel\":{\"align\":\"left\"},\"paper_bgcolor\":\"white\",\"plot_bgcolor\":\"#E5ECF6\",\"polar\":{\"bgcolor\":\"#E5ECF6\",\"angularaxis\":{\"gridcolor\":\"white\",\"linecolor\":\"white\",\"ticks\":\"\"},\"radialaxis\":{\"gridcolor\":\"white\",\"linecolor\":\"white\",\"ticks\":\"\"}},\"ternary\":{\"bgcolor\":\"#E5ECF6\",\"aaxis\":{\"gridcolor\":\"white\",\"linecolor\":\"white\",\"ticks\":\"\"},\"baxis\":{\"gridcolor\":\"white\",\"linecolor\":\"white\",\"ticks\":\"\"},\"caxis\":{\"gridcolor\":\"white\",\"linecolor\":\"white\",\"ticks\":\"\"}},\"coloraxis\":{\"colorbar\":{\"outlinewidth\":0,\"ticks\":\"\"}},\"colorscale\":{\"sequential\":[[0.0,\"#0d0887\"],[0.1111111111111111,\"#46039f\"],[0.2222222222222222,\"#7201a8\"],[0.3333333333333333,\"#9c179e\"],[0.4444444444444444,\"#bd3786\"],[0.5555555555555556,\"#d8576b\"],[0.6666666666666666,\"#ed7953\"],[0.7777777777777778,\"#fb9f3a\"],[0.8888888888888888,\"#fdca26\"],[1.0,\"#f0f921\"]],\"sequentialminus\":[[0.0,\"#0d0887\"],[0.1111111111111111,\"#46039f\"],[0.2222222222222222,\"#7201a8\"],[0.3333333333333333,\"#9c179e\"],[0.4444444444444444,\"#bd3786\"],[0.5555555555555556,\"#d8576b\"],[0.6666666666666666,\"#ed7953\"],[0.7777777777777778,\"#fb9f3a\"],[0.8888888888888888,\"#fdca26\"],[1.0,\"#f0f921\"]],\"diverging\":[[0,\"#8e0152\"],[0.1,\"#c51b7d\"],[0.2,\"#de77ae\"],[0.3,\"#f1b6da\"],[0.4,\"#fde0ef\"],[0.5,\"#f7f7f7\"],[0.6,\"#e6f5d0\"],[0.7,\"#b8e186\"],[0.8,\"#7fbc41\"],[0.9,\"#4d9221\"],[1,\"#276419\"]]},\"xaxis\":{\"gridcolor\":\"white\",\"linecolor\":\"white\",\"ticks\":\"\",\"title\":{\"standoff\":15},\"zerolinecolor\":\"white\",\"automargin\":true,\"zerolinewidth\":2},\"yaxis\":{\"gridcolor\":\"white\",\"linecolor\":\"white\",\"ticks\":\"\",\"title\":{\"standoff\":15},\"zerolinecolor\":\"white\",\"automargin\":true,\"zerolinewidth\":2},\"scene\":{\"xaxis\":{\"backgroundcolor\":\"#E5ECF6\",\"gridcolor\":\"white\",\"linecolor\":\"white\",\"showbackground\":true,\"ticks\":\"\",\"zerolinecolor\":\"white\",\"gridwidth\":2},\"yaxis\":{\"backgroundcolor\":\"#E5ECF6\",\"gridcolor\":\"white\",\"linecolor\":\"white\",\"showbackground\":true,\"ticks\":\"\",\"zerolinecolor\":\"white\",\"gridwidth\":2},\"zaxis\":{\"backgroundcolor\":\"#E5ECF6\",\"gridcolor\":\"white\",\"linecolor\":\"white\",\"showbackground\":true,\"ticks\":\"\",\"zerolinecolor\":\"white\",\"gridwidth\":2}},\"shapedefaults\":{\"line\":{\"color\":\"#2a3f5f\"}},\"annotationdefaults\":{\"arrowcolor\":\"#2a3f5f\",\"arrowhead\":0,\"arrowwidth\":1},\"geo\":{\"bgcolor\":\"white\",\"landcolor\":\"#E5ECF6\",\"subunitcolor\":\"white\",\"showland\":true,\"showlakes\":true,\"lakecolor\":\"white\"},\"title\":{\"x\":0.05},\"mapbox\":{\"style\":\"light\"}}},\"xaxis\":{\"anchor\":\"y\",\"domain\":[0.0,1.0],\"title\":{\"text\":\"displacement\"}},\"yaxis\":{\"anchor\":\"x\",\"domain\":[0.0,1.0],\"title\":{\"text\":\"horsepower\"}},\"coloraxis\":{\"colorbar\":{\"title\":{\"text\":\"mpg\"}},\"colorscale\":[[0.0,\"#0d0887\"],[0.1111111111111111,\"#46039f\"],[0.2222222222222222,\"#7201a8\"],[0.3333333333333333,\"#9c179e\"],[0.4444444444444444,\"#bd3786\"],[0.5555555555555556,\"#d8576b\"],[0.6666666666666666,\"#ed7953\"],[0.7777777777777778,\"#fb9f3a\"],[0.8888888888888888,\"#fdca26\"],[1.0,\"#f0f921\"]]},\"legend\":{\"tracegroupgap\":0},\"margin\":{\"t\":60}},                        {\"responsive\": true}                    ).then(function(){\n",
       "                            \n",
       "var gd = document.getElementById('ae242dd7-9884-4921-aad8-7d37bc65aa7a');\n",
       "var x = new MutationObserver(function (mutations, observer) {{\n",
       "        var display = window.getComputedStyle(gd).display;\n",
       "        if (!display || display === 'none') {{\n",
       "            console.log([gd, 'removed!']);\n",
       "            Plotly.purge(gd);\n",
       "            observer.disconnect();\n",
       "        }}\n",
       "}});\n",
       "\n",
       "// Listen for the removal of the full notebook cells\n",
       "var notebookContainer = gd.closest('#notebook-container');\n",
       "if (notebookContainer) {{\n",
       "    x.observe(notebookContainer, {childList: true});\n",
       "}}\n",
       "\n",
       "// Listen for the clearing of the current output cell\n",
       "var outputEl = gd.closest('.output');\n",
       "if (outputEl) {{\n",
       "    x.observe(outputEl, {childList: true});\n",
       "}}\n",
       "\n",
       "                        })                };                });            </script>        </div>"
      ]
     },
     "metadata": {},
     "output_type": "display_data"
    },
    {
     "data": {
      "application/vnd.plotly.v1+json": {
       "config": {
        "plotlyServerURL": "https://plot.ly"
       },
       "data": [
        {
         "alignmentgroup": "True",
         "bingroup": "x",
         "hovertemplate": "mpg=-1<br>acceleration=%{x}<br>count=%{y}<extra></extra>",
         "legendgroup": "-1",
         "marker": {
          "color": "#636efa",
          "opacity": 0.5,
          "pattern": {
           "shape": ""
          }
         },
         "name": "-1",
         "nbinsx": 30,
         "offsetgroup": "-1",
         "orientation": "v",
         "showlegend": true,
         "type": "histogram",
         "x": [
          18.5,
          15,
          14,
          13.5,
          11,
          14,
          11,
          13.5,
          12.5,
          11.5,
          12.5,
          11.5,
          11,
          12,
          15,
          16,
          14,
          14,
          13.2,
          13,
          12,
          14.5,
          13.5,
          12,
          13,
          13,
          13,
          11,
          12,
          12,
          12,
          12.5,
          11,
          14.5,
          16,
          11.5,
          15.5,
          14,
          13,
          14.5,
          13.5,
          8,
          12,
          13.5,
          13,
          13.5,
          12,
          11.5,
          8.5,
          9,
          10,
          10,
          12.8,
          17,
          19.5,
          21,
          19,
          14.9,
          12.5,
          11,
          12.5,
          13.5,
          13,
          14,
          11.5,
          10,
          8.5,
          9.5,
          10,
          13.9,
          13.7,
          11.4,
          14.3,
          12.2,
          15.5,
          18,
          17,
          18.5,
          18,
          14,
          12,
          13,
          14.5,
          14.5,
          11.5,
          11.1,
          9.5,
          15.8,
          16.7,
          12.1,
          13.2,
          14.9,
          13.6,
          21,
          15.5,
          19,
          10.5,
          11.5,
          15.4,
          16.4,
          17.8,
          13,
          12.5,
          13.7,
          16.6,
          13.4,
          13.4,
          13.5,
          14.5,
          14.5,
          15.5,
          16.5,
          16.5,
          19,
          15,
          16,
          15.5,
          16,
          21,
          16.5,
          14.5,
          13.5,
          12,
          11,
          15.1,
          11.2,
          15.2,
          16.2,
          19,
          13,
          18.7,
          13.5,
          21.9,
          15.5,
          18.5,
          15.5,
          17.7,
          16,
          13,
          16,
          17,
          15,
          15.5,
          18.7,
          19.2,
          15,
          13.2,
          17.2,
          13.2,
          18.2,
          15.5,
          14,
          15.7,
          19.5,
          19,
          13.5,
          16.5,
          17.7,
          16,
          13.5,
          15.8,
          17.1,
          18.2,
          12.8,
          15.9,
          18.2,
          17.2,
          16.9,
          16.6,
          15.8,
          16.7,
          19.5,
          16.5,
          19.5,
          14,
          15,
          16,
          15,
          14.8,
          13.5,
          12.8,
          15.4,
          15.7,
          16.5,
          18,
          14.5,
          16,
          19,
          14.5,
          15.5,
          15.4,
          14.7,
          14.5,
          17.3,
          15.8,
          17.6
         ],
         "xaxis": "x",
         "yaxis": "y"
        },
        {
         "alignmentgroup": "True",
         "bingroup": "x",
         "hovertemplate": "mpg=1<br>acceleration=%{x}<br>count=%{y}<extra></extra>",
         "legendgroup": "1",
         "marker": {
          "color": "#EF553B",
          "opacity": 0.5,
          "pattern": {
           "shape": ""
          }
         },
         "name": "1",
         "nbinsx": 30,
         "offsetgroup": "1",
         "orientation": "v",
         "showlegend": true,
         "type": "histogram",
         "x": [
          15,
          17,
          14.5,
          14,
          18.5,
          17,
          23.5,
          16,
          17.4,
          16.7,
          12.6,
          12.5,
          17.6,
          14.9,
          22.2,
          14.5,
          15.5,
          15,
          15.5,
          17,
          15,
          14,
          13.5,
          16.4,
          15.5,
          17.6,
          13.8,
          20.1,
          16,
          22.1,
          17.5,
          17.5,
          14,
          16.9,
          13.5,
          17,
          14.9,
          16.5,
          17,
          16.4,
          15.4,
          20.1,
          12.6,
          15.5,
          15.8,
          14.4,
          15.5,
          14,
          12.5,
          16.5,
          14.5,
          15.5,
          20.5,
          18,
          20.5,
          21,
          18.2,
          14.5,
          17.7,
          15.5,
          18.1,
          13.6,
          16.4,
          19,
          12.9,
          15.3,
          18.6,
          15.6,
          18,
          17.3,
          19,
          16.5,
          14.5,
          14.5,
          14.7,
          15.7,
          24.8,
          15,
          14.2,
          14.4,
          15.5,
          19.6,
          14,
          18.6,
          15.5,
          16.5,
          14.5,
          16.4,
          17,
          15,
          20.4,
          16,
          11.3,
          16,
          19.5,
          22.2,
          14,
          14.2,
          16,
          14.5,
          16.5,
          12.2,
          16.6,
          15.5,
          15.3,
          20.7,
          14.8,
          12.9,
          21.8,
          19.5,
          14.5,
          16.4,
          16.5,
          14.1,
          17,
          19.6,
          14.5,
          16.2,
          19.4,
          19,
          16.5,
          19,
          16,
          17.6,
          17.5,
          14.9,
          18.5,
          18.3,
          19.2,
          14,
          11.6,
          13.9,
          21,
          19,
          17,
          15.7,
          15.5,
          15.2,
          17.8,
          17,
          16.8,
          11.4,
          19.4,
          14.8,
          14.2,
          17.4,
          17.5,
          13.2,
          16.8,
          15.9,
          14.4,
          18,
          16.9,
          18,
          15.2,
          16,
          13.2,
          15.8,
          16.2,
          14.9,
          14.9,
          15.1,
          18,
          16.1,
          14.4,
          15.3,
          14.5,
          14.5,
          13,
          18.6,
          17.3,
          16.4,
          14.4,
          19.9,
          15,
          19.4,
          18.2,
          16.4,
          14.7,
          17.3,
          14.7,
          15,
          16.2,
          17,
          18.8,
          16.4,
          16.9,
          18.6,
          19.2,
          14.7,
          21.5,
          23.7,
          24.6,
          21.7,
          13.8,
          17.9
         ],
         "xaxis": "x",
         "yaxis": "y"
        }
       ],
       "layout": {
        "barmode": "group",
        "legend": {
         "title": {
          "text": "mpg"
         },
         "tracegroupgap": 0
        },
        "margin": {
         "t": 60
        },
        "template": {
         "data": {
          "bar": [
           {
            "error_x": {
             "color": "#2a3f5f"
            },
            "error_y": {
             "color": "#2a3f5f"
            },
            "marker": {
             "line": {
              "color": "#E5ECF6",
              "width": 0.5
             },
             "pattern": {
              "fillmode": "overlay",
              "size": 10,
              "solidity": 0.2
             }
            },
            "type": "bar"
           }
          ],
          "barpolar": [
           {
            "marker": {
             "line": {
              "color": "#E5ECF6",
              "width": 0.5
             },
             "pattern": {
              "fillmode": "overlay",
              "size": 10,
              "solidity": 0.2
             }
            },
            "type": "barpolar"
           }
          ],
          "carpet": [
           {
            "aaxis": {
             "endlinecolor": "#2a3f5f",
             "gridcolor": "white",
             "linecolor": "white",
             "minorgridcolor": "white",
             "startlinecolor": "#2a3f5f"
            },
            "baxis": {
             "endlinecolor": "#2a3f5f",
             "gridcolor": "white",
             "linecolor": "white",
             "minorgridcolor": "white",
             "startlinecolor": "#2a3f5f"
            },
            "type": "carpet"
           }
          ],
          "choropleth": [
           {
            "colorbar": {
             "outlinewidth": 0,
             "ticks": ""
            },
            "type": "choropleth"
           }
          ],
          "contour": [
           {
            "colorbar": {
             "outlinewidth": 0,
             "ticks": ""
            },
            "colorscale": [
             [
              0,
              "#0d0887"
             ],
             [
              0.1111111111111111,
              "#46039f"
             ],
             [
              0.2222222222222222,
              "#7201a8"
             ],
             [
              0.3333333333333333,
              "#9c179e"
             ],
             [
              0.4444444444444444,
              "#bd3786"
             ],
             [
              0.5555555555555556,
              "#d8576b"
             ],
             [
              0.6666666666666666,
              "#ed7953"
             ],
             [
              0.7777777777777778,
              "#fb9f3a"
             ],
             [
              0.8888888888888888,
              "#fdca26"
             ],
             [
              1,
              "#f0f921"
             ]
            ],
            "type": "contour"
           }
          ],
          "contourcarpet": [
           {
            "colorbar": {
             "outlinewidth": 0,
             "ticks": ""
            },
            "type": "contourcarpet"
           }
          ],
          "heatmap": [
           {
            "colorbar": {
             "outlinewidth": 0,
             "ticks": ""
            },
            "colorscale": [
             [
              0,
              "#0d0887"
             ],
             [
              0.1111111111111111,
              "#46039f"
             ],
             [
              0.2222222222222222,
              "#7201a8"
             ],
             [
              0.3333333333333333,
              "#9c179e"
             ],
             [
              0.4444444444444444,
              "#bd3786"
             ],
             [
              0.5555555555555556,
              "#d8576b"
             ],
             [
              0.6666666666666666,
              "#ed7953"
             ],
             [
              0.7777777777777778,
              "#fb9f3a"
             ],
             [
              0.8888888888888888,
              "#fdca26"
             ],
             [
              1,
              "#f0f921"
             ]
            ],
            "type": "heatmap"
           }
          ],
          "heatmapgl": [
           {
            "colorbar": {
             "outlinewidth": 0,
             "ticks": ""
            },
            "colorscale": [
             [
              0,
              "#0d0887"
             ],
             [
              0.1111111111111111,
              "#46039f"
             ],
             [
              0.2222222222222222,
              "#7201a8"
             ],
             [
              0.3333333333333333,
              "#9c179e"
             ],
             [
              0.4444444444444444,
              "#bd3786"
             ],
             [
              0.5555555555555556,
              "#d8576b"
             ],
             [
              0.6666666666666666,
              "#ed7953"
             ],
             [
              0.7777777777777778,
              "#fb9f3a"
             ],
             [
              0.8888888888888888,
              "#fdca26"
             ],
             [
              1,
              "#f0f921"
             ]
            ],
            "type": "heatmapgl"
           }
          ],
          "histogram": [
           {
            "marker": {
             "pattern": {
              "fillmode": "overlay",
              "size": 10,
              "solidity": 0.2
             }
            },
            "type": "histogram"
           }
          ],
          "histogram2d": [
           {
            "colorbar": {
             "outlinewidth": 0,
             "ticks": ""
            },
            "colorscale": [
             [
              0,
              "#0d0887"
             ],
             [
              0.1111111111111111,
              "#46039f"
             ],
             [
              0.2222222222222222,
              "#7201a8"
             ],
             [
              0.3333333333333333,
              "#9c179e"
             ],
             [
              0.4444444444444444,
              "#bd3786"
             ],
             [
              0.5555555555555556,
              "#d8576b"
             ],
             [
              0.6666666666666666,
              "#ed7953"
             ],
             [
              0.7777777777777778,
              "#fb9f3a"
             ],
             [
              0.8888888888888888,
              "#fdca26"
             ],
             [
              1,
              "#f0f921"
             ]
            ],
            "type": "histogram2d"
           }
          ],
          "histogram2dcontour": [
           {
            "colorbar": {
             "outlinewidth": 0,
             "ticks": ""
            },
            "colorscale": [
             [
              0,
              "#0d0887"
             ],
             [
              0.1111111111111111,
              "#46039f"
             ],
             [
              0.2222222222222222,
              "#7201a8"
             ],
             [
              0.3333333333333333,
              "#9c179e"
             ],
             [
              0.4444444444444444,
              "#bd3786"
             ],
             [
              0.5555555555555556,
              "#d8576b"
             ],
             [
              0.6666666666666666,
              "#ed7953"
             ],
             [
              0.7777777777777778,
              "#fb9f3a"
             ],
             [
              0.8888888888888888,
              "#fdca26"
             ],
             [
              1,
              "#f0f921"
             ]
            ],
            "type": "histogram2dcontour"
           }
          ],
          "mesh3d": [
           {
            "colorbar": {
             "outlinewidth": 0,
             "ticks": ""
            },
            "type": "mesh3d"
           }
          ],
          "parcoords": [
           {
            "line": {
             "colorbar": {
              "outlinewidth": 0,
              "ticks": ""
             }
            },
            "type": "parcoords"
           }
          ],
          "pie": [
           {
            "automargin": true,
            "type": "pie"
           }
          ],
          "scatter": [
           {
            "fillpattern": {
             "fillmode": "overlay",
             "size": 10,
             "solidity": 0.2
            },
            "type": "scatter"
           }
          ],
          "scatter3d": [
           {
            "line": {
             "colorbar": {
              "outlinewidth": 0,
              "ticks": ""
             }
            },
            "marker": {
             "colorbar": {
              "outlinewidth": 0,
              "ticks": ""
             }
            },
            "type": "scatter3d"
           }
          ],
          "scattercarpet": [
           {
            "marker": {
             "colorbar": {
              "outlinewidth": 0,
              "ticks": ""
             }
            },
            "type": "scattercarpet"
           }
          ],
          "scattergeo": [
           {
            "marker": {
             "colorbar": {
              "outlinewidth": 0,
              "ticks": ""
             }
            },
            "type": "scattergeo"
           }
          ],
          "scattergl": [
           {
            "marker": {
             "colorbar": {
              "outlinewidth": 0,
              "ticks": ""
             }
            },
            "type": "scattergl"
           }
          ],
          "scattermapbox": [
           {
            "marker": {
             "colorbar": {
              "outlinewidth": 0,
              "ticks": ""
             }
            },
            "type": "scattermapbox"
           }
          ],
          "scatterpolar": [
           {
            "marker": {
             "colorbar": {
              "outlinewidth": 0,
              "ticks": ""
             }
            },
            "type": "scatterpolar"
           }
          ],
          "scatterpolargl": [
           {
            "marker": {
             "colorbar": {
              "outlinewidth": 0,
              "ticks": ""
             }
            },
            "type": "scatterpolargl"
           }
          ],
          "scatterternary": [
           {
            "marker": {
             "colorbar": {
              "outlinewidth": 0,
              "ticks": ""
             }
            },
            "type": "scatterternary"
           }
          ],
          "surface": [
           {
            "colorbar": {
             "outlinewidth": 0,
             "ticks": ""
            },
            "colorscale": [
             [
              0,
              "#0d0887"
             ],
             [
              0.1111111111111111,
              "#46039f"
             ],
             [
              0.2222222222222222,
              "#7201a8"
             ],
             [
              0.3333333333333333,
              "#9c179e"
             ],
             [
              0.4444444444444444,
              "#bd3786"
             ],
             [
              0.5555555555555556,
              "#d8576b"
             ],
             [
              0.6666666666666666,
              "#ed7953"
             ],
             [
              0.7777777777777778,
              "#fb9f3a"
             ],
             [
              0.8888888888888888,
              "#fdca26"
             ],
             [
              1,
              "#f0f921"
             ]
            ],
            "type": "surface"
           }
          ],
          "table": [
           {
            "cells": {
             "fill": {
              "color": "#EBF0F8"
             },
             "line": {
              "color": "white"
             }
            },
            "header": {
             "fill": {
              "color": "#C8D4E3"
             },
             "line": {
              "color": "white"
             }
            },
            "type": "table"
           }
          ]
         },
         "layout": {
          "annotationdefaults": {
           "arrowcolor": "#2a3f5f",
           "arrowhead": 0,
           "arrowwidth": 1
          },
          "autotypenumbers": "strict",
          "coloraxis": {
           "colorbar": {
            "outlinewidth": 0,
            "ticks": ""
           }
          },
          "colorscale": {
           "diverging": [
            [
             0,
             "#8e0152"
            ],
            [
             0.1,
             "#c51b7d"
            ],
            [
             0.2,
             "#de77ae"
            ],
            [
             0.3,
             "#f1b6da"
            ],
            [
             0.4,
             "#fde0ef"
            ],
            [
             0.5,
             "#f7f7f7"
            ],
            [
             0.6,
             "#e6f5d0"
            ],
            [
             0.7,
             "#b8e186"
            ],
            [
             0.8,
             "#7fbc41"
            ],
            [
             0.9,
             "#4d9221"
            ],
            [
             1,
             "#276419"
            ]
           ],
           "sequential": [
            [
             0,
             "#0d0887"
            ],
            [
             0.1111111111111111,
             "#46039f"
            ],
            [
             0.2222222222222222,
             "#7201a8"
            ],
            [
             0.3333333333333333,
             "#9c179e"
            ],
            [
             0.4444444444444444,
             "#bd3786"
            ],
            [
             0.5555555555555556,
             "#d8576b"
            ],
            [
             0.6666666666666666,
             "#ed7953"
            ],
            [
             0.7777777777777778,
             "#fb9f3a"
            ],
            [
             0.8888888888888888,
             "#fdca26"
            ],
            [
             1,
             "#f0f921"
            ]
           ],
           "sequentialminus": [
            [
             0,
             "#0d0887"
            ],
            [
             0.1111111111111111,
             "#46039f"
            ],
            [
             0.2222222222222222,
             "#7201a8"
            ],
            [
             0.3333333333333333,
             "#9c179e"
            ],
            [
             0.4444444444444444,
             "#bd3786"
            ],
            [
             0.5555555555555556,
             "#d8576b"
            ],
            [
             0.6666666666666666,
             "#ed7953"
            ],
            [
             0.7777777777777778,
             "#fb9f3a"
            ],
            [
             0.8888888888888888,
             "#fdca26"
            ],
            [
             1,
             "#f0f921"
            ]
           ]
          },
          "colorway": [
           "#636efa",
           "#EF553B",
           "#00cc96",
           "#ab63fa",
           "#FFA15A",
           "#19d3f3",
           "#FF6692",
           "#B6E880",
           "#FF97FF",
           "#FECB52"
          ],
          "font": {
           "color": "#2a3f5f"
          },
          "geo": {
           "bgcolor": "white",
           "lakecolor": "white",
           "landcolor": "#E5ECF6",
           "showlakes": true,
           "showland": true,
           "subunitcolor": "white"
          },
          "hoverlabel": {
           "align": "left"
          },
          "hovermode": "closest",
          "mapbox": {
           "style": "light"
          },
          "paper_bgcolor": "white",
          "plot_bgcolor": "#E5ECF6",
          "polar": {
           "angularaxis": {
            "gridcolor": "white",
            "linecolor": "white",
            "ticks": ""
           },
           "bgcolor": "#E5ECF6",
           "radialaxis": {
            "gridcolor": "white",
            "linecolor": "white",
            "ticks": ""
           }
          },
          "scene": {
           "xaxis": {
            "backgroundcolor": "#E5ECF6",
            "gridcolor": "white",
            "gridwidth": 2,
            "linecolor": "white",
            "showbackground": true,
            "ticks": "",
            "zerolinecolor": "white"
           },
           "yaxis": {
            "backgroundcolor": "#E5ECF6",
            "gridcolor": "white",
            "gridwidth": 2,
            "linecolor": "white",
            "showbackground": true,
            "ticks": "",
            "zerolinecolor": "white"
           },
           "zaxis": {
            "backgroundcolor": "#E5ECF6",
            "gridcolor": "white",
            "gridwidth": 2,
            "linecolor": "white",
            "showbackground": true,
            "ticks": "",
            "zerolinecolor": "white"
           }
          },
          "shapedefaults": {
           "line": {
            "color": "#2a3f5f"
           }
          },
          "ternary": {
           "aaxis": {
            "gridcolor": "white",
            "linecolor": "white",
            "ticks": ""
           },
           "baxis": {
            "gridcolor": "white",
            "linecolor": "white",
            "ticks": ""
           },
           "bgcolor": "#E5ECF6",
           "caxis": {
            "gridcolor": "white",
            "linecolor": "white",
            "ticks": ""
           }
          },
          "title": {
           "x": 0.05
          },
          "xaxis": {
           "automargin": true,
           "gridcolor": "white",
           "linecolor": "white",
           "ticks": "",
           "title": {
            "standoff": 15
           },
           "zerolinecolor": "white",
           "zerolinewidth": 2
          },
          "yaxis": {
           "automargin": true,
           "gridcolor": "white",
           "linecolor": "white",
           "ticks": "",
           "title": {
            "standoff": 15
           },
           "zerolinecolor": "white",
           "zerolinewidth": 2
          }
         }
        },
        "xaxis": {
         "anchor": "y",
         "domain": [
          0,
          1
         ],
         "title": {
          "text": "acceleration"
         }
        },
        "yaxis": {
         "anchor": "x",
         "domain": [
          0,
          1
         ],
         "title": {
          "text": "count"
         }
        }
       }
      },
      "text/html": [
       "<div>                            <div id=\"102fed63-e067-47a3-b4d2-b37a57d69b34\" class=\"plotly-graph-div\" style=\"height:525px; width:100%;\"></div>            <script type=\"text/javascript\">                require([\"plotly\"], function(Plotly) {                    window.PLOTLYENV=window.PLOTLYENV || {};                                    if (document.getElementById(\"102fed63-e067-47a3-b4d2-b37a57d69b34\")) {                    Plotly.newPlot(                        \"102fed63-e067-47a3-b4d2-b37a57d69b34\",                        [{\"alignmentgroup\":\"True\",\"bingroup\":\"x\",\"hovertemplate\":\"mpg=-1\\u003cbr\\u003eacceleration=%{x}\\u003cbr\\u003ecount=%{y}\\u003cextra\\u003e\\u003c\\u002fextra\\u003e\",\"legendgroup\":\"-1\",\"marker\":{\"color\":\"#636efa\",\"opacity\":0.5,\"pattern\":{\"shape\":\"\"}},\"name\":\"-1\",\"nbinsx\":30,\"offsetgroup\":\"-1\",\"orientation\":\"v\",\"showlegend\":true,\"x\":[18.5,15.0,14.0,13.5,11.0,14.0,11.0,13.5,12.5,11.5,12.5,11.5,11.0,12.0,15.0,16.0,14.0,14.0,13.2,13.0,12.0,14.5,13.5,12.0,13.0,13.0,13.0,11.0,12.0,12.0,12.0,12.5,11.0,14.5,16.0,11.5,15.5,14.0,13.0,14.5,13.5,8.0,12.0,13.5,13.0,13.5,12.0,11.5,8.5,9.0,10.0,10.0,12.8,17.0,19.5,21.0,19.0,14.9,12.5,11.0,12.5,13.5,13.0,14.0,11.5,10.0,8.5,9.5,10.0,13.9,13.7,11.4,14.3,12.2,15.5,18.0,17.0,18.5,18.0,14.0,12.0,13.0,14.5,14.5,11.5,11.1,9.5,15.8,16.7,12.1,13.2,14.9,13.6,21.0,15.5,19.0,10.5,11.5,15.4,16.4,17.8,13.0,12.5,13.7,16.6,13.4,13.4,13.5,14.5,14.5,15.5,16.5,16.5,19.0,15.0,16.0,15.5,16.0,21.0,16.5,14.5,13.5,12.0,11.0,15.1,11.2,15.2,16.2,19.0,13.0,18.7,13.5,21.9,15.5,18.5,15.5,17.7,16.0,13.0,16.0,17.0,15.0,15.5,18.7,19.2,15.0,13.2,17.2,13.2,18.2,15.5,14.0,15.7,19.5,19.0,13.5,16.5,17.7,16.0,13.5,15.8,17.1,18.2,12.8,15.9,18.2,17.2,16.9,16.6,15.8,16.7,19.5,16.5,19.5,14.0,15.0,16.0,15.0,14.8,13.5,12.8,15.4,15.7,16.5,18.0,14.5,16.0,19.0,14.5,15.5,15.4,14.7,14.5,17.3,15.8,17.6],\"xaxis\":\"x\",\"yaxis\":\"y\",\"type\":\"histogram\"},{\"alignmentgroup\":\"True\",\"bingroup\":\"x\",\"hovertemplate\":\"mpg=1\\u003cbr\\u003eacceleration=%{x}\\u003cbr\\u003ecount=%{y}\\u003cextra\\u003e\\u003c\\u002fextra\\u003e\",\"legendgroup\":\"1\",\"marker\":{\"color\":\"#EF553B\",\"opacity\":0.5,\"pattern\":{\"shape\":\"\"}},\"name\":\"1\",\"nbinsx\":30,\"offsetgroup\":\"1\",\"orientation\":\"v\",\"showlegend\":true,\"x\":[15.0,17.0,14.5,14.0,18.5,17.0,23.5,16.0,17.4,16.7,12.6,12.5,17.6,14.9,22.2,14.5,15.5,15.0,15.5,17.0,15.0,14.0,13.5,16.4,15.5,17.6,13.8,20.1,16.0,22.1,17.5,17.5,14.0,16.9,13.5,17.0,14.9,16.5,17.0,16.4,15.4,20.1,12.6,15.5,15.8,14.4,15.5,14.0,12.5,16.5,14.5,15.5,20.5,18.0,20.5,21.0,18.2,14.5,17.7,15.5,18.1,13.6,16.4,19.0,12.9,15.3,18.6,15.6,18.0,17.3,19.0,16.5,14.5,14.5,14.7,15.7,24.8,15.0,14.2,14.4,15.5,19.6,14.0,18.6,15.5,16.5,14.5,16.4,17.0,15.0,20.4,16.0,11.3,16.0,19.5,22.2,14.0,14.2,16.0,14.5,16.5,12.2,16.6,15.5,15.3,20.7,14.8,12.9,21.8,19.5,14.5,16.4,16.5,14.1,17.0,19.6,14.5,16.2,19.4,19.0,16.5,19.0,16.0,17.6,17.5,14.9,18.5,18.3,19.2,14.0,11.6,13.9,21.0,19.0,17.0,15.7,15.5,15.2,17.8,17.0,16.8,11.4,19.4,14.8,14.2,17.4,17.5,13.2,16.8,15.9,14.4,18.0,16.9,18.0,15.2,16.0,13.2,15.8,16.2,14.9,14.9,15.1,18.0,16.1,14.4,15.3,14.5,14.5,13.0,18.6,17.3,16.4,14.4,19.9,15.0,19.4,18.2,16.4,14.7,17.3,14.7,15.0,16.2,17.0,18.8,16.4,16.9,18.6,19.2,14.7,21.5,23.7,24.6,21.7,13.8,17.9],\"xaxis\":\"x\",\"yaxis\":\"y\",\"type\":\"histogram\"}],                        {\"template\":{\"data\":{\"histogram2dcontour\":[{\"type\":\"histogram2dcontour\",\"colorbar\":{\"outlinewidth\":0,\"ticks\":\"\"},\"colorscale\":[[0.0,\"#0d0887\"],[0.1111111111111111,\"#46039f\"],[0.2222222222222222,\"#7201a8\"],[0.3333333333333333,\"#9c179e\"],[0.4444444444444444,\"#bd3786\"],[0.5555555555555556,\"#d8576b\"],[0.6666666666666666,\"#ed7953\"],[0.7777777777777778,\"#fb9f3a\"],[0.8888888888888888,\"#fdca26\"],[1.0,\"#f0f921\"]]}],\"choropleth\":[{\"type\":\"choropleth\",\"colorbar\":{\"outlinewidth\":0,\"ticks\":\"\"}}],\"histogram2d\":[{\"type\":\"histogram2d\",\"colorbar\":{\"outlinewidth\":0,\"ticks\":\"\"},\"colorscale\":[[0.0,\"#0d0887\"],[0.1111111111111111,\"#46039f\"],[0.2222222222222222,\"#7201a8\"],[0.3333333333333333,\"#9c179e\"],[0.4444444444444444,\"#bd3786\"],[0.5555555555555556,\"#d8576b\"],[0.6666666666666666,\"#ed7953\"],[0.7777777777777778,\"#fb9f3a\"],[0.8888888888888888,\"#fdca26\"],[1.0,\"#f0f921\"]]}],\"heatmap\":[{\"type\":\"heatmap\",\"colorbar\":{\"outlinewidth\":0,\"ticks\":\"\"},\"colorscale\":[[0.0,\"#0d0887\"],[0.1111111111111111,\"#46039f\"],[0.2222222222222222,\"#7201a8\"],[0.3333333333333333,\"#9c179e\"],[0.4444444444444444,\"#bd3786\"],[0.5555555555555556,\"#d8576b\"],[0.6666666666666666,\"#ed7953\"],[0.7777777777777778,\"#fb9f3a\"],[0.8888888888888888,\"#fdca26\"],[1.0,\"#f0f921\"]]}],\"heatmapgl\":[{\"type\":\"heatmapgl\",\"colorbar\":{\"outlinewidth\":0,\"ticks\":\"\"},\"colorscale\":[[0.0,\"#0d0887\"],[0.1111111111111111,\"#46039f\"],[0.2222222222222222,\"#7201a8\"],[0.3333333333333333,\"#9c179e\"],[0.4444444444444444,\"#bd3786\"],[0.5555555555555556,\"#d8576b\"],[0.6666666666666666,\"#ed7953\"],[0.7777777777777778,\"#fb9f3a\"],[0.8888888888888888,\"#fdca26\"],[1.0,\"#f0f921\"]]}],\"contourcarpet\":[{\"type\":\"contourcarpet\",\"colorbar\":{\"outlinewidth\":0,\"ticks\":\"\"}}],\"contour\":[{\"type\":\"contour\",\"colorbar\":{\"outlinewidth\":0,\"ticks\":\"\"},\"colorscale\":[[0.0,\"#0d0887\"],[0.1111111111111111,\"#46039f\"],[0.2222222222222222,\"#7201a8\"],[0.3333333333333333,\"#9c179e\"],[0.4444444444444444,\"#bd3786\"],[0.5555555555555556,\"#d8576b\"],[0.6666666666666666,\"#ed7953\"],[0.7777777777777778,\"#fb9f3a\"],[0.8888888888888888,\"#fdca26\"],[1.0,\"#f0f921\"]]}],\"surface\":[{\"type\":\"surface\",\"colorbar\":{\"outlinewidth\":0,\"ticks\":\"\"},\"colorscale\":[[0.0,\"#0d0887\"],[0.1111111111111111,\"#46039f\"],[0.2222222222222222,\"#7201a8\"],[0.3333333333333333,\"#9c179e\"],[0.4444444444444444,\"#bd3786\"],[0.5555555555555556,\"#d8576b\"],[0.6666666666666666,\"#ed7953\"],[0.7777777777777778,\"#fb9f3a\"],[0.8888888888888888,\"#fdca26\"],[1.0,\"#f0f921\"]]}],\"mesh3d\":[{\"type\":\"mesh3d\",\"colorbar\":{\"outlinewidth\":0,\"ticks\":\"\"}}],\"scatter\":[{\"fillpattern\":{\"fillmode\":\"overlay\",\"size\":10,\"solidity\":0.2},\"type\":\"scatter\"}],\"parcoords\":[{\"type\":\"parcoords\",\"line\":{\"colorbar\":{\"outlinewidth\":0,\"ticks\":\"\"}}}],\"scatterpolargl\":[{\"type\":\"scatterpolargl\",\"marker\":{\"colorbar\":{\"outlinewidth\":0,\"ticks\":\"\"}}}],\"bar\":[{\"error_x\":{\"color\":\"#2a3f5f\"},\"error_y\":{\"color\":\"#2a3f5f\"},\"marker\":{\"line\":{\"color\":\"#E5ECF6\",\"width\":0.5},\"pattern\":{\"fillmode\":\"overlay\",\"size\":10,\"solidity\":0.2}},\"type\":\"bar\"}],\"scattergeo\":[{\"type\":\"scattergeo\",\"marker\":{\"colorbar\":{\"outlinewidth\":0,\"ticks\":\"\"}}}],\"scatterpolar\":[{\"type\":\"scatterpolar\",\"marker\":{\"colorbar\":{\"outlinewidth\":0,\"ticks\":\"\"}}}],\"histogram\":[{\"marker\":{\"pattern\":{\"fillmode\":\"overlay\",\"size\":10,\"solidity\":0.2}},\"type\":\"histogram\"}],\"scattergl\":[{\"type\":\"scattergl\",\"marker\":{\"colorbar\":{\"outlinewidth\":0,\"ticks\":\"\"}}}],\"scatter3d\":[{\"type\":\"scatter3d\",\"line\":{\"colorbar\":{\"outlinewidth\":0,\"ticks\":\"\"}},\"marker\":{\"colorbar\":{\"outlinewidth\":0,\"ticks\":\"\"}}}],\"scattermapbox\":[{\"type\":\"scattermapbox\",\"marker\":{\"colorbar\":{\"outlinewidth\":0,\"ticks\":\"\"}}}],\"scatterternary\":[{\"type\":\"scatterternary\",\"marker\":{\"colorbar\":{\"outlinewidth\":0,\"ticks\":\"\"}}}],\"scattercarpet\":[{\"type\":\"scattercarpet\",\"marker\":{\"colorbar\":{\"outlinewidth\":0,\"ticks\":\"\"}}}],\"carpet\":[{\"aaxis\":{\"endlinecolor\":\"#2a3f5f\",\"gridcolor\":\"white\",\"linecolor\":\"white\",\"minorgridcolor\":\"white\",\"startlinecolor\":\"#2a3f5f\"},\"baxis\":{\"endlinecolor\":\"#2a3f5f\",\"gridcolor\":\"white\",\"linecolor\":\"white\",\"minorgridcolor\":\"white\",\"startlinecolor\":\"#2a3f5f\"},\"type\":\"carpet\"}],\"table\":[{\"cells\":{\"fill\":{\"color\":\"#EBF0F8\"},\"line\":{\"color\":\"white\"}},\"header\":{\"fill\":{\"color\":\"#C8D4E3\"},\"line\":{\"color\":\"white\"}},\"type\":\"table\"}],\"barpolar\":[{\"marker\":{\"line\":{\"color\":\"#E5ECF6\",\"width\":0.5},\"pattern\":{\"fillmode\":\"overlay\",\"size\":10,\"solidity\":0.2}},\"type\":\"barpolar\"}],\"pie\":[{\"automargin\":true,\"type\":\"pie\"}]},\"layout\":{\"autotypenumbers\":\"strict\",\"colorway\":[\"#636efa\",\"#EF553B\",\"#00cc96\",\"#ab63fa\",\"#FFA15A\",\"#19d3f3\",\"#FF6692\",\"#B6E880\",\"#FF97FF\",\"#FECB52\"],\"font\":{\"color\":\"#2a3f5f\"},\"hovermode\":\"closest\",\"hoverlabel\":{\"align\":\"left\"},\"paper_bgcolor\":\"white\",\"plot_bgcolor\":\"#E5ECF6\",\"polar\":{\"bgcolor\":\"#E5ECF6\",\"angularaxis\":{\"gridcolor\":\"white\",\"linecolor\":\"white\",\"ticks\":\"\"},\"radialaxis\":{\"gridcolor\":\"white\",\"linecolor\":\"white\",\"ticks\":\"\"}},\"ternary\":{\"bgcolor\":\"#E5ECF6\",\"aaxis\":{\"gridcolor\":\"white\",\"linecolor\":\"white\",\"ticks\":\"\"},\"baxis\":{\"gridcolor\":\"white\",\"linecolor\":\"white\",\"ticks\":\"\"},\"caxis\":{\"gridcolor\":\"white\",\"linecolor\":\"white\",\"ticks\":\"\"}},\"coloraxis\":{\"colorbar\":{\"outlinewidth\":0,\"ticks\":\"\"}},\"colorscale\":{\"sequential\":[[0.0,\"#0d0887\"],[0.1111111111111111,\"#46039f\"],[0.2222222222222222,\"#7201a8\"],[0.3333333333333333,\"#9c179e\"],[0.4444444444444444,\"#bd3786\"],[0.5555555555555556,\"#d8576b\"],[0.6666666666666666,\"#ed7953\"],[0.7777777777777778,\"#fb9f3a\"],[0.8888888888888888,\"#fdca26\"],[1.0,\"#f0f921\"]],\"sequentialminus\":[[0.0,\"#0d0887\"],[0.1111111111111111,\"#46039f\"],[0.2222222222222222,\"#7201a8\"],[0.3333333333333333,\"#9c179e\"],[0.4444444444444444,\"#bd3786\"],[0.5555555555555556,\"#d8576b\"],[0.6666666666666666,\"#ed7953\"],[0.7777777777777778,\"#fb9f3a\"],[0.8888888888888888,\"#fdca26\"],[1.0,\"#f0f921\"]],\"diverging\":[[0,\"#8e0152\"],[0.1,\"#c51b7d\"],[0.2,\"#de77ae\"],[0.3,\"#f1b6da\"],[0.4,\"#fde0ef\"],[0.5,\"#f7f7f7\"],[0.6,\"#e6f5d0\"],[0.7,\"#b8e186\"],[0.8,\"#7fbc41\"],[0.9,\"#4d9221\"],[1,\"#276419\"]]},\"xaxis\":{\"gridcolor\":\"white\",\"linecolor\":\"white\",\"ticks\":\"\",\"title\":{\"standoff\":15},\"zerolinecolor\":\"white\",\"automargin\":true,\"zerolinewidth\":2},\"yaxis\":{\"gridcolor\":\"white\",\"linecolor\":\"white\",\"ticks\":\"\",\"title\":{\"standoff\":15},\"zerolinecolor\":\"white\",\"automargin\":true,\"zerolinewidth\":2},\"scene\":{\"xaxis\":{\"backgroundcolor\":\"#E5ECF6\",\"gridcolor\":\"white\",\"linecolor\":\"white\",\"showbackground\":true,\"ticks\":\"\",\"zerolinecolor\":\"white\",\"gridwidth\":2},\"yaxis\":{\"backgroundcolor\":\"#E5ECF6\",\"gridcolor\":\"white\",\"linecolor\":\"white\",\"showbackground\":true,\"ticks\":\"\",\"zerolinecolor\":\"white\",\"gridwidth\":2},\"zaxis\":{\"backgroundcolor\":\"#E5ECF6\",\"gridcolor\":\"white\",\"linecolor\":\"white\",\"showbackground\":true,\"ticks\":\"\",\"zerolinecolor\":\"white\",\"gridwidth\":2}},\"shapedefaults\":{\"line\":{\"color\":\"#2a3f5f\"}},\"annotationdefaults\":{\"arrowcolor\":\"#2a3f5f\",\"arrowhead\":0,\"arrowwidth\":1},\"geo\":{\"bgcolor\":\"white\",\"landcolor\":\"#E5ECF6\",\"subunitcolor\":\"white\",\"showland\":true,\"showlakes\":true,\"lakecolor\":\"white\"},\"title\":{\"x\":0.05},\"mapbox\":{\"style\":\"light\"}}},\"xaxis\":{\"anchor\":\"y\",\"domain\":[0.0,1.0],\"title\":{\"text\":\"acceleration\"}},\"yaxis\":{\"anchor\":\"x\",\"domain\":[0.0,1.0],\"title\":{\"text\":\"count\"}},\"legend\":{\"title\":{\"text\":\"mpg\"},\"tracegroupgap\":0},\"margin\":{\"t\":60},\"barmode\":\"group\"},                        {\"responsive\": true}                    ).then(function(){\n",
       "                            \n",
       "var gd = document.getElementById('102fed63-e067-47a3-b4d2-b37a57d69b34');\n",
       "var x = new MutationObserver(function (mutations, observer) {{\n",
       "        var display = window.getComputedStyle(gd).display;\n",
       "        if (!display || display === 'none') {{\n",
       "            console.log([gd, 'removed!']);\n",
       "            Plotly.purge(gd);\n",
       "            observer.disconnect();\n",
       "        }}\n",
       "}});\n",
       "\n",
       "// Listen for the removal of the full notebook cells\n",
       "var notebookContainer = gd.closest('#notebook-container');\n",
       "if (notebookContainer) {{\n",
       "    x.observe(notebookContainer, {childList: true});\n",
       "}}\n",
       "\n",
       "// Listen for the clearing of the current output cell\n",
       "var outputEl = gd.closest('.output');\n",
       "if (outputEl) {{\n",
       "    x.observe(outputEl, {childList: true});\n",
       "}}\n",
       "\n",
       "                        })                };                });            </script>        </div>"
      ]
     },
     "metadata": {},
     "output_type": "display_data"
    },
    {
     "data": {
      "application/vnd.plotly.v1+json": {
       "config": {
        "plotlyServerURL": "https://plot.ly"
       },
       "data": [
        {
         "alignmentgroup": "True",
         "bingroup": "x",
         "hovertemplate": "mpg=-1<br>origin=1<br>acceleration=%{x}<br>count=%{y}<extra></extra>",
         "legendgroup": "-1",
         "marker": {
          "color": "#636efa",
          "opacity": 0.5,
          "pattern": {
           "shape": ""
          }
         },
         "name": "-1",
         "nbinsx": 30,
         "offsetgroup": "-1",
         "orientation": "v",
         "showlegend": true,
         "type": "histogram",
         "x": [
          18.5,
          15,
          14,
          13.5,
          11,
          14,
          11,
          13.5,
          12.5,
          11.5,
          12.5,
          11.5,
          11,
          12,
          15,
          16,
          14,
          14,
          13.2,
          13,
          12,
          14.5,
          13.5,
          12,
          13,
          13,
          13,
          11,
          12,
          12,
          12,
          12.5,
          11,
          14.5,
          16,
          11.5,
          15.5,
          14,
          13,
          14.5,
          13.5,
          8,
          12,
          13.5,
          13,
          13.5,
          12,
          11.5,
          8.5,
          9,
          10,
          10,
          12.8,
          17,
          19.5,
          21,
          19,
          14.9,
          12.5,
          11,
          12.5,
          13.5,
          13,
          14,
          11.5,
          10,
          8.5,
          9.5,
          10,
          13.9,
          13.7,
          11.4,
          14.3,
          12.2,
          15.5,
          18,
          17,
          18.5,
          18,
          14,
          12,
          13,
          14.5,
          14.5,
          11.5,
          11.1,
          9.5,
          12.1,
          13.2,
          14.9,
          21,
          15.5,
          19,
          10.5,
          11.5,
          15.4,
          16.4,
          17.8,
          13,
          12.5,
          13.7,
          16.6,
          13.4,
          13.4,
          14.5,
          15.5,
          16.5,
          16.5,
          19,
          15,
          16,
          15.5,
          16,
          21,
          16.5,
          14.5,
          13.5,
          12,
          11,
          15.1,
          11.2,
          15.2,
          16.2,
          19,
          13,
          18.7,
          18.5,
          17.7,
          16,
          13,
          16,
          17,
          15,
          15.5,
          18.7,
          19.2,
          15,
          13.2,
          17.2,
          13.2,
          18.2,
          15.5,
          19.5,
          16.5,
          17.7,
          16,
          13.5,
          15.8,
          17.1,
          18.2,
          12.8,
          18.2,
          17.2,
          16.9,
          16.6,
          15.8,
          16.7,
          16.5,
          19.5,
          14,
          15,
          16,
          15,
          15.4,
          16,
          19,
          15.5,
          15.4,
          14.7,
          14.5,
          17.3,
          15.8,
          17.6
         ],
         "xaxis": "x",
         "yaxis": "y"
        },
        {
         "alignmentgroup": "True",
         "bingroup": "x",
         "hovertemplate": "mpg=-1<br>origin=2<br>acceleration=%{x}<br>count=%{y}<extra></extra>",
         "legendgroup": "-1",
         "marker": {
          "color": "#636efa",
          "opacity": 0.5,
          "pattern": {
           "shape": ""
          }
         },
         "name": "-1",
         "nbinsx": 30,
         "offsetgroup": "-1",
         "orientation": "v",
         "showlegend": false,
         "type": "histogram",
         "x": [
          15.8,
          16.7,
          13.6,
          14.5,
          21.9,
          15.5,
          14,
          15.7,
          15.9,
          19.5,
          12.8,
          15.7,
          18,
          14.5
         ],
         "xaxis": "x2",
         "yaxis": "y2"
        },
        {
         "alignmentgroup": "True",
         "bingroup": "x",
         "hovertemplate": "mpg=-1<br>origin=3<br>acceleration=%{x}<br>count=%{y}<extra></extra>",
         "legendgroup": "-1",
         "marker": {
          "color": "#636efa",
          "opacity": 0.5,
          "pattern": {
           "shape": ""
          }
         },
         "name": "-1",
         "nbinsx": 30,
         "offsetgroup": "-1",
         "orientation": "v",
         "showlegend": false,
         "type": "histogram",
         "x": [
          13.5,
          13.5,
          15.5,
          19,
          13.5,
          14.8,
          13.5,
          16.5,
          14.5
         ],
         "xaxis": "x3",
         "yaxis": "y3"
        },
        {
         "alignmentgroup": "True",
         "bingroup": "x",
         "hovertemplate": "mpg=1<br>origin=1<br>acceleration=%{x}<br>count=%{y}<extra></extra>",
         "legendgroup": "1",
         "marker": {
          "color": "#EF553B",
          "opacity": 0.5,
          "pattern": {
           "shape": ""
          }
         },
         "name": "1",
         "nbinsx": 30,
         "offsetgroup": "1",
         "orientation": "v",
         "showlegend": true,
         "type": "histogram",
         "x": [
          14,
          18.5,
          17,
          16,
          17.4,
          16.7,
          12.6,
          17.6,
          22.2,
          16.4,
          17.6,
          20.1,
          16,
          22.1,
          17,
          14.9,
          17,
          16.4,
          15.4,
          15.5,
          15.8,
          14.4,
          16.5,
          14.5,
          20.5,
          17.7,
          18.1,
          13.6,
          16.4,
          19,
          12.9,
          18.6,
          15.6,
          18,
          17.3,
          15.7,
          15,
          14.4,
          19.6,
          18.6,
          15.5,
          16.5,
          14.5,
          15,
          16,
          11.3,
          16,
          22.2,
          20.7,
          14.8,
          12.9,
          16.5,
          17,
          14.5,
          16.2,
          19.4,
          11.6,
          15.5,
          13.2,
          15.9,
          18,
          13.2,
          16.2,
          14.9,
          14.9,
          14.4,
          13,
          17.3,
          14.4,
          14.7,
          17,
          16.4
         ],
         "xaxis": "x",
         "yaxis": "y"
        },
        {
         "alignmentgroup": "True",
         "bingroup": "x",
         "hovertemplate": "mpg=1<br>origin=2<br>acceleration=%{x}<br>count=%{y}<extra></extra>",
         "legendgroup": "1",
         "marker": {
          "color": "#EF553B",
          "opacity": 0.5,
          "pattern": {
           "shape": ""
          }
         },
         "name": "1",
         "nbinsx": 30,
         "offsetgroup": "1",
         "orientation": "v",
         "showlegend": false,
         "type": "histogram",
         "x": [
          15,
          17,
          23.5,
          14.5,
          15.5,
          14,
          15.5,
          17.5,
          17.5,
          16.9,
          13.5,
          16.5,
          20.1,
          14,
          12.5,
          15.5,
          18,
          20.5,
          21,
          14.5,
          15.5,
          15.3,
          19,
          24.8,
          15.5,
          14,
          20.4,
          19.5,
          14,
          14.2,
          14.5,
          16.5,
          12.2,
          15.3,
          21.8,
          19.5,
          14.5,
          14.1,
          19.6,
          16,
          14.9,
          14,
          14.2,
          15.8,
          15.1,
          15.3,
          18.6,
          19.9,
          14.7,
          14.7,
          21.5,
          23.7,
          24.6,
          21.7
         ],
         "xaxis": "x2",
         "yaxis": "y2"
        },
        {
         "alignmentgroup": "True",
         "bingroup": "x",
         "hovertemplate": "mpg=1<br>origin=3<br>acceleration=%{x}<br>count=%{y}<extra></extra>",
         "legendgroup": "1",
         "marker": {
          "color": "#EF553B",
          "opacity": 0.5,
          "pattern": {
           "shape": ""
          }
         },
         "name": "1",
         "nbinsx": 30,
         "offsetgroup": "1",
         "orientation": "v",
         "showlegend": false,
         "type": "histogram",
         "x": [
          14.5,
          12.5,
          14.9,
          15.5,
          15,
          17,
          15,
          13.5,
          13.8,
          14,
          12.6,
          15.5,
          18.2,
          16.5,
          14.5,
          14.5,
          14.7,
          14.2,
          16.4,
          17,
          16,
          16.6,
          15.5,
          16.4,
          19,
          16.5,
          19,
          17.6,
          17.5,
          18.5,
          18.3,
          19.2,
          13.9,
          21,
          19,
          17,
          15.7,
          15.2,
          17.8,
          17,
          16.8,
          11.4,
          19.4,
          14.8,
          17.4,
          17.5,
          16.8,
          14.4,
          18,
          16.9,
          15.2,
          16,
          18,
          16.1,
          14.5,
          14.5,
          16.4,
          15,
          19.4,
          18.2,
          16.4,
          17.3,
          15,
          16.2,
          18.8,
          16.9,
          18.6,
          19.2,
          13.8,
          17.9
         ],
         "xaxis": "x3",
         "yaxis": "y3"
        }
       ],
       "layout": {
        "annotations": [
         {
          "font": {},
          "showarrow": false,
          "text": "origin=1",
          "x": 0.15999999999999998,
          "xanchor": "center",
          "xref": "paper",
          "y": 1,
          "yanchor": "bottom",
          "yref": "paper"
         },
         {
          "font": {},
          "showarrow": false,
          "text": "origin=2",
          "x": 0.49999999999999994,
          "xanchor": "center",
          "xref": "paper",
          "y": 1,
          "yanchor": "bottom",
          "yref": "paper"
         },
         {
          "font": {},
          "showarrow": false,
          "text": "origin=3",
          "x": 0.8399999999999999,
          "xanchor": "center",
          "xref": "paper",
          "y": 1,
          "yanchor": "bottom",
          "yref": "paper"
         }
        ],
        "barmode": "group",
        "legend": {
         "title": {
          "text": "mpg"
         },
         "tracegroupgap": 0
        },
        "margin": {
         "t": 60
        },
        "template": {
         "data": {
          "bar": [
           {
            "error_x": {
             "color": "#2a3f5f"
            },
            "error_y": {
             "color": "#2a3f5f"
            },
            "marker": {
             "line": {
              "color": "#E5ECF6",
              "width": 0.5
             },
             "pattern": {
              "fillmode": "overlay",
              "size": 10,
              "solidity": 0.2
             }
            },
            "type": "bar"
           }
          ],
          "barpolar": [
           {
            "marker": {
             "line": {
              "color": "#E5ECF6",
              "width": 0.5
             },
             "pattern": {
              "fillmode": "overlay",
              "size": 10,
              "solidity": 0.2
             }
            },
            "type": "barpolar"
           }
          ],
          "carpet": [
           {
            "aaxis": {
             "endlinecolor": "#2a3f5f",
             "gridcolor": "white",
             "linecolor": "white",
             "minorgridcolor": "white",
             "startlinecolor": "#2a3f5f"
            },
            "baxis": {
             "endlinecolor": "#2a3f5f",
             "gridcolor": "white",
             "linecolor": "white",
             "minorgridcolor": "white",
             "startlinecolor": "#2a3f5f"
            },
            "type": "carpet"
           }
          ],
          "choropleth": [
           {
            "colorbar": {
             "outlinewidth": 0,
             "ticks": ""
            },
            "type": "choropleth"
           }
          ],
          "contour": [
           {
            "colorbar": {
             "outlinewidth": 0,
             "ticks": ""
            },
            "colorscale": [
             [
              0,
              "#0d0887"
             ],
             [
              0.1111111111111111,
              "#46039f"
             ],
             [
              0.2222222222222222,
              "#7201a8"
             ],
             [
              0.3333333333333333,
              "#9c179e"
             ],
             [
              0.4444444444444444,
              "#bd3786"
             ],
             [
              0.5555555555555556,
              "#d8576b"
             ],
             [
              0.6666666666666666,
              "#ed7953"
             ],
             [
              0.7777777777777778,
              "#fb9f3a"
             ],
             [
              0.8888888888888888,
              "#fdca26"
             ],
             [
              1,
              "#f0f921"
             ]
            ],
            "type": "contour"
           }
          ],
          "contourcarpet": [
           {
            "colorbar": {
             "outlinewidth": 0,
             "ticks": ""
            },
            "type": "contourcarpet"
           }
          ],
          "heatmap": [
           {
            "colorbar": {
             "outlinewidth": 0,
             "ticks": ""
            },
            "colorscale": [
             [
              0,
              "#0d0887"
             ],
             [
              0.1111111111111111,
              "#46039f"
             ],
             [
              0.2222222222222222,
              "#7201a8"
             ],
             [
              0.3333333333333333,
              "#9c179e"
             ],
             [
              0.4444444444444444,
              "#bd3786"
             ],
             [
              0.5555555555555556,
              "#d8576b"
             ],
             [
              0.6666666666666666,
              "#ed7953"
             ],
             [
              0.7777777777777778,
              "#fb9f3a"
             ],
             [
              0.8888888888888888,
              "#fdca26"
             ],
             [
              1,
              "#f0f921"
             ]
            ],
            "type": "heatmap"
           }
          ],
          "heatmapgl": [
           {
            "colorbar": {
             "outlinewidth": 0,
             "ticks": ""
            },
            "colorscale": [
             [
              0,
              "#0d0887"
             ],
             [
              0.1111111111111111,
              "#46039f"
             ],
             [
              0.2222222222222222,
              "#7201a8"
             ],
             [
              0.3333333333333333,
              "#9c179e"
             ],
             [
              0.4444444444444444,
              "#bd3786"
             ],
             [
              0.5555555555555556,
              "#d8576b"
             ],
             [
              0.6666666666666666,
              "#ed7953"
             ],
             [
              0.7777777777777778,
              "#fb9f3a"
             ],
             [
              0.8888888888888888,
              "#fdca26"
             ],
             [
              1,
              "#f0f921"
             ]
            ],
            "type": "heatmapgl"
           }
          ],
          "histogram": [
           {
            "marker": {
             "pattern": {
              "fillmode": "overlay",
              "size": 10,
              "solidity": 0.2
             }
            },
            "type": "histogram"
           }
          ],
          "histogram2d": [
           {
            "colorbar": {
             "outlinewidth": 0,
             "ticks": ""
            },
            "colorscale": [
             [
              0,
              "#0d0887"
             ],
             [
              0.1111111111111111,
              "#46039f"
             ],
             [
              0.2222222222222222,
              "#7201a8"
             ],
             [
              0.3333333333333333,
              "#9c179e"
             ],
             [
              0.4444444444444444,
              "#bd3786"
             ],
             [
              0.5555555555555556,
              "#d8576b"
             ],
             [
              0.6666666666666666,
              "#ed7953"
             ],
             [
              0.7777777777777778,
              "#fb9f3a"
             ],
             [
              0.8888888888888888,
              "#fdca26"
             ],
             [
              1,
              "#f0f921"
             ]
            ],
            "type": "histogram2d"
           }
          ],
          "histogram2dcontour": [
           {
            "colorbar": {
             "outlinewidth": 0,
             "ticks": ""
            },
            "colorscale": [
             [
              0,
              "#0d0887"
             ],
             [
              0.1111111111111111,
              "#46039f"
             ],
             [
              0.2222222222222222,
              "#7201a8"
             ],
             [
              0.3333333333333333,
              "#9c179e"
             ],
             [
              0.4444444444444444,
              "#bd3786"
             ],
             [
              0.5555555555555556,
              "#d8576b"
             ],
             [
              0.6666666666666666,
              "#ed7953"
             ],
             [
              0.7777777777777778,
              "#fb9f3a"
             ],
             [
              0.8888888888888888,
              "#fdca26"
             ],
             [
              1,
              "#f0f921"
             ]
            ],
            "type": "histogram2dcontour"
           }
          ],
          "mesh3d": [
           {
            "colorbar": {
             "outlinewidth": 0,
             "ticks": ""
            },
            "type": "mesh3d"
           }
          ],
          "parcoords": [
           {
            "line": {
             "colorbar": {
              "outlinewidth": 0,
              "ticks": ""
             }
            },
            "type": "parcoords"
           }
          ],
          "pie": [
           {
            "automargin": true,
            "type": "pie"
           }
          ],
          "scatter": [
           {
            "fillpattern": {
             "fillmode": "overlay",
             "size": 10,
             "solidity": 0.2
            },
            "type": "scatter"
           }
          ],
          "scatter3d": [
           {
            "line": {
             "colorbar": {
              "outlinewidth": 0,
              "ticks": ""
             }
            },
            "marker": {
             "colorbar": {
              "outlinewidth": 0,
              "ticks": ""
             }
            },
            "type": "scatter3d"
           }
          ],
          "scattercarpet": [
           {
            "marker": {
             "colorbar": {
              "outlinewidth": 0,
              "ticks": ""
             }
            },
            "type": "scattercarpet"
           }
          ],
          "scattergeo": [
           {
            "marker": {
             "colorbar": {
              "outlinewidth": 0,
              "ticks": ""
             }
            },
            "type": "scattergeo"
           }
          ],
          "scattergl": [
           {
            "marker": {
             "colorbar": {
              "outlinewidth": 0,
              "ticks": ""
             }
            },
            "type": "scattergl"
           }
          ],
          "scattermapbox": [
           {
            "marker": {
             "colorbar": {
              "outlinewidth": 0,
              "ticks": ""
             }
            },
            "type": "scattermapbox"
           }
          ],
          "scatterpolar": [
           {
            "marker": {
             "colorbar": {
              "outlinewidth": 0,
              "ticks": ""
             }
            },
            "type": "scatterpolar"
           }
          ],
          "scatterpolargl": [
           {
            "marker": {
             "colorbar": {
              "outlinewidth": 0,
              "ticks": ""
             }
            },
            "type": "scatterpolargl"
           }
          ],
          "scatterternary": [
           {
            "marker": {
             "colorbar": {
              "outlinewidth": 0,
              "ticks": ""
             }
            },
            "type": "scatterternary"
           }
          ],
          "surface": [
           {
            "colorbar": {
             "outlinewidth": 0,
             "ticks": ""
            },
            "colorscale": [
             [
              0,
              "#0d0887"
             ],
             [
              0.1111111111111111,
              "#46039f"
             ],
             [
              0.2222222222222222,
              "#7201a8"
             ],
             [
              0.3333333333333333,
              "#9c179e"
             ],
             [
              0.4444444444444444,
              "#bd3786"
             ],
             [
              0.5555555555555556,
              "#d8576b"
             ],
             [
              0.6666666666666666,
              "#ed7953"
             ],
             [
              0.7777777777777778,
              "#fb9f3a"
             ],
             [
              0.8888888888888888,
              "#fdca26"
             ],
             [
              1,
              "#f0f921"
             ]
            ],
            "type": "surface"
           }
          ],
          "table": [
           {
            "cells": {
             "fill": {
              "color": "#EBF0F8"
             },
             "line": {
              "color": "white"
             }
            },
            "header": {
             "fill": {
              "color": "#C8D4E3"
             },
             "line": {
              "color": "white"
             }
            },
            "type": "table"
           }
          ]
         },
         "layout": {
          "annotationdefaults": {
           "arrowcolor": "#2a3f5f",
           "arrowhead": 0,
           "arrowwidth": 1
          },
          "autotypenumbers": "strict",
          "coloraxis": {
           "colorbar": {
            "outlinewidth": 0,
            "ticks": ""
           }
          },
          "colorscale": {
           "diverging": [
            [
             0,
             "#8e0152"
            ],
            [
             0.1,
             "#c51b7d"
            ],
            [
             0.2,
             "#de77ae"
            ],
            [
             0.3,
             "#f1b6da"
            ],
            [
             0.4,
             "#fde0ef"
            ],
            [
             0.5,
             "#f7f7f7"
            ],
            [
             0.6,
             "#e6f5d0"
            ],
            [
             0.7,
             "#b8e186"
            ],
            [
             0.8,
             "#7fbc41"
            ],
            [
             0.9,
             "#4d9221"
            ],
            [
             1,
             "#276419"
            ]
           ],
           "sequential": [
            [
             0,
             "#0d0887"
            ],
            [
             0.1111111111111111,
             "#46039f"
            ],
            [
             0.2222222222222222,
             "#7201a8"
            ],
            [
             0.3333333333333333,
             "#9c179e"
            ],
            [
             0.4444444444444444,
             "#bd3786"
            ],
            [
             0.5555555555555556,
             "#d8576b"
            ],
            [
             0.6666666666666666,
             "#ed7953"
            ],
            [
             0.7777777777777778,
             "#fb9f3a"
            ],
            [
             0.8888888888888888,
             "#fdca26"
            ],
            [
             1,
             "#f0f921"
            ]
           ],
           "sequentialminus": [
            [
             0,
             "#0d0887"
            ],
            [
             0.1111111111111111,
             "#46039f"
            ],
            [
             0.2222222222222222,
             "#7201a8"
            ],
            [
             0.3333333333333333,
             "#9c179e"
            ],
            [
             0.4444444444444444,
             "#bd3786"
            ],
            [
             0.5555555555555556,
             "#d8576b"
            ],
            [
             0.6666666666666666,
             "#ed7953"
            ],
            [
             0.7777777777777778,
             "#fb9f3a"
            ],
            [
             0.8888888888888888,
             "#fdca26"
            ],
            [
             1,
             "#f0f921"
            ]
           ]
          },
          "colorway": [
           "#636efa",
           "#EF553B",
           "#00cc96",
           "#ab63fa",
           "#FFA15A",
           "#19d3f3",
           "#FF6692",
           "#B6E880",
           "#FF97FF",
           "#FECB52"
          ],
          "font": {
           "color": "#2a3f5f"
          },
          "geo": {
           "bgcolor": "white",
           "lakecolor": "white",
           "landcolor": "#E5ECF6",
           "showlakes": true,
           "showland": true,
           "subunitcolor": "white"
          },
          "hoverlabel": {
           "align": "left"
          },
          "hovermode": "closest",
          "mapbox": {
           "style": "light"
          },
          "paper_bgcolor": "white",
          "plot_bgcolor": "#E5ECF6",
          "polar": {
           "angularaxis": {
            "gridcolor": "white",
            "linecolor": "white",
            "ticks": ""
           },
           "bgcolor": "#E5ECF6",
           "radialaxis": {
            "gridcolor": "white",
            "linecolor": "white",
            "ticks": ""
           }
          },
          "scene": {
           "xaxis": {
            "backgroundcolor": "#E5ECF6",
            "gridcolor": "white",
            "gridwidth": 2,
            "linecolor": "white",
            "showbackground": true,
            "ticks": "",
            "zerolinecolor": "white"
           },
           "yaxis": {
            "backgroundcolor": "#E5ECF6",
            "gridcolor": "white",
            "gridwidth": 2,
            "linecolor": "white",
            "showbackground": true,
            "ticks": "",
            "zerolinecolor": "white"
           },
           "zaxis": {
            "backgroundcolor": "#E5ECF6",
            "gridcolor": "white",
            "gridwidth": 2,
            "linecolor": "white",
            "showbackground": true,
            "ticks": "",
            "zerolinecolor": "white"
           }
          },
          "shapedefaults": {
           "line": {
            "color": "#2a3f5f"
           }
          },
          "ternary": {
           "aaxis": {
            "gridcolor": "white",
            "linecolor": "white",
            "ticks": ""
           },
           "baxis": {
            "gridcolor": "white",
            "linecolor": "white",
            "ticks": ""
           },
           "bgcolor": "#E5ECF6",
           "caxis": {
            "gridcolor": "white",
            "linecolor": "white",
            "ticks": ""
           }
          },
          "title": {
           "x": 0.05
          },
          "xaxis": {
           "automargin": true,
           "gridcolor": "white",
           "linecolor": "white",
           "ticks": "",
           "title": {
            "standoff": 15
           },
           "zerolinecolor": "white",
           "zerolinewidth": 2
          },
          "yaxis": {
           "automargin": true,
           "gridcolor": "white",
           "linecolor": "white",
           "ticks": "",
           "title": {
            "standoff": 15
           },
           "zerolinecolor": "white",
           "zerolinewidth": 2
          }
         }
        },
        "xaxis": {
         "anchor": "y",
         "domain": [
          0,
          0.31999999999999995
         ],
         "title": {
          "text": "acceleration"
         }
        },
        "xaxis2": {
         "anchor": "y2",
         "domain": [
          0.33999999999999997,
          0.6599999999999999
         ],
         "matches": "x",
         "title": {
          "text": "acceleration"
         }
        },
        "xaxis3": {
         "anchor": "y3",
         "domain": [
          0.6799999999999999,
          0.9999999999999999
         ],
         "matches": "x",
         "title": {
          "text": "acceleration"
         }
        },
        "yaxis": {
         "anchor": "x",
         "domain": [
          0,
          1
         ],
         "title": {
          "text": "count"
         }
        },
        "yaxis2": {
         "anchor": "x2",
         "domain": [
          0,
          1
         ],
         "matches": "y",
         "showticklabels": false
        },
        "yaxis3": {
         "anchor": "x3",
         "domain": [
          0,
          1
         ],
         "matches": "y",
         "showticklabels": false
        }
       }
      },
      "text/html": [
       "<div>                            <div id=\"98d185dc-4a4c-4153-bd97-8f05e4808d79\" class=\"plotly-graph-div\" style=\"height:525px; width:100%;\"></div>            <script type=\"text/javascript\">                require([\"plotly\"], function(Plotly) {                    window.PLOTLYENV=window.PLOTLYENV || {};                                    if (document.getElementById(\"98d185dc-4a4c-4153-bd97-8f05e4808d79\")) {                    Plotly.newPlot(                        \"98d185dc-4a4c-4153-bd97-8f05e4808d79\",                        [{\"alignmentgroup\":\"True\",\"bingroup\":\"x\",\"hovertemplate\":\"mpg=-1\\u003cbr\\u003eorigin=1\\u003cbr\\u003eacceleration=%{x}\\u003cbr\\u003ecount=%{y}\\u003cextra\\u003e\\u003c\\u002fextra\\u003e\",\"legendgroup\":\"-1\",\"marker\":{\"color\":\"#636efa\",\"opacity\":0.5,\"pattern\":{\"shape\":\"\"}},\"name\":\"-1\",\"nbinsx\":30,\"offsetgroup\":\"-1\",\"orientation\":\"v\",\"showlegend\":true,\"x\":[18.5,15.0,14.0,13.5,11.0,14.0,11.0,13.5,12.5,11.5,12.5,11.5,11.0,12.0,15.0,16.0,14.0,14.0,13.2,13.0,12.0,14.5,13.5,12.0,13.0,13.0,13.0,11.0,12.0,12.0,12.0,12.5,11.0,14.5,16.0,11.5,15.5,14.0,13.0,14.5,13.5,8.0,12.0,13.5,13.0,13.5,12.0,11.5,8.5,9.0,10.0,10.0,12.8,17.0,19.5,21.0,19.0,14.9,12.5,11.0,12.5,13.5,13.0,14.0,11.5,10.0,8.5,9.5,10.0,13.9,13.7,11.4,14.3,12.2,15.5,18.0,17.0,18.5,18.0,14.0,12.0,13.0,14.5,14.5,11.5,11.1,9.5,12.1,13.2,14.9,21.0,15.5,19.0,10.5,11.5,15.4,16.4,17.8,13.0,12.5,13.7,16.6,13.4,13.4,14.5,15.5,16.5,16.5,19.0,15.0,16.0,15.5,16.0,21.0,16.5,14.5,13.5,12.0,11.0,15.1,11.2,15.2,16.2,19.0,13.0,18.7,18.5,17.7,16.0,13.0,16.0,17.0,15.0,15.5,18.7,19.2,15.0,13.2,17.2,13.2,18.2,15.5,19.5,16.5,17.7,16.0,13.5,15.8,17.1,18.2,12.8,18.2,17.2,16.9,16.6,15.8,16.7,16.5,19.5,14.0,15.0,16.0,15.0,15.4,16.0,19.0,15.5,15.4,14.7,14.5,17.3,15.8,17.6],\"xaxis\":\"x\",\"yaxis\":\"y\",\"type\":\"histogram\"},{\"alignmentgroup\":\"True\",\"bingroup\":\"x\",\"hovertemplate\":\"mpg=-1\\u003cbr\\u003eorigin=2\\u003cbr\\u003eacceleration=%{x}\\u003cbr\\u003ecount=%{y}\\u003cextra\\u003e\\u003c\\u002fextra\\u003e\",\"legendgroup\":\"-1\",\"marker\":{\"color\":\"#636efa\",\"opacity\":0.5,\"pattern\":{\"shape\":\"\"}},\"name\":\"-1\",\"nbinsx\":30,\"offsetgroup\":\"-1\",\"orientation\":\"v\",\"showlegend\":false,\"x\":[15.8,16.7,13.6,14.5,21.9,15.5,14.0,15.7,15.9,19.5,12.8,15.7,18.0,14.5],\"xaxis\":\"x2\",\"yaxis\":\"y2\",\"type\":\"histogram\"},{\"alignmentgroup\":\"True\",\"bingroup\":\"x\",\"hovertemplate\":\"mpg=-1\\u003cbr\\u003eorigin=3\\u003cbr\\u003eacceleration=%{x}\\u003cbr\\u003ecount=%{y}\\u003cextra\\u003e\\u003c\\u002fextra\\u003e\",\"legendgroup\":\"-1\",\"marker\":{\"color\":\"#636efa\",\"opacity\":0.5,\"pattern\":{\"shape\":\"\"}},\"name\":\"-1\",\"nbinsx\":30,\"offsetgroup\":\"-1\",\"orientation\":\"v\",\"showlegend\":false,\"x\":[13.5,13.5,15.5,19.0,13.5,14.8,13.5,16.5,14.5],\"xaxis\":\"x3\",\"yaxis\":\"y3\",\"type\":\"histogram\"},{\"alignmentgroup\":\"True\",\"bingroup\":\"x\",\"hovertemplate\":\"mpg=1\\u003cbr\\u003eorigin=1\\u003cbr\\u003eacceleration=%{x}\\u003cbr\\u003ecount=%{y}\\u003cextra\\u003e\\u003c\\u002fextra\\u003e\",\"legendgroup\":\"1\",\"marker\":{\"color\":\"#EF553B\",\"opacity\":0.5,\"pattern\":{\"shape\":\"\"}},\"name\":\"1\",\"nbinsx\":30,\"offsetgroup\":\"1\",\"orientation\":\"v\",\"showlegend\":true,\"x\":[14.0,18.5,17.0,16.0,17.4,16.7,12.6,17.6,22.2,16.4,17.6,20.1,16.0,22.1,17.0,14.9,17.0,16.4,15.4,15.5,15.8,14.4,16.5,14.5,20.5,17.7,18.1,13.6,16.4,19.0,12.9,18.6,15.6,18.0,17.3,15.7,15.0,14.4,19.6,18.6,15.5,16.5,14.5,15.0,16.0,11.3,16.0,22.2,20.7,14.8,12.9,16.5,17.0,14.5,16.2,19.4,11.6,15.5,13.2,15.9,18.0,13.2,16.2,14.9,14.9,14.4,13.0,17.3,14.4,14.7,17.0,16.4],\"xaxis\":\"x\",\"yaxis\":\"y\",\"type\":\"histogram\"},{\"alignmentgroup\":\"True\",\"bingroup\":\"x\",\"hovertemplate\":\"mpg=1\\u003cbr\\u003eorigin=2\\u003cbr\\u003eacceleration=%{x}\\u003cbr\\u003ecount=%{y}\\u003cextra\\u003e\\u003c\\u002fextra\\u003e\",\"legendgroup\":\"1\",\"marker\":{\"color\":\"#EF553B\",\"opacity\":0.5,\"pattern\":{\"shape\":\"\"}},\"name\":\"1\",\"nbinsx\":30,\"offsetgroup\":\"1\",\"orientation\":\"v\",\"showlegend\":false,\"x\":[15.0,17.0,23.5,14.5,15.5,14.0,15.5,17.5,17.5,16.9,13.5,16.5,20.1,14.0,12.5,15.5,18.0,20.5,21.0,14.5,15.5,15.3,19.0,24.8,15.5,14.0,20.4,19.5,14.0,14.2,14.5,16.5,12.2,15.3,21.8,19.5,14.5,14.1,19.6,16.0,14.9,14.0,14.2,15.8,15.1,15.3,18.6,19.9,14.7,14.7,21.5,23.7,24.6,21.7],\"xaxis\":\"x2\",\"yaxis\":\"y2\",\"type\":\"histogram\"},{\"alignmentgroup\":\"True\",\"bingroup\":\"x\",\"hovertemplate\":\"mpg=1\\u003cbr\\u003eorigin=3\\u003cbr\\u003eacceleration=%{x}\\u003cbr\\u003ecount=%{y}\\u003cextra\\u003e\\u003c\\u002fextra\\u003e\",\"legendgroup\":\"1\",\"marker\":{\"color\":\"#EF553B\",\"opacity\":0.5,\"pattern\":{\"shape\":\"\"}},\"name\":\"1\",\"nbinsx\":30,\"offsetgroup\":\"1\",\"orientation\":\"v\",\"showlegend\":false,\"x\":[14.5,12.5,14.9,15.5,15.0,17.0,15.0,13.5,13.8,14.0,12.6,15.5,18.2,16.5,14.5,14.5,14.7,14.2,16.4,17.0,16.0,16.6,15.5,16.4,19.0,16.5,19.0,17.6,17.5,18.5,18.3,19.2,13.9,21.0,19.0,17.0,15.7,15.2,17.8,17.0,16.8,11.4,19.4,14.8,17.4,17.5,16.8,14.4,18.0,16.9,15.2,16.0,18.0,16.1,14.5,14.5,16.4,15.0,19.4,18.2,16.4,17.3,15.0,16.2,18.8,16.9,18.6,19.2,13.8,17.9],\"xaxis\":\"x3\",\"yaxis\":\"y3\",\"type\":\"histogram\"}],                        {\"template\":{\"data\":{\"histogram2dcontour\":[{\"type\":\"histogram2dcontour\",\"colorbar\":{\"outlinewidth\":0,\"ticks\":\"\"},\"colorscale\":[[0.0,\"#0d0887\"],[0.1111111111111111,\"#46039f\"],[0.2222222222222222,\"#7201a8\"],[0.3333333333333333,\"#9c179e\"],[0.4444444444444444,\"#bd3786\"],[0.5555555555555556,\"#d8576b\"],[0.6666666666666666,\"#ed7953\"],[0.7777777777777778,\"#fb9f3a\"],[0.8888888888888888,\"#fdca26\"],[1.0,\"#f0f921\"]]}],\"choropleth\":[{\"type\":\"choropleth\",\"colorbar\":{\"outlinewidth\":0,\"ticks\":\"\"}}],\"histogram2d\":[{\"type\":\"histogram2d\",\"colorbar\":{\"outlinewidth\":0,\"ticks\":\"\"},\"colorscale\":[[0.0,\"#0d0887\"],[0.1111111111111111,\"#46039f\"],[0.2222222222222222,\"#7201a8\"],[0.3333333333333333,\"#9c179e\"],[0.4444444444444444,\"#bd3786\"],[0.5555555555555556,\"#d8576b\"],[0.6666666666666666,\"#ed7953\"],[0.7777777777777778,\"#fb9f3a\"],[0.8888888888888888,\"#fdca26\"],[1.0,\"#f0f921\"]]}],\"heatmap\":[{\"type\":\"heatmap\",\"colorbar\":{\"outlinewidth\":0,\"ticks\":\"\"},\"colorscale\":[[0.0,\"#0d0887\"],[0.1111111111111111,\"#46039f\"],[0.2222222222222222,\"#7201a8\"],[0.3333333333333333,\"#9c179e\"],[0.4444444444444444,\"#bd3786\"],[0.5555555555555556,\"#d8576b\"],[0.6666666666666666,\"#ed7953\"],[0.7777777777777778,\"#fb9f3a\"],[0.8888888888888888,\"#fdca26\"],[1.0,\"#f0f921\"]]}],\"heatmapgl\":[{\"type\":\"heatmapgl\",\"colorbar\":{\"outlinewidth\":0,\"ticks\":\"\"},\"colorscale\":[[0.0,\"#0d0887\"],[0.1111111111111111,\"#46039f\"],[0.2222222222222222,\"#7201a8\"],[0.3333333333333333,\"#9c179e\"],[0.4444444444444444,\"#bd3786\"],[0.5555555555555556,\"#d8576b\"],[0.6666666666666666,\"#ed7953\"],[0.7777777777777778,\"#fb9f3a\"],[0.8888888888888888,\"#fdca26\"],[1.0,\"#f0f921\"]]}],\"contourcarpet\":[{\"type\":\"contourcarpet\",\"colorbar\":{\"outlinewidth\":0,\"ticks\":\"\"}}],\"contour\":[{\"type\":\"contour\",\"colorbar\":{\"outlinewidth\":0,\"ticks\":\"\"},\"colorscale\":[[0.0,\"#0d0887\"],[0.1111111111111111,\"#46039f\"],[0.2222222222222222,\"#7201a8\"],[0.3333333333333333,\"#9c179e\"],[0.4444444444444444,\"#bd3786\"],[0.5555555555555556,\"#d8576b\"],[0.6666666666666666,\"#ed7953\"],[0.7777777777777778,\"#fb9f3a\"],[0.8888888888888888,\"#fdca26\"],[1.0,\"#f0f921\"]]}],\"surface\":[{\"type\":\"surface\",\"colorbar\":{\"outlinewidth\":0,\"ticks\":\"\"},\"colorscale\":[[0.0,\"#0d0887\"],[0.1111111111111111,\"#46039f\"],[0.2222222222222222,\"#7201a8\"],[0.3333333333333333,\"#9c179e\"],[0.4444444444444444,\"#bd3786\"],[0.5555555555555556,\"#d8576b\"],[0.6666666666666666,\"#ed7953\"],[0.7777777777777778,\"#fb9f3a\"],[0.8888888888888888,\"#fdca26\"],[1.0,\"#f0f921\"]]}],\"mesh3d\":[{\"type\":\"mesh3d\",\"colorbar\":{\"outlinewidth\":0,\"ticks\":\"\"}}],\"scatter\":[{\"fillpattern\":{\"fillmode\":\"overlay\",\"size\":10,\"solidity\":0.2},\"type\":\"scatter\"}],\"parcoords\":[{\"type\":\"parcoords\",\"line\":{\"colorbar\":{\"outlinewidth\":0,\"ticks\":\"\"}}}],\"scatterpolargl\":[{\"type\":\"scatterpolargl\",\"marker\":{\"colorbar\":{\"outlinewidth\":0,\"ticks\":\"\"}}}],\"bar\":[{\"error_x\":{\"color\":\"#2a3f5f\"},\"error_y\":{\"color\":\"#2a3f5f\"},\"marker\":{\"line\":{\"color\":\"#E5ECF6\",\"width\":0.5},\"pattern\":{\"fillmode\":\"overlay\",\"size\":10,\"solidity\":0.2}},\"type\":\"bar\"}],\"scattergeo\":[{\"type\":\"scattergeo\",\"marker\":{\"colorbar\":{\"outlinewidth\":0,\"ticks\":\"\"}}}],\"scatterpolar\":[{\"type\":\"scatterpolar\",\"marker\":{\"colorbar\":{\"outlinewidth\":0,\"ticks\":\"\"}}}],\"histogram\":[{\"marker\":{\"pattern\":{\"fillmode\":\"overlay\",\"size\":10,\"solidity\":0.2}},\"type\":\"histogram\"}],\"scattergl\":[{\"type\":\"scattergl\",\"marker\":{\"colorbar\":{\"outlinewidth\":0,\"ticks\":\"\"}}}],\"scatter3d\":[{\"type\":\"scatter3d\",\"line\":{\"colorbar\":{\"outlinewidth\":0,\"ticks\":\"\"}},\"marker\":{\"colorbar\":{\"outlinewidth\":0,\"ticks\":\"\"}}}],\"scattermapbox\":[{\"type\":\"scattermapbox\",\"marker\":{\"colorbar\":{\"outlinewidth\":0,\"ticks\":\"\"}}}],\"scatterternary\":[{\"type\":\"scatterternary\",\"marker\":{\"colorbar\":{\"outlinewidth\":0,\"ticks\":\"\"}}}],\"scattercarpet\":[{\"type\":\"scattercarpet\",\"marker\":{\"colorbar\":{\"outlinewidth\":0,\"ticks\":\"\"}}}],\"carpet\":[{\"aaxis\":{\"endlinecolor\":\"#2a3f5f\",\"gridcolor\":\"white\",\"linecolor\":\"white\",\"minorgridcolor\":\"white\",\"startlinecolor\":\"#2a3f5f\"},\"baxis\":{\"endlinecolor\":\"#2a3f5f\",\"gridcolor\":\"white\",\"linecolor\":\"white\",\"minorgridcolor\":\"white\",\"startlinecolor\":\"#2a3f5f\"},\"type\":\"carpet\"}],\"table\":[{\"cells\":{\"fill\":{\"color\":\"#EBF0F8\"},\"line\":{\"color\":\"white\"}},\"header\":{\"fill\":{\"color\":\"#C8D4E3\"},\"line\":{\"color\":\"white\"}},\"type\":\"table\"}],\"barpolar\":[{\"marker\":{\"line\":{\"color\":\"#E5ECF6\",\"width\":0.5},\"pattern\":{\"fillmode\":\"overlay\",\"size\":10,\"solidity\":0.2}},\"type\":\"barpolar\"}],\"pie\":[{\"automargin\":true,\"type\":\"pie\"}]},\"layout\":{\"autotypenumbers\":\"strict\",\"colorway\":[\"#636efa\",\"#EF553B\",\"#00cc96\",\"#ab63fa\",\"#FFA15A\",\"#19d3f3\",\"#FF6692\",\"#B6E880\",\"#FF97FF\",\"#FECB52\"],\"font\":{\"color\":\"#2a3f5f\"},\"hovermode\":\"closest\",\"hoverlabel\":{\"align\":\"left\"},\"paper_bgcolor\":\"white\",\"plot_bgcolor\":\"#E5ECF6\",\"polar\":{\"bgcolor\":\"#E5ECF6\",\"angularaxis\":{\"gridcolor\":\"white\",\"linecolor\":\"white\",\"ticks\":\"\"},\"radialaxis\":{\"gridcolor\":\"white\",\"linecolor\":\"white\",\"ticks\":\"\"}},\"ternary\":{\"bgcolor\":\"#E5ECF6\",\"aaxis\":{\"gridcolor\":\"white\",\"linecolor\":\"white\",\"ticks\":\"\"},\"baxis\":{\"gridcolor\":\"white\",\"linecolor\":\"white\",\"ticks\":\"\"},\"caxis\":{\"gridcolor\":\"white\",\"linecolor\":\"white\",\"ticks\":\"\"}},\"coloraxis\":{\"colorbar\":{\"outlinewidth\":0,\"ticks\":\"\"}},\"colorscale\":{\"sequential\":[[0.0,\"#0d0887\"],[0.1111111111111111,\"#46039f\"],[0.2222222222222222,\"#7201a8\"],[0.3333333333333333,\"#9c179e\"],[0.4444444444444444,\"#bd3786\"],[0.5555555555555556,\"#d8576b\"],[0.6666666666666666,\"#ed7953\"],[0.7777777777777778,\"#fb9f3a\"],[0.8888888888888888,\"#fdca26\"],[1.0,\"#f0f921\"]],\"sequentialminus\":[[0.0,\"#0d0887\"],[0.1111111111111111,\"#46039f\"],[0.2222222222222222,\"#7201a8\"],[0.3333333333333333,\"#9c179e\"],[0.4444444444444444,\"#bd3786\"],[0.5555555555555556,\"#d8576b\"],[0.6666666666666666,\"#ed7953\"],[0.7777777777777778,\"#fb9f3a\"],[0.8888888888888888,\"#fdca26\"],[1.0,\"#f0f921\"]],\"diverging\":[[0,\"#8e0152\"],[0.1,\"#c51b7d\"],[0.2,\"#de77ae\"],[0.3,\"#f1b6da\"],[0.4,\"#fde0ef\"],[0.5,\"#f7f7f7\"],[0.6,\"#e6f5d0\"],[0.7,\"#b8e186\"],[0.8,\"#7fbc41\"],[0.9,\"#4d9221\"],[1,\"#276419\"]]},\"xaxis\":{\"gridcolor\":\"white\",\"linecolor\":\"white\",\"ticks\":\"\",\"title\":{\"standoff\":15},\"zerolinecolor\":\"white\",\"automargin\":true,\"zerolinewidth\":2},\"yaxis\":{\"gridcolor\":\"white\",\"linecolor\":\"white\",\"ticks\":\"\",\"title\":{\"standoff\":15},\"zerolinecolor\":\"white\",\"automargin\":true,\"zerolinewidth\":2},\"scene\":{\"xaxis\":{\"backgroundcolor\":\"#E5ECF6\",\"gridcolor\":\"white\",\"linecolor\":\"white\",\"showbackground\":true,\"ticks\":\"\",\"zerolinecolor\":\"white\",\"gridwidth\":2},\"yaxis\":{\"backgroundcolor\":\"#E5ECF6\",\"gridcolor\":\"white\",\"linecolor\":\"white\",\"showbackground\":true,\"ticks\":\"\",\"zerolinecolor\":\"white\",\"gridwidth\":2},\"zaxis\":{\"backgroundcolor\":\"#E5ECF6\",\"gridcolor\":\"white\",\"linecolor\":\"white\",\"showbackground\":true,\"ticks\":\"\",\"zerolinecolor\":\"white\",\"gridwidth\":2}},\"shapedefaults\":{\"line\":{\"color\":\"#2a3f5f\"}},\"annotationdefaults\":{\"arrowcolor\":\"#2a3f5f\",\"arrowhead\":0,\"arrowwidth\":1},\"geo\":{\"bgcolor\":\"white\",\"landcolor\":\"#E5ECF6\",\"subunitcolor\":\"white\",\"showland\":true,\"showlakes\":true,\"lakecolor\":\"white\"},\"title\":{\"x\":0.05},\"mapbox\":{\"style\":\"light\"}}},\"xaxis\":{\"anchor\":\"y\",\"domain\":[0.0,0.31999999999999995],\"title\":{\"text\":\"acceleration\"}},\"yaxis\":{\"anchor\":\"x\",\"domain\":[0.0,1.0],\"title\":{\"text\":\"count\"}},\"xaxis2\":{\"anchor\":\"y2\",\"domain\":[0.33999999999999997,0.6599999999999999],\"matches\":\"x\",\"title\":{\"text\":\"acceleration\"}},\"yaxis2\":{\"anchor\":\"x2\",\"domain\":[0.0,1.0],\"matches\":\"y\",\"showticklabels\":false},\"xaxis3\":{\"anchor\":\"y3\",\"domain\":[0.6799999999999999,0.9999999999999999],\"matches\":\"x\",\"title\":{\"text\":\"acceleration\"}},\"yaxis3\":{\"anchor\":\"x3\",\"domain\":[0.0,1.0],\"matches\":\"y\",\"showticklabels\":false},\"annotations\":[{\"font\":{},\"showarrow\":false,\"text\":\"origin=1\",\"x\":0.15999999999999998,\"xanchor\":\"center\",\"xref\":\"paper\",\"y\":1.0,\"yanchor\":\"bottom\",\"yref\":\"paper\"},{\"font\":{},\"showarrow\":false,\"text\":\"origin=2\",\"x\":0.49999999999999994,\"xanchor\":\"center\",\"xref\":\"paper\",\"y\":1.0,\"yanchor\":\"bottom\",\"yref\":\"paper\"},{\"font\":{},\"showarrow\":false,\"text\":\"origin=3\",\"x\":0.8399999999999999,\"xanchor\":\"center\",\"xref\":\"paper\",\"y\":1.0,\"yanchor\":\"bottom\",\"yref\":\"paper\"}],\"legend\":{\"title\":{\"text\":\"mpg\"},\"tracegroupgap\":0},\"margin\":{\"t\":60},\"barmode\":\"group\"},                        {\"responsive\": true}                    ).then(function(){\n",
       "                            \n",
       "var gd = document.getElementById('98d185dc-4a4c-4153-bd97-8f05e4808d79');\n",
       "var x = new MutationObserver(function (mutations, observer) {{\n",
       "        var display = window.getComputedStyle(gd).display;\n",
       "        if (!display || display === 'none') {{\n",
       "            console.log([gd, 'removed!']);\n",
       "            Plotly.purge(gd);\n",
       "            observer.disconnect();\n",
       "        }}\n",
       "}});\n",
       "\n",
       "// Listen for the removal of the full notebook cells\n",
       "var notebookContainer = gd.closest('#notebook-container');\n",
       "if (notebookContainer) {{\n",
       "    x.observe(notebookContainer, {childList: true});\n",
       "}}\n",
       "\n",
       "// Listen for the clearing of the current output cell\n",
       "var outputEl = gd.closest('.output');\n",
       "if (outputEl) {{\n",
       "    x.observe(outputEl, {childList: true});\n",
       "}}\n",
       "\n",
       "                        })                };                });            </script>        </div>"
      ]
     },
     "metadata": {},
     "output_type": "display_data"
    }
   ],
   "source": [
    "import plotly.express as px\n",
    "\n",
    "HISTROGRAM_KWARGS = {'nbins': 30, 'opacity': 0.5, 'barmode': 'group'}\n",
    "\n",
    "px.scatter(data_frame=auto_mpg, x='displacement', y='horsepower', color='mpg').show()\n",
    "px.histogram(data_frame=auto_mpg, x='acceleration', color='mpg', **HISTROGRAM_KWARGS).show()\n",
    "px.histogram(data_frame=auto_mpg, facet_col='origin', x='acceleration', color='mpg', **HISTROGRAM_KWARGS).show()"
   ]
  },
  {
   "cell_type": "code",
   "execution_count": 28,
   "metadata": {},
   "outputs": [
    {
     "data": {
      "application/vnd.jupyter.widget-view+json": {
       "model_id": "15204ea5cd564698a665464d92719d0c",
       "version_major": 2,
       "version_minor": 0
      },
      "text/plain": [
       "HTML(value='<h3>Level 1 Split</h3>')"
      ]
     },
     "metadata": {},
     "output_type": "display_data"
    },
    {
     "data": {
      "application/vnd.jupyter.widget-view+json": {
       "model_id": "c9f46443a0204f249b255d5bdbb4fca4",
       "version_major": 2,
       "version_minor": 0
      },
      "text/plain": [
       "VBox(children=(Dropdown(description='Feature to split on:', options=('cylinders', 'displacement', 'horsepower'…"
      ]
     },
     "metadata": {},
     "output_type": "display_data"
    },
    {
     "data": {
      "application/vnd.jupyter.widget-view+json": {
       "model_id": "46da66d9393843b8a3860cf3895ae5e2",
       "version_major": 2,
       "version_minor": 0
      },
      "text/plain": [
       "HTML(value='<h3>Level 2 Splits</h3>')"
      ]
     },
     "metadata": {},
     "output_type": "display_data"
    },
    {
     "data": {
      "application/vnd.jupyter.widget-view+json": {
       "model_id": "25546c7977a44d17905751dc899b7cb5",
       "version_major": 2,
       "version_minor": 0
      },
      "text/plain": [
       "HBox(children=(VBox(children=(HTML(value='<b>Left Branch:</b>'), Dropdown(description='Feature to split on:', …"
      ]
     },
     "metadata": {},
     "output_type": "display_data"
    },
    {
     "data": {
      "application/vnd.jupyter.widget-view+json": {
       "model_id": "fcd7d0fb50fd453ea0af9deca9e45d9b",
       "version_major": 2,
       "version_minor": 0
      },
      "text/plain": [
       "VBox(children=(HTML(value='<h2>Output Tree</h2'), Output(), HTML(value='<h3 style=\"color: green; text-align: c…"
      ]
     },
     "metadata": {},
     "output_type": "display_data"
    }
   ],
   "source": [
    "# Create and run visualizer\n",
    "visualizer = DecisionTreeVisualizer(X, y)\n",
    "visualizer.run()"
   ]
  },
  {
   "cell_type": "markdown",
   "metadata": {},
   "source": [
    "## How Decision Trees Are Trained\n",
    "\n",
    "Unlike our manual tree where we visually chose splits, scikit-learn's DecisionTreeClassifier \n",
    "automatically finds the best splits using these steps:\n",
    "\n",
    "1. For each feature, try every possible split point\n",
    "2. Calculate how well each split separates the classes (using metrics like Gini impurity or entropy)\n",
    "3. Choose the feature and split point that gives the best separation\n",
    "4. Repeat recursively for each branch until stopping criteria are met (like max depth or min samples per leaf)"
   ]
  },
  {
   "cell_type": "code",
   "execution_count": 9,
   "metadata": {},
   "outputs": [
    {
     "name": "stdout",
     "output_type": "stream",
     "text": [
      "Training Accuracy: 0.895\n",
      "Testing Accuracy: 0.937\n"
     ]
    },
    {
     "data": {
      "image/png": "[encoded data removed]",
      "text/plain": [
       "<Figure size 2000x1000 with 1 Axes>"
      ]
     },
     "metadata": {},
     "output_type": "display_data"
    }
   ],
   "source": [
    "from sklearn.tree import DecisionTreeClassifier, plot_tree\n",
    "from sklearn.model_selection import train_test_split\n",
    "import matplotlib.pyplot as plt\n",
    "\n",
    "# Split data\n",
    "X_train, X_test, y_train, y_test = train_test_split(X, y, test_size=0.2, random_state=42)\n",
    "\n",
    "# Train decision tree\n",
    "dt = DecisionTreeClassifier(max_depth=2, random_state=42)\n",
    "dt.fit(X_train, y_train)\n",
    "\n",
    "# Get accuracy\n",
    "train_accuracy = dt.score(X_train, y_train)\n",
    "test_accuracy = dt.score(X_test, y_test)\n",
    "\n",
    "print(f\"Training Accuracy: {train_accuracy:.3f}\")\n",
    "print(f\"Testing Accuracy: {test_accuracy:.3f}\")\n",
    "\n",
    "# Visualize the tree\n",
    "plt.figure(figsize=(20,10))\n",
    "plot_tree(dt, feature_names=X.columns, class_names=['-1', '1'], filled=True, rounded=True)\n",
    "plt.show()"
   ]
  },
  {
   "cell_type": "markdown",
   "metadata": {},
   "source": [
    "We can get an intuition for why these splits were chosen by plotting cylinders, model year, and mpg together:"
   ]
  },
  {
   "cell_type": "code",
   "execution_count": 20,
   "metadata": {},
   "outputs": [
    {
     "data": {
      "application/vnd.plotly.v1+json": {
       "config": {
        "plotlyServerURL": "https://plot.ly"
       },
       "data": [
        {
         "alignmentgroup": "True",
         "bingroup": "x",
         "hovertemplate": "mpg=-1<br>cylinders=3<br>model_year=%{x}<br>count=%{y}<extra></extra>",
         "legendgroup": "-1",
         "marker": {
          "color": "#636efa",
          "opacity": 0.5,
          "pattern": {
           "shape": ""
          }
         },
         "name": "-1",
         "nbinsx": 30,
         "offsetgroup": "-1",
         "orientation": "v",
         "showlegend": true,
         "type": "histogram",
         "x": [
          73,
          72,
          77
         ],
         "xaxis": "x",
         "yaxis": "y"
        },
        {
         "alignmentgroup": "True",
         "bingroup": "x",
         "hovertemplate": "mpg=-1<br>cylinders=4<br>model_year=%{x}<br>count=%{y}<extra></extra>",
         "legendgroup": "-1",
         "marker": {
          "color": "#636efa",
          "opacity": 0.5,
          "pattern": {
           "shape": ""
          }
         },
         "name": "-1",
         "nbinsx": 30,
         "offsetgroup": "-1",
         "orientation": "v",
         "showlegend": false,
         "type": "histogram",
         "x": [
          72,
          73,
          73,
          76,
          72,
          76,
          73,
          78,
          73,
          79,
          73,
          71,
          78,
          72,
          72,
          72,
          75,
          72,
          73,
          77
         ],
         "xaxis": "x2",
         "yaxis": "y2"
        },
        {
         "alignmentgroup": "True",
         "bingroup": "x",
         "hovertemplate": "mpg=-1<br>cylinders=5<br>model_year=%{x}<br>count=%{y}<extra></extra>",
         "legendgroup": "-1",
         "marker": {
          "color": "#636efa",
          "opacity": 0.5,
          "pattern": {
           "shape": ""
          }
         },
         "name": "-1",
         "nbinsx": 30,
         "offsetgroup": "-1",
         "orientation": "v",
         "showlegend": false,
         "type": "histogram",
         "x": [
          78
         ],
         "xaxis": "x3",
         "yaxis": "y3"
        },
        {
         "alignmentgroup": "True",
         "bingroup": "x",
         "hovertemplate": "mpg=-1<br>cylinders=6<br>model_year=%{x}<br>count=%{y}<extra></extra>",
         "legendgroup": "-1",
         "marker": {
          "color": "#636efa",
          "opacity": 0.5,
          "pattern": {
           "shape": ""
          }
         },
         "name": "-1",
         "nbinsx": 30,
         "offsetgroup": "-1",
         "orientation": "v",
         "showlegend": false,
         "type": "histogram",
         "x": [
          79,
          82,
          78,
          78,
          79,
          74,
          73,
          79,
          78,
          77,
          78,
          70,
          73,
          78,
          78,
          76,
          77,
          75,
          81,
          78,
          79,
          76,
          70,
          77,
          70,
          75,
          78,
          75,
          73,
          76,
          81,
          76,
          73,
          71,
          75,
          76,
          71,
          75,
          77,
          76,
          78,
          71,
          78,
          73,
          78,
          75,
          76,
          77,
          76,
          76,
          78,
          71,
          71,
          73,
          81,
          70,
          75,
          73,
          74,
          74,
          75,
          71,
          80,
          74,
          75,
          75,
          74,
          75,
          71,
          74,
          75,
          71
         ],
         "xaxis": "x4",
         "yaxis": "y4"
        },
        {
         "alignmentgroup": "True",
         "bingroup": "x",
         "hovertemplate": "mpg=-1<br>cylinders=8<br>model_year=%{x}<br>count=%{y}<extra></extra>",
         "legendgroup": "-1",
         "marker": {
          "color": "#636efa",
          "opacity": 0.5,
          "pattern": {
           "shape": ""
          }
         },
         "name": "-1",
         "nbinsx": 30,
         "offsetgroup": "-1",
         "orientation": "v",
         "showlegend": false,
         "type": "histogram",
         "x": [
          71,
          72,
          71,
          71,
          73,
          70,
          74,
          75,
          72,
          72,
          71,
          73,
          71,
          73,
          74,
          73,
          74,
          72,
          77,
          71,
          73,
          76,
          73,
          70,
          70,
          70,
          75,
          79,
          78,
          79,
          78,
          78,
          72,
          72,
          73,
          75,
          76,
          75,
          77,
          75,
          77,
          73,
          77,
          76,
          78,
          79,
          70,
          76,
          79,
          72,
          79,
          78,
          70,
          70,
          70,
          70,
          76,
          77,
          70,
          70,
          70,
          70,
          73,
          73,
          78,
          72,
          73,
          71,
          73,
          73,
          72,
          77,
          76,
          70,
          70,
          74,
          70,
          70,
          77,
          79,
          73,
          75,
          73,
          72,
          79,
          79,
          77,
          70,
          73,
          73,
          73,
          73,
          72,
          72,
          72,
          74,
          76,
          73,
          76,
          76
         ],
         "xaxis": "x5",
         "yaxis": "y5"
        },
        {
         "alignmentgroup": "True",
         "bingroup": "x",
         "hovertemplate": "mpg=1<br>cylinders=3<br>model_year=%{x}<br>count=%{y}<extra></extra>",
         "legendgroup": "1",
         "marker": {
          "color": "#EF553B",
          "opacity": 0.5,
          "pattern": {
           "shape": ""
          }
         },
         "name": "1",
         "nbinsx": 30,
         "offsetgroup": "1",
         "orientation": "v",
         "showlegend": true,
         "type": "histogram",
         "x": [
          80
         ],
         "xaxis": "x",
         "yaxis": "y"
        },
        {
         "alignmentgroup": "True",
         "bingroup": "x",
         "hovertemplate": "mpg=1<br>cylinders=4<br>model_year=%{x}<br>count=%{y}<extra></extra>",
         "legendgroup": "1",
         "marker": {
          "color": "#EF553B",
          "opacity": 0.5,
          "pattern": {
           "shape": ""
          }
         },
         "name": "1",
         "nbinsx": 30,
         "offsetgroup": "1",
         "orientation": "v",
         "showlegend": false,
         "type": "histogram",
         "x": [
          80,
          78,
          80,
          80,
          81,
          79,
          82,
          82,
          80,
          81,
          82,
          82,
          77,
          79,
          76,
          75,
          80,
          81,
          80,
          80,
          82,
          76,
          74,
          74,
          82,
          82,
          79,
          79,
          81,
          80,
          79,
          80,
          82,
          74,
          74,
          74,
          71,
          77,
          80,
          82,
          78,
          77,
          77,
          81,
          78,
          81,
          81,
          81,
          77,
          81,
          80,
          80,
          78,
          76,
          80,
          74,
          77,
          76,
          75,
          79,
          81,
          77,
          78,
          79,
          81,
          72,
          72,
          76,
          74,
          80,
          71,
          82,
          77,
          71,
          71,
          78,
          78,
          79,
          79,
          81,
          78,
          71,
          70,
          72,
          71,
          82,
          82,
          82,
          76,
          73,
          82,
          75,
          80,
          73,
          76,
          74,
          77,
          73,
          82,
          79,
          72,
          70,
          71,
          74,
          71,
          82,
          76,
          80,
          77,
          77,
          78,
          72,
          76,
          75,
          74,
          81,
          76,
          71,
          70,
          82,
          76,
          81,
          76,
          74,
          80,
          75,
          82,
          74,
          75,
          75,
          73,
          73,
          74,
          70,
          74,
          82,
          74,
          78,
          78,
          72,
          75,
          75,
          71,
          72,
          70,
          75,
          70,
          76,
          77,
          82,
          82,
          81,
          79,
          78,
          80,
          81,
          78,
          80,
          82,
          72,
          81,
          81,
          80,
          82,
          78,
          75,
          78,
          70,
          82,
          82,
          82,
          77,
          80,
          81,
          81,
          82,
          80,
          80,
          71
         ],
         "xaxis": "x2",
         "yaxis": "y2"
        },
        {
         "alignmentgroup": "True",
         "bingroup": "x",
         "hovertemplate": "mpg=1<br>cylinders=5<br>model_year=%{x}<br>count=%{y}<extra></extra>",
         "legendgroup": "1",
         "marker": {
          "color": "#EF553B",
          "opacity": 0.5,
          "pattern": {
           "shape": ""
          }
         },
         "name": "1",
         "nbinsx": 30,
         "offsetgroup": "1",
         "orientation": "v",
         "showlegend": false,
         "type": "histogram",
         "x": [
          80,
          79
         ],
         "xaxis": "x3",
         "yaxis": "y3"
        },
        {
         "alignmentgroup": "True",
         "bingroup": "x",
         "hovertemplate": "mpg=1<br>cylinders=6<br>model_year=%{x}<br>count=%{y}<extra></extra>",
         "legendgroup": "1",
         "marker": {
          "color": "#EF553B",
          "opacity": 0.5,
          "pattern": {
           "shape": ""
          }
         },
         "name": "1",
         "nbinsx": 30,
         "offsetgroup": "1",
         "orientation": "v",
         "showlegend": false,
         "type": "histogram",
         "x": [
          81,
          79,
          82,
          81,
          82,
          81,
          76,
          73,
          79,
          81,
          80
         ],
         "xaxis": "x4",
         "yaxis": "y4"
        },
        {
         "alignmentgroup": "True",
         "bingroup": "x",
         "hovertemplate": "mpg=1<br>cylinders=8<br>model_year=%{x}<br>count=%{y}<extra></extra>",
         "legendgroup": "1",
         "marker": {
          "color": "#EF553B",
          "opacity": 0.5,
          "pattern": {
           "shape": ""
          }
         },
         "name": "1",
         "nbinsx": 30,
         "offsetgroup": "1",
         "orientation": "v",
         "showlegend": false,
         "type": "histogram",
         "x": [
          81,
          79,
          79
         ],
         "xaxis": "x5",
         "yaxis": "y5"
        }
       ],
       "layout": {
        "annotations": [
         {
          "font": {},
          "showarrow": false,
          "text": "cylinders=3",
          "x": 0.09200000000000001,
          "xanchor": "center",
          "xref": "paper",
          "y": 1,
          "yanchor": "bottom",
          "yref": "paper"
         },
         {
          "font": {},
          "showarrow": false,
          "text": "cylinders=4",
          "x": 0.29600000000000004,
          "xanchor": "center",
          "xref": "paper",
          "y": 1,
          "yanchor": "bottom",
          "yref": "paper"
         },
         {
          "font": {},
          "showarrow": false,
          "text": "cylinders=5",
          "x": 0.5,
          "xanchor": "center",
          "xref": "paper",
          "y": 1,
          "yanchor": "bottom",
          "yref": "paper"
         },
         {
          "font": {},
          "showarrow": false,
          "text": "cylinders=6",
          "x": 0.7040000000000002,
          "xanchor": "center",
          "xref": "paper",
          "y": 1,
          "yanchor": "bottom",
          "yref": "paper"
         },
         {
          "font": {},
          "showarrow": false,
          "text": "cylinders=8",
          "x": 0.908,
          "xanchor": "center",
          "xref": "paper",
          "y": 1,
          "yanchor": "bottom",
          "yref": "paper"
         }
        ],
        "barmode": "group",
        "legend": {
         "title": {
          "text": "mpg"
         },
         "tracegroupgap": 0
        },
        "margin": {
         "t": 60
        },
        "template": {
         "data": {
          "bar": [
           {
            "error_x": {
             "color": "#2a3f5f"
            },
            "error_y": {
             "color": "#2a3f5f"
            },
            "marker": {
             "line": {
              "color": "#E5ECF6",
              "width": 0.5
             },
             "pattern": {
              "fillmode": "overlay",
              "size": 10,
              "solidity": 0.2
             }
            },
            "type": "bar"
           }
          ],
          "barpolar": [
           {
            "marker": {
             "line": {
              "color": "#E5ECF6",
              "width": 0.5
             },
             "pattern": {
              "fillmode": "overlay",
              "size": 10,
              "solidity": 0.2
             }
            },
            "type": "barpolar"
           }
          ],
          "carpet": [
           {
            "aaxis": {
             "endlinecolor": "#2a3f5f",
             "gridcolor": "white",
             "linecolor": "white",
             "minorgridcolor": "white",
             "startlinecolor": "#2a3f5f"
            },
            "baxis": {
             "endlinecolor": "#2a3f5f",
             "gridcolor": "white",
             "linecolor": "white",
             "minorgridcolor": "white",
             "startlinecolor": "#2a3f5f"
            },
            "type": "carpet"
           }
          ],
          "choropleth": [
           {
            "colorbar": {
             "outlinewidth": 0,
             "ticks": ""
            },
            "type": "choropleth"
           }
          ],
          "contour": [
           {
            "colorbar": {
             "outlinewidth": 0,
             "ticks": ""
            },
            "colorscale": [
             [
              0,
              "#0d0887"
             ],
             [
              0.1111111111111111,
              "#46039f"
             ],
             [
              0.2222222222222222,
              "#7201a8"
             ],
             [
              0.3333333333333333,
              "#9c179e"
             ],
             [
              0.4444444444444444,
              "#bd3786"
             ],
             [
              0.5555555555555556,
              "#d8576b"
             ],
             [
              0.6666666666666666,
              "#ed7953"
             ],
             [
              0.7777777777777778,
              "#fb9f3a"
             ],
             [
              0.8888888888888888,
              "#fdca26"
             ],
             [
              1,
              "#f0f921"
             ]
            ],
            "type": "contour"
           }
          ],
          "contourcarpet": [
           {
            "colorbar": {
             "outlinewidth": 0,
             "ticks": ""
            },
            "type": "contourcarpet"
           }
          ],
          "heatmap": [
           {
            "colorbar": {
             "outlinewidth": 0,
             "ticks": ""
            },
            "colorscale": [
             [
              0,
              "#0d0887"
             ],
             [
              0.1111111111111111,
              "#46039f"
             ],
             [
              0.2222222222222222,
              "#7201a8"
             ],
             [
              0.3333333333333333,
              "#9c179e"
             ],
             [
              0.4444444444444444,
              "#bd3786"
             ],
             [
              0.5555555555555556,
              "#d8576b"
             ],
             [
              0.6666666666666666,
              "#ed7953"
             ],
             [
              0.7777777777777778,
              "#fb9f3a"
             ],
             [
              0.8888888888888888,
              "#fdca26"
             ],
             [
              1,
              "#f0f921"
             ]
            ],
            "type": "heatmap"
           }
          ],
          "heatmapgl": [
           {
            "colorbar": {
             "outlinewidth": 0,
             "ticks": ""
            },
            "colorscale": [
             [
              0,
              "#0d0887"
             ],
             [
              0.1111111111111111,
              "#46039f"
             ],
             [
              0.2222222222222222,
              "#7201a8"
             ],
             [
              0.3333333333333333,
              "#9c179e"
             ],
             [
              0.4444444444444444,
              "#bd3786"
             ],
             [
              0.5555555555555556,
              "#d8576b"
             ],
             [
              0.6666666666666666,
              "#ed7953"
             ],
             [
              0.7777777777777778,
              "#fb9f3a"
             ],
             [
              0.8888888888888888,
              "#fdca26"
             ],
             [
              1,
              "#f0f921"
             ]
            ],
            "type": "heatmapgl"
           }
          ],
          "histogram": [
           {
            "marker": {
             "pattern": {
              "fillmode": "overlay",
              "size": 10,
              "solidity": 0.2
             }
            },
            "type": "histogram"
           }
          ],
          "histogram2d": [
           {
            "colorbar": {
             "outlinewidth": 0,
             "ticks": ""
            },
            "colorscale": [
             [
              0,
              "#0d0887"
             ],
             [
              0.1111111111111111,
              "#46039f"
             ],
             [
              0.2222222222222222,
              "#7201a8"
             ],
             [
              0.3333333333333333,
              "#9c179e"
             ],
             [
              0.4444444444444444,
              "#bd3786"
             ],
             [
              0.5555555555555556,
              "#d8576b"
             ],
             [
              0.6666666666666666,
              "#ed7953"
             ],
             [
              0.7777777777777778,
              "#fb9f3a"
             ],
             [
              0.8888888888888888,
              "#fdca26"
             ],
             [
              1,
              "#f0f921"
             ]
            ],
            "type": "histogram2d"
           }
          ],
          "histogram2dcontour": [
           {
            "colorbar": {
             "outlinewidth": 0,
             "ticks": ""
            },
            "colorscale": [
             [
              0,
              "#0d0887"
             ],
             [
              0.1111111111111111,
              "#46039f"
             ],
             [
              0.2222222222222222,
              "#7201a8"
             ],
             [
              0.3333333333333333,
              "#9c179e"
             ],
             [
              0.4444444444444444,
              "#bd3786"
             ],
             [
              0.5555555555555556,
              "#d8576b"
             ],
             [
              0.6666666666666666,
              "#ed7953"
             ],
             [
              0.7777777777777778,
              "#fb9f3a"
             ],
             [
              0.8888888888888888,
              "#fdca26"
             ],
             [
              1,
              "#f0f921"
             ]
            ],
            "type": "histogram2dcontour"
           }
          ],
          "mesh3d": [
           {
            "colorbar": {
             "outlinewidth": 0,
             "ticks": ""
            },
            "type": "mesh3d"
           }
          ],
          "parcoords": [
           {
            "line": {
             "colorbar": {
              "outlinewidth": 0,
              "ticks": ""
             }
            },
            "type": "parcoords"
           }
          ],
          "pie": [
           {
            "automargin": true,
            "type": "pie"
           }
          ],
          "scatter": [
           {
            "fillpattern": {
             "fillmode": "overlay",
             "size": 10,
             "solidity": 0.2
            },
            "type": "scatter"
           }
          ],
          "scatter3d": [
           {
            "line": {
             "colorbar": {
              "outlinewidth": 0,
              "ticks": ""
             }
            },
            "marker": {
             "colorbar": {
              "outlinewidth": 0,
              "ticks": ""
             }
            },
            "type": "scatter3d"
           }
          ],
          "scattercarpet": [
           {
            "marker": {
             "colorbar": {
              "outlinewidth": 0,
              "ticks": ""
             }
            },
            "type": "scattercarpet"
           }
          ],
          "scattergeo": [
           {
            "marker": {
             "colorbar": {
              "outlinewidth": 0,
              "ticks": ""
             }
            },
            "type": "scattergeo"
           }
          ],
          "scattergl": [
           {
            "marker": {
             "colorbar": {
              "outlinewidth": 0,
              "ticks": ""
             }
            },
            "type": "scattergl"
           }
          ],
          "scattermapbox": [
           {
            "marker": {
             "colorbar": {
              "outlinewidth": 0,
              "ticks": ""
             }
            },
            "type": "scattermapbox"
           }
          ],
          "scatterpolar": [
           {
            "marker": {
             "colorbar": {
              "outlinewidth": 0,
              "ticks": ""
             }
            },
            "type": "scatterpolar"
           }
          ],
          "scatterpolargl": [
           {
            "marker": {
             "colorbar": {
              "outlinewidth": 0,
              "ticks": ""
             }
            },
            "type": "scatterpolargl"
           }
          ],
          "scatterternary": [
           {
            "marker": {
             "colorbar": {
              "outlinewidth": 0,
              "ticks": ""
             }
            },
            "type": "scatterternary"
           }
          ],
          "surface": [
           {
            "colorbar": {
             "outlinewidth": 0,
             "ticks": ""
            },
            "colorscale": [
             [
              0,
              "#0d0887"
             ],
             [
              0.1111111111111111,
              "#46039f"
             ],
             [
              0.2222222222222222,
              "#7201a8"
             ],
             [
              0.3333333333333333,
              "#9c179e"
             ],
             [
              0.4444444444444444,
              "#bd3786"
             ],
             [
              0.5555555555555556,
              "#d8576b"
             ],
             [
              0.6666666666666666,
              "#ed7953"
             ],
             [
              0.7777777777777778,
              "#fb9f3a"
             ],
             [
              0.8888888888888888,
              "#fdca26"
             ],
             [
              1,
              "#f0f921"
             ]
            ],
            "type": "surface"
           }
          ],
          "table": [
           {
            "cells": {
             "fill": {
              "color": "#EBF0F8"
             },
             "line": {
              "color": "white"
             }
            },
            "header": {
             "fill": {
              "color": "#C8D4E3"
             },
             "line": {
              "color": "white"
             }
            },
            "type": "table"
           }
          ]
         },
         "layout": {
          "annotationdefaults": {
           "arrowcolor": "#2a3f5f",
           "arrowhead": 0,
           "arrowwidth": 1
          },
          "autotypenumbers": "strict",
          "coloraxis": {
           "colorbar": {
            "outlinewidth": 0,
            "ticks": ""
           }
          },
          "colorscale": {
           "diverging": [
            [
             0,
             "#8e0152"
            ],
            [
             0.1,
             "#c51b7d"
            ],
            [
             0.2,
             "#de77ae"
            ],
            [
             0.3,
             "#f1b6da"
            ],
            [
             0.4,
             "#fde0ef"
            ],
            [
             0.5,
             "#f7f7f7"
            ],
            [
             0.6,
             "#e6f5d0"
            ],
            [
             0.7,
             "#b8e186"
            ],
            [
             0.8,
             "#7fbc41"
            ],
            [
             0.9,
             "#4d9221"
            ],
            [
             1,
             "#276419"
            ]
           ],
           "sequential": [
            [
             0,
             "#0d0887"
            ],
            [
             0.1111111111111111,
             "#46039f"
            ],
            [
             0.2222222222222222,
             "#7201a8"
            ],
            [
             0.3333333333333333,
             "#9c179e"
            ],
            [
             0.4444444444444444,
             "#bd3786"
            ],
            [
             0.5555555555555556,
             "#d8576b"
            ],
            [
             0.6666666666666666,
             "#ed7953"
            ],
            [
             0.7777777777777778,
             "#fb9f3a"
            ],
            [
             0.8888888888888888,
             "#fdca26"
            ],
            [
             1,
             "#f0f921"
            ]
           ],
           "sequentialminus": [
            [
             0,
             "#0d0887"
            ],
            [
             0.1111111111111111,
             "#46039f"
            ],
            [
             0.2222222222222222,
             "#7201a8"
            ],
            [
             0.3333333333333333,
             "#9c179e"
            ],
            [
             0.4444444444444444,
             "#bd3786"
            ],
            [
             0.5555555555555556,
             "#d8576b"
            ],
            [
             0.6666666666666666,
             "#ed7953"
            ],
            [
             0.7777777777777778,
             "#fb9f3a"
            ],
            [
             0.8888888888888888,
             "#fdca26"
            ],
            [
             1,
             "#f0f921"
            ]
           ]
          },
          "colorway": [
           "#636efa",
           "#EF553B",
           "#00cc96",
           "#ab63fa",
           "#FFA15A",
           "#19d3f3",
           "#FF6692",
           "#B6E880",
           "#FF97FF",
           "#FECB52"
          ],
          "font": {
           "color": "#2a3f5f"
          },
          "geo": {
           "bgcolor": "white",
           "lakecolor": "white",
           "landcolor": "#E5ECF6",
           "showlakes": true,
           "showland": true,
           "subunitcolor": "white"
          },
          "hoverlabel": {
           "align": "left"
          },
          "hovermode": "closest",
          "mapbox": {
           "style": "light"
          },
          "paper_bgcolor": "white",
          "plot_bgcolor": "#E5ECF6",
          "polar": {
           "angularaxis": {
            "gridcolor": "white",
            "linecolor": "white",
            "ticks": ""
           },
           "bgcolor": "#E5ECF6",
           "radialaxis": {
            "gridcolor": "white",
            "linecolor": "white",
            "ticks": ""
           }
          },
          "scene": {
           "xaxis": {
            "backgroundcolor": "#E5ECF6",
            "gridcolor": "white",
            "gridwidth": 2,
            "linecolor": "white",
            "showbackground": true,
            "ticks": "",
            "zerolinecolor": "white"
           },
           "yaxis": {
            "backgroundcolor": "#E5ECF6",
            "gridcolor": "white",
            "gridwidth": 2,
            "linecolor": "white",
            "showbackground": true,
            "ticks": "",
            "zerolinecolor": "white"
           },
           "zaxis": {
            "backgroundcolor": "#E5ECF6",
            "gridcolor": "white",
            "gridwidth": 2,
            "linecolor": "white",
            "showbackground": true,
            "ticks": "",
            "zerolinecolor": "white"
           }
          },
          "shapedefaults": {
           "line": {
            "color": "#2a3f5f"
           }
          },
          "ternary": {
           "aaxis": {
            "gridcolor": "white",
            "linecolor": "white",
            "ticks": ""
           },
           "baxis": {
            "gridcolor": "white",
            "linecolor": "white",
            "ticks": ""
           },
           "bgcolor": "#E5ECF6",
           "caxis": {
            "gridcolor": "white",
            "linecolor": "white",
            "ticks": ""
           }
          },
          "title": {
           "x": 0.05
          },
          "xaxis": {
           "automargin": true,
           "gridcolor": "white",
           "linecolor": "white",
           "ticks": "",
           "title": {
            "standoff": 15
           },
           "zerolinecolor": "white",
           "zerolinewidth": 2
          },
          "yaxis": {
           "automargin": true,
           "gridcolor": "white",
           "linecolor": "white",
           "ticks": "",
           "title": {
            "standoff": 15
           },
           "zerolinecolor": "white",
           "zerolinewidth": 2
          }
         }
        },
        "xaxis": {
         "anchor": "y",
         "domain": [
          0,
          0.18400000000000002
         ],
         "title": {
          "text": "model_year"
         }
        },
        "xaxis2": {
         "anchor": "y2",
         "domain": [
          0.20400000000000001,
          0.388
         ],
         "matches": "x",
         "title": {
          "text": "model_year"
         }
        },
        "xaxis3": {
         "anchor": "y3",
         "domain": [
          0.40800000000000003,
          0.5920000000000001
         ],
         "matches": "x",
         "title": {
          "text": "model_year"
         }
        },
        "xaxis4": {
         "anchor": "y4",
         "domain": [
          0.6120000000000001,
          0.7960000000000002
         ],
         "matches": "x",
         "title": {
          "text": "model_year"
         }
        },
        "xaxis5": {
         "anchor": "y5",
         "domain": [
          0.8160000000000001,
          1
         ],
         "matches": "x",
         "title": {
          "text": "model_year"
         }
        },
        "yaxis": {
         "anchor": "x",
         "domain": [
          0,
          1
         ],
         "title": {
          "text": "count"
         }
        },
        "yaxis2": {
         "anchor": "x2",
         "domain": [
          0,
          1
         ],
         "matches": "y",
         "showticklabels": false
        },
        "yaxis3": {
         "anchor": "x3",
         "domain": [
          0,
          1
         ],
         "matches": "y",
         "showticklabels": false
        },
        "yaxis4": {
         "anchor": "x4",
         "domain": [
          0,
          1
         ],
         "matches": "y",
         "showticklabels": false
        },
        "yaxis5": {
         "anchor": "x5",
         "domain": [
          0,
          1
         ],
         "matches": "y",
         "showticklabels": false
        }
       }
      },
      "text/html": [
       "<div>                            <div id=\"be65d610-1352-46d4-b222-4cc080feeda7\" class=\"plotly-graph-div\" style=\"height:525px; width:100%;\"></div>            <script type=\"text/javascript\">                require([\"plotly\"], function(Plotly) {                    window.PLOTLYENV=window.PLOTLYENV || {};                                    if (document.getElementById(\"be65d610-1352-46d4-b222-4cc080feeda7\")) {                    Plotly.newPlot(                        \"be65d610-1352-46d4-b222-4cc080feeda7\",                        [{\"alignmentgroup\":\"True\",\"bingroup\":\"x\",\"hovertemplate\":\"mpg=-1\\u003cbr\\u003ecylinders=3\\u003cbr\\u003emodel_year=%{x}\\u003cbr\\u003ecount=%{y}\\u003cextra\\u003e\\u003c\\u002fextra\\u003e\",\"legendgroup\":\"-1\",\"marker\":{\"color\":\"#636efa\",\"opacity\":0.5,\"pattern\":{\"shape\":\"\"}},\"name\":\"-1\",\"nbinsx\":30,\"offsetgroup\":\"-1\",\"orientation\":\"v\",\"showlegend\":true,\"x\":[73,72,77],\"xaxis\":\"x\",\"yaxis\":\"y\",\"type\":\"histogram\"},{\"alignmentgroup\":\"True\",\"bingroup\":\"x\",\"hovertemplate\":\"mpg=-1\\u003cbr\\u003ecylinders=4\\u003cbr\\u003emodel_year=%{x}\\u003cbr\\u003ecount=%{y}\\u003cextra\\u003e\\u003c\\u002fextra\\u003e\",\"legendgroup\":\"-1\",\"marker\":{\"color\":\"#636efa\",\"opacity\":0.5,\"pattern\":{\"shape\":\"\"}},\"name\":\"-1\",\"nbinsx\":30,\"offsetgroup\":\"-1\",\"orientation\":\"v\",\"showlegend\":false,\"x\":[72,73,73,76,72,76,73,78,73,79,73,71,78,72,72,72,75,72,73,77],\"xaxis\":\"x2\",\"yaxis\":\"y2\",\"type\":\"histogram\"},{\"alignmentgroup\":\"True\",\"bingroup\":\"x\",\"hovertemplate\":\"mpg=-1\\u003cbr\\u003ecylinders=5\\u003cbr\\u003emodel_year=%{x}\\u003cbr\\u003ecount=%{y}\\u003cextra\\u003e\\u003c\\u002fextra\\u003e\",\"legendgroup\":\"-1\",\"marker\":{\"color\":\"#636efa\",\"opacity\":0.5,\"pattern\":{\"shape\":\"\"}},\"name\":\"-1\",\"nbinsx\":30,\"offsetgroup\":\"-1\",\"orientation\":\"v\",\"showlegend\":false,\"x\":[78],\"xaxis\":\"x3\",\"yaxis\":\"y3\",\"type\":\"histogram\"},{\"alignmentgroup\":\"True\",\"bingroup\":\"x\",\"hovertemplate\":\"mpg=-1\\u003cbr\\u003ecylinders=6\\u003cbr\\u003emodel_year=%{x}\\u003cbr\\u003ecount=%{y}\\u003cextra\\u003e\\u003c\\u002fextra\\u003e\",\"legendgroup\":\"-1\",\"marker\":{\"color\":\"#636efa\",\"opacity\":0.5,\"pattern\":{\"shape\":\"\"}},\"name\":\"-1\",\"nbinsx\":30,\"offsetgroup\":\"-1\",\"orientation\":\"v\",\"showlegend\":false,\"x\":[79,82,78,78,79,74,73,79,78,77,78,70,73,78,78,76,77,75,81,78,79,76,70,77,70,75,78,75,73,76,81,76,73,71,75,76,71,75,77,76,78,71,78,73,78,75,76,77,76,76,78,71,71,73,81,70,75,73,74,74,75,71,80,74,75,75,74,75,71,74,75,71],\"xaxis\":\"x4\",\"yaxis\":\"y4\",\"type\":\"histogram\"},{\"alignmentgroup\":\"True\",\"bingroup\":\"x\",\"hovertemplate\":\"mpg=-1\\u003cbr\\u003ecylinders=8\\u003cbr\\u003emodel_year=%{x}\\u003cbr\\u003ecount=%{y}\\u003cextra\\u003e\\u003c\\u002fextra\\u003e\",\"legendgroup\":\"-1\",\"marker\":{\"color\":\"#636efa\",\"opacity\":0.5,\"pattern\":{\"shape\":\"\"}},\"name\":\"-1\",\"nbinsx\":30,\"offsetgroup\":\"-1\",\"orientation\":\"v\",\"showlegend\":false,\"x\":[71,72,71,71,73,70,74,75,72,72,71,73,71,73,74,73,74,72,77,71,73,76,73,70,70,70,75,79,78,79,78,78,72,72,73,75,76,75,77,75,77,73,77,76,78,79,70,76,79,72,79,78,70,70,70,70,76,77,70,70,70,70,73,73,78,72,73,71,73,73,72,77,76,70,70,74,70,70,77,79,73,75,73,72,79,79,77,70,73,73,73,73,72,72,72,74,76,73,76,76],\"xaxis\":\"x5\",\"yaxis\":\"y5\",\"type\":\"histogram\"},{\"alignmentgroup\":\"True\",\"bingroup\":\"x\",\"hovertemplate\":\"mpg=1\\u003cbr\\u003ecylinders=3\\u003cbr\\u003emodel_year=%{x}\\u003cbr\\u003ecount=%{y}\\u003cextra\\u003e\\u003c\\u002fextra\\u003e\",\"legendgroup\":\"1\",\"marker\":{\"color\":\"#EF553B\",\"opacity\":0.5,\"pattern\":{\"shape\":\"\"}},\"name\":\"1\",\"nbinsx\":30,\"offsetgroup\":\"1\",\"orientation\":\"v\",\"showlegend\":true,\"x\":[80],\"xaxis\":\"x\",\"yaxis\":\"y\",\"type\":\"histogram\"},{\"alignmentgroup\":\"True\",\"bingroup\":\"x\",\"hovertemplate\":\"mpg=1\\u003cbr\\u003ecylinders=4\\u003cbr\\u003emodel_year=%{x}\\u003cbr\\u003ecount=%{y}\\u003cextra\\u003e\\u003c\\u002fextra\\u003e\",\"legendgroup\":\"1\",\"marker\":{\"color\":\"#EF553B\",\"opacity\":0.5,\"pattern\":{\"shape\":\"\"}},\"name\":\"1\",\"nbinsx\":30,\"offsetgroup\":\"1\",\"orientation\":\"v\",\"showlegend\":false,\"x\":[80,78,80,80,81,79,82,82,80,81,82,82,77,79,76,75,80,81,80,80,82,76,74,74,82,82,79,79,81,80,79,80,82,74,74,74,71,77,80,82,78,77,77,81,78,81,81,81,77,81,80,80,78,76,80,74,77,76,75,79,81,77,78,79,81,72,72,76,74,80,71,82,77,71,71,78,78,79,79,81,78,71,70,72,71,82,82,82,76,73,82,75,80,73,76,74,77,73,82,79,72,70,71,74,71,82,76,80,77,77,78,72,76,75,74,81,76,71,70,82,76,81,76,74,80,75,82,74,75,75,73,73,74,70,74,82,74,78,78,72,75,75,71,72,70,75,70,76,77,82,82,81,79,78,80,81,78,80,82,72,81,81,80,82,78,75,78,70,82,82,82,77,80,81,81,82,80,80,71],\"xaxis\":\"x2\",\"yaxis\":\"y2\",\"type\":\"histogram\"},{\"alignmentgroup\":\"True\",\"bingroup\":\"x\",\"hovertemplate\":\"mpg=1\\u003cbr\\u003ecylinders=5\\u003cbr\\u003emodel_year=%{x}\\u003cbr\\u003ecount=%{y}\\u003cextra\\u003e\\u003c\\u002fextra\\u003e\",\"legendgroup\":\"1\",\"marker\":{\"color\":\"#EF553B\",\"opacity\":0.5,\"pattern\":{\"shape\":\"\"}},\"name\":\"1\",\"nbinsx\":30,\"offsetgroup\":\"1\",\"orientation\":\"v\",\"showlegend\":false,\"x\":[80,79],\"xaxis\":\"x3\",\"yaxis\":\"y3\",\"type\":\"histogram\"},{\"alignmentgroup\":\"True\",\"bingroup\":\"x\",\"hovertemplate\":\"mpg=1\\u003cbr\\u003ecylinders=6\\u003cbr\\u003emodel_year=%{x}\\u003cbr\\u003ecount=%{y}\\u003cextra\\u003e\\u003c\\u002fextra\\u003e\",\"legendgroup\":\"1\",\"marker\":{\"color\":\"#EF553B\",\"opacity\":0.5,\"pattern\":{\"shape\":\"\"}},\"name\":\"1\",\"nbinsx\":30,\"offsetgroup\":\"1\",\"orientation\":\"v\",\"showlegend\":false,\"x\":[81,79,82,81,82,81,76,73,79,81,80],\"xaxis\":\"x4\",\"yaxis\":\"y4\",\"type\":\"histogram\"},{\"alignmentgroup\":\"True\",\"bingroup\":\"x\",\"hovertemplate\":\"mpg=1\\u003cbr\\u003ecylinders=8\\u003cbr\\u003emodel_year=%{x}\\u003cbr\\u003ecount=%{y}\\u003cextra\\u003e\\u003c\\u002fextra\\u003e\",\"legendgroup\":\"1\",\"marker\":{\"color\":\"#EF553B\",\"opacity\":0.5,\"pattern\":{\"shape\":\"\"}},\"name\":\"1\",\"nbinsx\":30,\"offsetgroup\":\"1\",\"orientation\":\"v\",\"showlegend\":false,\"x\":[81,79,79],\"xaxis\":\"x5\",\"yaxis\":\"y5\",\"type\":\"histogram\"}],                        {\"template\":{\"data\":{\"histogram2dcontour\":[{\"type\":\"histogram2dcontour\",\"colorbar\":{\"outlinewidth\":0,\"ticks\":\"\"},\"colorscale\":[[0.0,\"#0d0887\"],[0.1111111111111111,\"#46039f\"],[0.2222222222222222,\"#7201a8\"],[0.3333333333333333,\"#9c179e\"],[0.4444444444444444,\"#bd3786\"],[0.5555555555555556,\"#d8576b\"],[0.6666666666666666,\"#ed7953\"],[0.7777777777777778,\"#fb9f3a\"],[0.8888888888888888,\"#fdca26\"],[1.0,\"#f0f921\"]]}],\"choropleth\":[{\"type\":\"choropleth\",\"colorbar\":{\"outlinewidth\":0,\"ticks\":\"\"}}],\"histogram2d\":[{\"type\":\"histogram2d\",\"colorbar\":{\"outlinewidth\":0,\"ticks\":\"\"},\"colorscale\":[[0.0,\"#0d0887\"],[0.1111111111111111,\"#46039f\"],[0.2222222222222222,\"#7201a8\"],[0.3333333333333333,\"#9c179e\"],[0.4444444444444444,\"#bd3786\"],[0.5555555555555556,\"#d8576b\"],[0.6666666666666666,\"#ed7953\"],[0.7777777777777778,\"#fb9f3a\"],[0.8888888888888888,\"#fdca26\"],[1.0,\"#f0f921\"]]}],\"heatmap\":[{\"type\":\"heatmap\",\"colorbar\":{\"outlinewidth\":0,\"ticks\":\"\"},\"colorscale\":[[0.0,\"#0d0887\"],[0.1111111111111111,\"#46039f\"],[0.2222222222222222,\"#7201a8\"],[0.3333333333333333,\"#9c179e\"],[0.4444444444444444,\"#bd3786\"],[0.5555555555555556,\"#d8576b\"],[0.6666666666666666,\"#ed7953\"],[0.7777777777777778,\"#fb9f3a\"],[0.8888888888888888,\"#fdca26\"],[1.0,\"#f0f921\"]]}],\"heatmapgl\":[{\"type\":\"heatmapgl\",\"colorbar\":{\"outlinewidth\":0,\"ticks\":\"\"},\"colorscale\":[[0.0,\"#0d0887\"],[0.1111111111111111,\"#46039f\"],[0.2222222222222222,\"#7201a8\"],[0.3333333333333333,\"#9c179e\"],[0.4444444444444444,\"#bd3786\"],[0.5555555555555556,\"#d8576b\"],[0.6666666666666666,\"#ed7953\"],[0.7777777777777778,\"#fb9f3a\"],[0.8888888888888888,\"#fdca26\"],[1.0,\"#f0f921\"]]}],\"contourcarpet\":[{\"type\":\"contourcarpet\",\"colorbar\":{\"outlinewidth\":0,\"ticks\":\"\"}}],\"contour\":[{\"type\":\"contour\",\"colorbar\":{\"outlinewidth\":0,\"ticks\":\"\"},\"colorscale\":[[0.0,\"#0d0887\"],[0.1111111111111111,\"#46039f\"],[0.2222222222222222,\"#7201a8\"],[0.3333333333333333,\"#9c179e\"],[0.4444444444444444,\"#bd3786\"],[0.5555555555555556,\"#d8576b\"],[0.6666666666666666,\"#ed7953\"],[0.7777777777777778,\"#fb9f3a\"],[0.8888888888888888,\"#fdca26\"],[1.0,\"#f0f921\"]]}],\"surface\":[{\"type\":\"surface\",\"colorbar\":{\"outlinewidth\":0,\"ticks\":\"\"},\"colorscale\":[[0.0,\"#0d0887\"],[0.1111111111111111,\"#46039f\"],[0.2222222222222222,\"#7201a8\"],[0.3333333333333333,\"#9c179e\"],[0.4444444444444444,\"#bd3786\"],[0.5555555555555556,\"#d8576b\"],[0.6666666666666666,\"#ed7953\"],[0.7777777777777778,\"#fb9f3a\"],[0.8888888888888888,\"#fdca26\"],[1.0,\"#f0f921\"]]}],\"mesh3d\":[{\"type\":\"mesh3d\",\"colorbar\":{\"outlinewidth\":0,\"ticks\":\"\"}}],\"scatter\":[{\"fillpattern\":{\"fillmode\":\"overlay\",\"size\":10,\"solidity\":0.2},\"type\":\"scatter\"}],\"parcoords\":[{\"type\":\"parcoords\",\"line\":{\"colorbar\":{\"outlinewidth\":0,\"ticks\":\"\"}}}],\"scatterpolargl\":[{\"type\":\"scatterpolargl\",\"marker\":{\"colorbar\":{\"outlinewidth\":0,\"ticks\":\"\"}}}],\"bar\":[{\"error_x\":{\"color\":\"#2a3f5f\"},\"error_y\":{\"color\":\"#2a3f5f\"},\"marker\":{\"line\":{\"color\":\"#E5ECF6\",\"width\":0.5},\"pattern\":{\"fillmode\":\"overlay\",\"size\":10,\"solidity\":0.2}},\"type\":\"bar\"}],\"scattergeo\":[{\"type\":\"scattergeo\",\"marker\":{\"colorbar\":{\"outlinewidth\":0,\"ticks\":\"\"}}}],\"scatterpolar\":[{\"type\":\"scatterpolar\",\"marker\":{\"colorbar\":{\"outlinewidth\":0,\"ticks\":\"\"}}}],\"histogram\":[{\"marker\":{\"pattern\":{\"fillmode\":\"overlay\",\"size\":10,\"solidity\":0.2}},\"type\":\"histogram\"}],\"scattergl\":[{\"type\":\"scattergl\",\"marker\":{\"colorbar\":{\"outlinewidth\":0,\"ticks\":\"\"}}}],\"scatter3d\":[{\"type\":\"scatter3d\",\"line\":{\"colorbar\":{\"outlinewidth\":0,\"ticks\":\"\"}},\"marker\":{\"colorbar\":{\"outlinewidth\":0,\"ticks\":\"\"}}}],\"scattermapbox\":[{\"type\":\"scattermapbox\",\"marker\":{\"colorbar\":{\"outlinewidth\":0,\"ticks\":\"\"}}}],\"scatterternary\":[{\"type\":\"scatterternary\",\"marker\":{\"colorbar\":{\"outlinewidth\":0,\"ticks\":\"\"}}}],\"scattercarpet\":[{\"type\":\"scattercarpet\",\"marker\":{\"colorbar\":{\"outlinewidth\":0,\"ticks\":\"\"}}}],\"carpet\":[{\"aaxis\":{\"endlinecolor\":\"#2a3f5f\",\"gridcolor\":\"white\",\"linecolor\":\"white\",\"minorgridcolor\":\"white\",\"startlinecolor\":\"#2a3f5f\"},\"baxis\":{\"endlinecolor\":\"#2a3f5f\",\"gridcolor\":\"white\",\"linecolor\":\"white\",\"minorgridcolor\":\"white\",\"startlinecolor\":\"#2a3f5f\"},\"type\":\"carpet\"}],\"table\":[{\"cells\":{\"fill\":{\"color\":\"#EBF0F8\"},\"line\":{\"color\":\"white\"}},\"header\":{\"fill\":{\"color\":\"#C8D4E3\"},\"line\":{\"color\":\"white\"}},\"type\":\"table\"}],\"barpolar\":[{\"marker\":{\"line\":{\"color\":\"#E5ECF6\",\"width\":0.5},\"pattern\":{\"fillmode\":\"overlay\",\"size\":10,\"solidity\":0.2}},\"type\":\"barpolar\"}],\"pie\":[{\"automargin\":true,\"type\":\"pie\"}]},\"layout\":{\"autotypenumbers\":\"strict\",\"colorway\":[\"#636efa\",\"#EF553B\",\"#00cc96\",\"#ab63fa\",\"#FFA15A\",\"#19d3f3\",\"#FF6692\",\"#B6E880\",\"#FF97FF\",\"#FECB52\"],\"font\":{\"color\":\"#2a3f5f\"},\"hovermode\":\"closest\",\"hoverlabel\":{\"align\":\"left\"},\"paper_bgcolor\":\"white\",\"plot_bgcolor\":\"#E5ECF6\",\"polar\":{\"bgcolor\":\"#E5ECF6\",\"angularaxis\":{\"gridcolor\":\"white\",\"linecolor\":\"white\",\"ticks\":\"\"},\"radialaxis\":{\"gridcolor\":\"white\",\"linecolor\":\"white\",\"ticks\":\"\"}},\"ternary\":{\"bgcolor\":\"#E5ECF6\",\"aaxis\":{\"gridcolor\":\"white\",\"linecolor\":\"white\",\"ticks\":\"\"},\"baxis\":{\"gridcolor\":\"white\",\"linecolor\":\"white\",\"ticks\":\"\"},\"caxis\":{\"gridcolor\":\"white\",\"linecolor\":\"white\",\"ticks\":\"\"}},\"coloraxis\":{\"colorbar\":{\"outlinewidth\":0,\"ticks\":\"\"}},\"colorscale\":{\"sequential\":[[0.0,\"#0d0887\"],[0.1111111111111111,\"#46039f\"],[0.2222222222222222,\"#7201a8\"],[0.3333333333333333,\"#9c179e\"],[0.4444444444444444,\"#bd3786\"],[0.5555555555555556,\"#d8576b\"],[0.6666666666666666,\"#ed7953\"],[0.7777777777777778,\"#fb9f3a\"],[0.8888888888888888,\"#fdca26\"],[1.0,\"#f0f921\"]],\"sequentialminus\":[[0.0,\"#0d0887\"],[0.1111111111111111,\"#46039f\"],[0.2222222222222222,\"#7201a8\"],[0.3333333333333333,\"#9c179e\"],[0.4444444444444444,\"#bd3786\"],[0.5555555555555556,\"#d8576b\"],[0.6666666666666666,\"#ed7953\"],[0.7777777777777778,\"#fb9f3a\"],[0.8888888888888888,\"#fdca26\"],[1.0,\"#f0f921\"]],\"diverging\":[[0,\"#8e0152\"],[0.1,\"#c51b7d\"],[0.2,\"#de77ae\"],[0.3,\"#f1b6da\"],[0.4,\"#fde0ef\"],[0.5,\"#f7f7f7\"],[0.6,\"#e6f5d0\"],[0.7,\"#b8e186\"],[0.8,\"#7fbc41\"],[0.9,\"#4d9221\"],[1,\"#276419\"]]},\"xaxis\":{\"gridcolor\":\"white\",\"linecolor\":\"white\",\"ticks\":\"\",\"title\":{\"standoff\":15},\"zerolinecolor\":\"white\",\"automargin\":true,\"zerolinewidth\":2},\"yaxis\":{\"gridcolor\":\"white\",\"linecolor\":\"white\",\"ticks\":\"\",\"title\":{\"standoff\":15},\"zerolinecolor\":\"white\",\"automargin\":true,\"zerolinewidth\":2},\"scene\":{\"xaxis\":{\"backgroundcolor\":\"#E5ECF6\",\"gridcolor\":\"white\",\"linecolor\":\"white\",\"showbackground\":true,\"ticks\":\"\",\"zerolinecolor\":\"white\",\"gridwidth\":2},\"yaxis\":{\"backgroundcolor\":\"#E5ECF6\",\"gridcolor\":\"white\",\"linecolor\":\"white\",\"showbackground\":true,\"ticks\":\"\",\"zerolinecolor\":\"white\",\"gridwidth\":2},\"zaxis\":{\"backgroundcolor\":\"#E5ECF6\",\"gridcolor\":\"white\",\"linecolor\":\"white\",\"showbackground\":true,\"ticks\":\"\",\"zerolinecolor\":\"white\",\"gridwidth\":2}},\"shapedefaults\":{\"line\":{\"color\":\"#2a3f5f\"}},\"annotationdefaults\":{\"arrowcolor\":\"#2a3f5f\",\"arrowhead\":0,\"arrowwidth\":1},\"geo\":{\"bgcolor\":\"white\",\"landcolor\":\"#E5ECF6\",\"subunitcolor\":\"white\",\"showland\":true,\"showlakes\":true,\"lakecolor\":\"white\"},\"title\":{\"x\":0.05},\"mapbox\":{\"style\":\"light\"}}},\"xaxis\":{\"anchor\":\"y\",\"domain\":[0.0,0.18400000000000002],\"title\":{\"text\":\"model_year\"}},\"yaxis\":{\"anchor\":\"x\",\"domain\":[0.0,1.0],\"title\":{\"text\":\"count\"}},\"xaxis2\":{\"anchor\":\"y2\",\"domain\":[0.20400000000000001,0.388],\"matches\":\"x\",\"title\":{\"text\":\"model_year\"}},\"yaxis2\":{\"anchor\":\"x2\",\"domain\":[0.0,1.0],\"matches\":\"y\",\"showticklabels\":false},\"xaxis3\":{\"anchor\":\"y3\",\"domain\":[0.40800000000000003,0.5920000000000001],\"matches\":\"x\",\"title\":{\"text\":\"model_year\"}},\"yaxis3\":{\"anchor\":\"x3\",\"domain\":[0.0,1.0],\"matches\":\"y\",\"showticklabels\":false},\"xaxis4\":{\"anchor\":\"y4\",\"domain\":[0.6120000000000001,0.7960000000000002],\"matches\":\"x\",\"title\":{\"text\":\"model_year\"}},\"yaxis4\":{\"anchor\":\"x4\",\"domain\":[0.0,1.0],\"matches\":\"y\",\"showticklabels\":false},\"xaxis5\":{\"anchor\":\"y5\",\"domain\":[0.8160000000000001,1.0],\"matches\":\"x\",\"title\":{\"text\":\"model_year\"}},\"yaxis5\":{\"anchor\":\"x5\",\"domain\":[0.0,1.0],\"matches\":\"y\",\"showticklabels\":false},\"annotations\":[{\"font\":{},\"showarrow\":false,\"text\":\"cylinders=3\",\"x\":0.09200000000000001,\"xanchor\":\"center\",\"xref\":\"paper\",\"y\":1.0,\"yanchor\":\"bottom\",\"yref\":\"paper\"},{\"font\":{},\"showarrow\":false,\"text\":\"cylinders=4\",\"x\":0.29600000000000004,\"xanchor\":\"center\",\"xref\":\"paper\",\"y\":1.0,\"yanchor\":\"bottom\",\"yref\":\"paper\"},{\"font\":{},\"showarrow\":false,\"text\":\"cylinders=5\",\"x\":0.5,\"xanchor\":\"center\",\"xref\":\"paper\",\"y\":1.0,\"yanchor\":\"bottom\",\"yref\":\"paper\"},{\"font\":{},\"showarrow\":false,\"text\":\"cylinders=6\",\"x\":0.7040000000000002,\"xanchor\":\"center\",\"xref\":\"paper\",\"y\":1.0,\"yanchor\":\"bottom\",\"yref\":\"paper\"},{\"font\":{},\"showarrow\":false,\"text\":\"cylinders=8\",\"x\":0.908,\"xanchor\":\"center\",\"xref\":\"paper\",\"y\":1.0,\"yanchor\":\"bottom\",\"yref\":\"paper\"}],\"legend\":{\"title\":{\"text\":\"mpg\"},\"tracegroupgap\":0},\"margin\":{\"t\":60},\"barmode\":\"group\"},                        {\"responsive\": true}                    ).then(function(){\n",
       "                            \n",
       "var gd = document.getElementById('be65d610-1352-46d4-b222-4cc080feeda7');\n",
       "var x = new MutationObserver(function (mutations, observer) {{\n",
       "        var display = window.getComputedStyle(gd).display;\n",
       "        if (!display || display === 'none') {{\n",
       "            console.log([gd, 'removed!']);\n",
       "            Plotly.purge(gd);\n",
       "            observer.disconnect();\n",
       "        }}\n",
       "}});\n",
       "\n",
       "// Listen for the removal of the full notebook cells\n",
       "var notebookContainer = gd.closest('#notebook-container');\n",
       "if (notebookContainer) {{\n",
       "    x.observe(notebookContainer, {childList: true});\n",
       "}}\n",
       "\n",
       "// Listen for the clearing of the current output cell\n",
       "var outputEl = gd.closest('.output');\n",
       "if (outputEl) {{\n",
       "    x.observe(outputEl, {childList: true});\n",
       "}}\n",
       "\n",
       "                        })                };                });            </script>        </div>"
      ]
     },
     "metadata": {},
     "output_type": "display_data"
    }
   ],
   "source": [
    "auto_mpg.sort_values(by='cylinders', inplace=True)\n",
    "px.histogram(data_frame=auto_mpg, facet_col='cylinders', x='model_year', color='mpg', **HISTROGRAM_KWARGS).show()"
   ]
  },
  {
   "cell_type": "markdown",
   "metadata": {},
   "source": [
    "## XGBoost: Machine Learning Magic\n",
    "\n",
    "TODO: Make this explanation more accessible.\n",
    "\n",
    "GBoost often achieves:\n",
    "10-30% better accuracy than basic decision trees\n",
    "Training speeds 10x faster than other boosting methods\n",
    "This is why it's popular in:\n",
    "Kaggle competitions\n",
    "Financial predictions\n",
    "Recommendation systems\n",
    "\n",
    "\n",
    "#### 1. Sequential Learning (Boosting)\n",
    "XGBoost builds trees sequentially, where each new tree focuses on correcting the mistakes of the combined previous trees. This is called \"gradient boosting\":\n",
    "\n",
    "- Each tree learns to predict the residual errors from prior trees\n",
    "- Predictions are combined additively, weighted by a learning rate\n",
    "- The learning rate (typically < 0.1) controls how much each new tree contributes\n",
    "- This process continues until prediction improvements plateau\n",
    "\n",
    "#### 2. Preventing Overfitting\n",
    "XGBoost implements multiple techniques to maintain good generalization:\n",
    "\n",
    "1. **Tree Pruning**: \n",
    "   - Evaluates the gain of each potential split\n",
    "   - Removes splits that don't meet a minimum gain threshold\n",
    "   - Works backwards from leaf nodes to root\n",
    "\n",
    "2. **Regularization**:\n",
    "   - Penalizes model complexity through both number of leaves and prediction weights\n",
    "   - Balances between fitting training data and maintaining simplicity\n",
    "   - Automatically handles feature selection\n",
    "\n",
    "#### 3. System Optimizations\n",
    "XGBoost achieves superior training speed through:\n",
    "\n",
    "1. **Parallel Processing**:\n",
    "   - Parallelizes feature-wise split finding\n",
    "   - Distributes tree construction across available cores\n",
    "   - Supports distributed computing environments\n",
    "\n",
    "2. **Memory Optimization**:\n",
    "   - Block structure for out-of-core computation\n",
    "   - Cache-aware access patterns\n",
    "   - Compressed column storage format\n",
    "\n",
    "These innovations combine to create an algorithm that's both more accurate and faster than traditional gradient boosting implementations, while requiring minimal hyperparameter tuning to achieve good results."
   ]
  },
  {
   "cell_type": "code",
   "execution_count": 32,
   "metadata": {},
   "outputs": [
    {
     "name": "stdout",
     "output_type": "stream",
     "text": [
      "XGBoost Training Accuracy: 1.000\n",
      "XGBoost Testing Accuracy: 0.937\n"
     ]
    }
   ],
   "source": [
    "from xgboost import XGBClassifier\n",
    "import numpy as np\n",
    "\n",
    "# Convert -1 labels to 0 for XGBoost\n",
    "y_train_xgb = np.where(y_train == -1, 0, y_train)\n",
    "y_test_xgb = np.where(y_test == -1, 0, y_test)\n",
    "\n",
    "# Train XGBoost\n",
    "xgb = XGBClassifier(n_estimators=100, random_state=42)\n",
    "xgb.fit(X_train, y_train_xgb)\n",
    "\n",
    "# Get accuracy\n",
    "xgb_train_accuracy = xgb.score(X_train, y_train_xgb)\n",
    "xgb_test_accuracy = xgb.score(X_test, y_test_xgb)\n",
    "\n",
    "print(f\"XGBoost Training Accuracy: {xgb_train_accuracy:.3f}\")\n",
    "print(f\"XGBoost Testing Accuracy: {xgb_test_accuracy:.3f}\")"
   ]
  }
 ],
 "metadata": {
  "kernelspec": {
   "display_name": ".venv",
   "language": "python",
   "name": "python3"
  },
  "language_info": {
   "codemirror_mode": {
    "name": "ipython",
    "version": 3
   },
   "file_extension": ".py",
   "mimetype": "text/x-python",
   "name": "python",
   "nbconvert_exporter": "python",
   "pygments_lexer": "ipython3",
   "version": "3.10.12"
  }
 },
 "nbformat": 4,
 "nbformat_minor": 2
}
